{
 "cells": [
  {
   "cell_type": "code",
   "execution_count": 1,
   "outputs": [],
   "source": [
    "import pandas as pd\n",
    "import numpy as np\n",
    "import os\n",
    "import shutil\n",
    "import ast\n",
    "from tqdm import tqdm"
   ],
   "metadata": {
    "collapsed": false
   }
  },
  {
   "cell_type": "code",
   "execution_count": 2,
   "metadata": {
    "collapsed": true
   },
   "outputs": [
    {
     "data": {
      "text/plain": "      Unnamed: 0            id          type  \\\n0              0  0033bbc76b6b  blood_vessel   \n1              1  0033bbc76b6b  blood_vessel   \n2              2  0033bbc76b6b  blood_vessel   \n3              3  00656c6f2690  blood_vessel   \n4              4  00656c6f2690  blood_vessel   \n...          ...           ...           ...   \n3493        3493  fd2437954fd8  blood_vessel   \n3494        3494  fd2437954fd8  blood_vessel   \n3495        3495  fd2437954fd8  blood_vessel   \n3496        3496  fe248458ea89  blood_vessel   \n3497        3497  fe248458ea89  blood_vessel   \n\n                                            coordinates  \\\n0     [[[169, 228], [168, 228], [167, 228], [166, 22...   \n1     [[[1, 59], [0, 59], [0, 58], [0, 57], [0, 56],...   \n2     [[[406, 511], [405, 511], [404, 511], [403, 51...   \n3     [[[511, 426], [511, 426], [510, 426], [510, 42...   \n4     [[[157, 404], [156, 404], [155, 404], [154, 40...   \n...                                                 ...   \n3493  [[[481, 454], [480, 454], [479, 454], [478, 45...   \n3494  [[[416, 511], [415, 511], [414, 511], [413, 51...   \n3495  [[[18, 362], [17, 362], [16, 362], [16, 361], ...   \n3496  [[[131, 501], [130, 501], [129, 501], [128, 50...   \n3497  [[[459, 511], [458, 511], [457, 511], [456, 51...   \n\n                                                   mask  \\\n0     [[0 0 0 ... 0 0 0]\\n [0 0 0 ... 0 0 0]\\n [0 0 ...   \n1     [[0 0 0 ... 0 0 0]\\n [0 0 0 ... 0 0 0]\\n [0 0 ...   \n2     [[0 0 0 ... 0 0 0]\\n [0 0 0 ... 0 0 0]\\n [0 0 ...   \n3     [[0 0 0 ... 0 0 0]\\n [0 0 0 ... 0 0 0]\\n [0 0 ...   \n4     [[0 0 0 ... 0 0 0]\\n [0 0 0 ... 0 0 0]\\n [0 0 ...   \n...                                                 ...   \n3493  [[0 0 0 ... 0 0 0]\\n [0 0 0 ... 0 0 0]\\n [0 0 ...   \n3494  [[0 0 0 ... 0 0 0]\\n [0 0 0 ... 0 0 0]\\n [0 0 ...   \n3495  [[0 0 0 ... 0 0 0]\\n [0 0 0 ... 0 0 0]\\n [0 0 ...   \n3496  [[0 0 0 ... 0 0 0]\\n [0 0 0 ... 0 0 0]\\n [0 0 ...   \n3497  [[0 0 0 ... 0 0 0]\\n [0 0 0 ... 0 0 0]\\n [0 0 ...   \n\n                                                    rle  source_wsi      i  \\\n0     ['73387 16 73897 28 74401 38 74911 43 75420 49...           1  10240   \n1     ['30 31 541 32 1053 31 1566 27 2079 25 2594 21...           1  10240   \n2     ['190976 1 191485 4 191995 6 192506 7 193017 8...           1  10240   \n3     ['257947 6 258457 12 258967 16 259478 18 25998...           1  10240   \n4     ['58240 8 58750 13 59261 15 59772 16 60284 17 ...           1  10240   \n...                                                 ...         ...    ...   \n3493  ['238002 14 238510 20 239012 32 239520 37 2400...           1   5120   \n3494  ['191998 3 192502 11 193012 13 193522 15 19403...           1   5120   \n3495  ['3365 50 3874 66 4385 70 4896 72 5407 74 5918...           1   5120   \n3496  ['61412 4 61922 8 62432 10 62444 6 62943 21 63...           1  10240   \n3497  ['202240 1 202749 4 203242 23 203752 25 204263...           1  10240   \n\n          j  fold  \n0     43008     3  \n1     43008     4  \n2     43008     4  \n3     46080     0  \n4     46080     3  \n...     ...   ...  \n3493  39424     4  \n3494  39424     4  \n3495  39424     4  \n3496  44032     3  \n3497  44032     4  \n\n[3498 rows x 10 columns]",
      "text/html": "<div>\n<style scoped>\n    .dataframe tbody tr th:only-of-type {\n        vertical-align: middle;\n    }\n\n    .dataframe tbody tr th {\n        vertical-align: top;\n    }\n\n    .dataframe thead th {\n        text-align: right;\n    }\n</style>\n<table border=\"1\" class=\"dataframe\">\n  <thead>\n    <tr style=\"text-align: right;\">\n      <th></th>\n      <th>Unnamed: 0</th>\n      <th>id</th>\n      <th>type</th>\n      <th>coordinates</th>\n      <th>mask</th>\n      <th>rle</th>\n      <th>source_wsi</th>\n      <th>i</th>\n      <th>j</th>\n      <th>fold</th>\n    </tr>\n  </thead>\n  <tbody>\n    <tr>\n      <th>0</th>\n      <td>0</td>\n      <td>0033bbc76b6b</td>\n      <td>blood_vessel</td>\n      <td>[[[169, 228], [168, 228], [167, 228], [166, 22...</td>\n      <td>[[0 0 0 ... 0 0 0]\\n [0 0 0 ... 0 0 0]\\n [0 0 ...</td>\n      <td>['73387 16 73897 28 74401 38 74911 43 75420 49...</td>\n      <td>1</td>\n      <td>10240</td>\n      <td>43008</td>\n      <td>3</td>\n    </tr>\n    <tr>\n      <th>1</th>\n      <td>1</td>\n      <td>0033bbc76b6b</td>\n      <td>blood_vessel</td>\n      <td>[[[1, 59], [0, 59], [0, 58], [0, 57], [0, 56],...</td>\n      <td>[[0 0 0 ... 0 0 0]\\n [0 0 0 ... 0 0 0]\\n [0 0 ...</td>\n      <td>['30 31 541 32 1053 31 1566 27 2079 25 2594 21...</td>\n      <td>1</td>\n      <td>10240</td>\n      <td>43008</td>\n      <td>4</td>\n    </tr>\n    <tr>\n      <th>2</th>\n      <td>2</td>\n      <td>0033bbc76b6b</td>\n      <td>blood_vessel</td>\n      <td>[[[406, 511], [405, 511], [404, 511], [403, 51...</td>\n      <td>[[0 0 0 ... 0 0 0]\\n [0 0 0 ... 0 0 0]\\n [0 0 ...</td>\n      <td>['190976 1 191485 4 191995 6 192506 7 193017 8...</td>\n      <td>1</td>\n      <td>10240</td>\n      <td>43008</td>\n      <td>4</td>\n    </tr>\n    <tr>\n      <th>3</th>\n      <td>3</td>\n      <td>00656c6f2690</td>\n      <td>blood_vessel</td>\n      <td>[[[511, 426], [511, 426], [510, 426], [510, 42...</td>\n      <td>[[0 0 0 ... 0 0 0]\\n [0 0 0 ... 0 0 0]\\n [0 0 ...</td>\n      <td>['257947 6 258457 12 258967 16 259478 18 25998...</td>\n      <td>1</td>\n      <td>10240</td>\n      <td>46080</td>\n      <td>0</td>\n    </tr>\n    <tr>\n      <th>4</th>\n      <td>4</td>\n      <td>00656c6f2690</td>\n      <td>blood_vessel</td>\n      <td>[[[157, 404], [156, 404], [155, 404], [154, 40...</td>\n      <td>[[0 0 0 ... 0 0 0]\\n [0 0 0 ... 0 0 0]\\n [0 0 ...</td>\n      <td>['58240 8 58750 13 59261 15 59772 16 60284 17 ...</td>\n      <td>1</td>\n      <td>10240</td>\n      <td>46080</td>\n      <td>3</td>\n    </tr>\n    <tr>\n      <th>...</th>\n      <td>...</td>\n      <td>...</td>\n      <td>...</td>\n      <td>...</td>\n      <td>...</td>\n      <td>...</td>\n      <td>...</td>\n      <td>...</td>\n      <td>...</td>\n      <td>...</td>\n    </tr>\n    <tr>\n      <th>3493</th>\n      <td>3493</td>\n      <td>fd2437954fd8</td>\n      <td>blood_vessel</td>\n      <td>[[[481, 454], [480, 454], [479, 454], [478, 45...</td>\n      <td>[[0 0 0 ... 0 0 0]\\n [0 0 0 ... 0 0 0]\\n [0 0 ...</td>\n      <td>['238002 14 238510 20 239012 32 239520 37 2400...</td>\n      <td>1</td>\n      <td>5120</td>\n      <td>39424</td>\n      <td>4</td>\n    </tr>\n    <tr>\n      <th>3494</th>\n      <td>3494</td>\n      <td>fd2437954fd8</td>\n      <td>blood_vessel</td>\n      <td>[[[416, 511], [415, 511], [414, 511], [413, 51...</td>\n      <td>[[0 0 0 ... 0 0 0]\\n [0 0 0 ... 0 0 0]\\n [0 0 ...</td>\n      <td>['191998 3 192502 11 193012 13 193522 15 19403...</td>\n      <td>1</td>\n      <td>5120</td>\n      <td>39424</td>\n      <td>4</td>\n    </tr>\n    <tr>\n      <th>3495</th>\n      <td>3495</td>\n      <td>fd2437954fd8</td>\n      <td>blood_vessel</td>\n      <td>[[[18, 362], [17, 362], [16, 362], [16, 361], ...</td>\n      <td>[[0 0 0 ... 0 0 0]\\n [0 0 0 ... 0 0 0]\\n [0 0 ...</td>\n      <td>['3365 50 3874 66 4385 70 4896 72 5407 74 5918...</td>\n      <td>1</td>\n      <td>5120</td>\n      <td>39424</td>\n      <td>4</td>\n    </tr>\n    <tr>\n      <th>3496</th>\n      <td>3496</td>\n      <td>fe248458ea89</td>\n      <td>blood_vessel</td>\n      <td>[[[131, 501], [130, 501], [129, 501], [128, 50...</td>\n      <td>[[0 0 0 ... 0 0 0]\\n [0 0 0 ... 0 0 0]\\n [0 0 ...</td>\n      <td>['61412 4 61922 8 62432 10 62444 6 62943 21 63...</td>\n      <td>1</td>\n      <td>10240</td>\n      <td>44032</td>\n      <td>3</td>\n    </tr>\n    <tr>\n      <th>3497</th>\n      <td>3497</td>\n      <td>fe248458ea89</td>\n      <td>blood_vessel</td>\n      <td>[[[459, 511], [458, 511], [457, 511], [456, 51...</td>\n      <td>[[0 0 0 ... 0 0 0]\\n [0 0 0 ... 0 0 0]\\n [0 0 ...</td>\n      <td>['202240 1 202749 4 203242 23 203752 25 204263...</td>\n      <td>1</td>\n      <td>10240</td>\n      <td>44032</td>\n      <td>4</td>\n    </tr>\n  </tbody>\n</table>\n<p>3498 rows × 10 columns</p>\n</div>"
     },
     "execution_count": 2,
     "metadata": {},
     "output_type": "execute_result"
    }
   ],
   "source": [
    "preprocessed_df_src = r\"C:\\Users\\Kevin\\Desktop\\hubmap\\obj_detect_bvonly_cv_train_valid.xlsx\"\n",
    "preprocessed_df = pd.read_excel(preprocessed_df_src) # this is from preprocessing_df_objdetect.ipynb\n",
    "preprocessed_df"
   ]
  },
  {
   "cell_type": "markdown",
   "source": [
    "### To train our yolov8 model, we need to make a config.yaml, which needs to contain paths for the train and valid dataset images (we don't have a test, that's on kaggle!). Train should be: datasets/train/images, and datasets/train/labels, Valid should be: datasets/val/images, and datasets/val/labels!"
   ],
   "metadata": {
    "collapsed": false
   }
  },
  {
   "cell_type": "code",
   "execution_count": 3,
   "outputs": [],
   "source": [
    "yolov8_src = r\"C:\\Users\\Kevin\\Desktop\\hubmap\\yolov8\" # change this to wherever!\n",
    "# make directory first:\n",
    "train_img_src = os.path.join(yolov8_src,\"train\",\"images\")\n",
    "train_label_src = os.path.join(yolov8_src,\"train\",\"labels\")\n",
    "val_img_src = os.path.join(yolov8_src,\"val\",\"images\")\n",
    "val_label_src = os.path.join(yolov8_src,\"val\",\"labels\")\n",
    "if not os.path.exists(train_img_src):\n",
    "    os.mkdir(train_img_src)\n",
    "if not os.path.exists(train_label_src):\n",
    "    os.mkdir(train_label_src)\n",
    "if not os.path.exists(val_img_src):\n",
    "    os.mkdir(val_img_src)\n",
    "if not os.path.exists(val_label_src):\n",
    "    os.mkdir(val_label_src)"
   ],
   "metadata": {
    "collapsed": false
   }
  },
  {
   "cell_type": "code",
   "execution_count": 4,
   "outputs": [
    {
     "data": {
      "text/plain": "      Unnamed: 0            id          type  \\\n3              3  00656c6f2690  blood_vessel   \n10            10  00656c6f2690  blood_vessel   \n12            12  0067d5ad2250  blood_vessel   \n21            21  00da70813521  blood_vessel   \n29            29  0596bfb19322  blood_vessel   \n...          ...           ...           ...   \n3470        3470  f86347534ec1  blood_vessel   \n3478        3478  f86347534ec1  blood_vessel   \n3486        3486  faba1bf818ae  blood_vessel   \n3489        3489  fc6def641612  blood_vessel   \n3492        3492  fd2437954fd8  blood_vessel   \n\n                                            coordinates  \\\n3     [[[511, 426], [511, 426], [510, 426], [510, 42...   \n10    [[[315, 321], [314, 321], [313, 321], [312, 32...   \n12    [[[318, 511], [317, 511], [316, 511], [315, 51...   \n21    [[[375, 91], [374, 91], [373, 91], [372, 91], ...   \n29    [[[221, 313], [220, 313], [220, 312], [219, 31...   \n...                                                 ...   \n3470  [[[102, 427], [101, 427], [100, 427], [100, 42...   \n3478  [[[370, 314], [369, 314], [368, 314], [367, 31...   \n3486  [[[164, 64], [163, 64], [162, 64], [161, 64], ...   \n3489  [[[66, 511], [65, 511], [64, 511], [63, 511], ...   \n3492  [[[210, 511], [209, 511], [208, 511], [207, 51...   \n\n                                                   mask  \\\n3     [[0 0 0 ... 0 0 0]\\n [0 0 0 ... 0 0 0]\\n [0 0 ...   \n10    [[0 0 0 ... 0 0 0]\\n [0 0 0 ... 0 0 0]\\n [0 0 ...   \n12    [[0 0 0 ... 0 0 0]\\n [0 0 0 ... 0 0 0]\\n [0 0 ...   \n21    [[0 0 0 ... 0 0 0]\\n [0 0 0 ... 0 0 0]\\n [0 0 ...   \n29    [[0 0 0 ... 0 0 0]\\n [0 0 0 ... 0 0 0]\\n [0 0 ...   \n...                                                 ...   \n3470  [[0 0 0 ... 0 0 0]\\n [0 0 0 ... 0 0 0]\\n [0 0 ...   \n3478  [[0 0 0 ... 0 0 0]\\n [0 0 0 ... 0 0 0]\\n [0 0 ...   \n3486  [[0 0 0 ... 0 0 0]\\n [0 0 0 ... 0 0 0]\\n [0 0 ...   \n3489  [[0 0 0 ... 0 0 0]\\n [0 0 0 ... 0 0 0]\\n [0 0 ...   \n3492  [[0 0 0 ... 0 0 0]\\n [0 0 0 ... 0 0 0]\\n [0 0 ...   \n\n                                                    rle  source_wsi      i  \\\n3     ['257947 6 258457 12 258967 16 259478 18 25998...           1  10240   \n10    ['139054 10 139562 16 140073 18 140582 21 1410...           1  10240   \n12    ['125952 1 126463 2 126973 4 127484 5 127995 6...           2  23552   \n21    ['172618 6 173128 10 173639 12 174150 14 17466...           1  10240   \n29    ['103205 9 103709 24 104217 30 104725 35 10523...           1   7680   \n...                                                 ...         ...    ...   \n3470  ['43912 7 44422 23 44933 26 45444 29 45956 30 ...           2  16896   \n3478  ['186679 5 187188 8 187699 9 188210 10 188721 ...           2  16896   \n3486  ['62978 1 63489 5 64001 9 64513 10 65025 12 65...           1   3072   \n3489  ['9727 2 10236 5 10744 9 11252 13 11761 16 122...           1   7680   \n3492  ['89088 1 89600 1 90111 2 90622 3 91133 4 9164...           1   5120   \n\n          j  fold  \n3     46080     0  \n10    46080     0  \n12    22528     0  \n21    46592     0  \n29    40448     0  \n...     ...   ...  \n3470  20992     0  \n3478  20992     0  \n3486  39424     0  \n3489  40960     0  \n3492  39424     0  \n\n[700 rows x 10 columns]",
      "text/html": "<div>\n<style scoped>\n    .dataframe tbody tr th:only-of-type {\n        vertical-align: middle;\n    }\n\n    .dataframe tbody tr th {\n        vertical-align: top;\n    }\n\n    .dataframe thead th {\n        text-align: right;\n    }\n</style>\n<table border=\"1\" class=\"dataframe\">\n  <thead>\n    <tr style=\"text-align: right;\">\n      <th></th>\n      <th>Unnamed: 0</th>\n      <th>id</th>\n      <th>type</th>\n      <th>coordinates</th>\n      <th>mask</th>\n      <th>rle</th>\n      <th>source_wsi</th>\n      <th>i</th>\n      <th>j</th>\n      <th>fold</th>\n    </tr>\n  </thead>\n  <tbody>\n    <tr>\n      <th>3</th>\n      <td>3</td>\n      <td>00656c6f2690</td>\n      <td>blood_vessel</td>\n      <td>[[[511, 426], [511, 426], [510, 426], [510, 42...</td>\n      <td>[[0 0 0 ... 0 0 0]\\n [0 0 0 ... 0 0 0]\\n [0 0 ...</td>\n      <td>['257947 6 258457 12 258967 16 259478 18 25998...</td>\n      <td>1</td>\n      <td>10240</td>\n      <td>46080</td>\n      <td>0</td>\n    </tr>\n    <tr>\n      <th>10</th>\n      <td>10</td>\n      <td>00656c6f2690</td>\n      <td>blood_vessel</td>\n      <td>[[[315, 321], [314, 321], [313, 321], [312, 32...</td>\n      <td>[[0 0 0 ... 0 0 0]\\n [0 0 0 ... 0 0 0]\\n [0 0 ...</td>\n      <td>['139054 10 139562 16 140073 18 140582 21 1410...</td>\n      <td>1</td>\n      <td>10240</td>\n      <td>46080</td>\n      <td>0</td>\n    </tr>\n    <tr>\n      <th>12</th>\n      <td>12</td>\n      <td>0067d5ad2250</td>\n      <td>blood_vessel</td>\n      <td>[[[318, 511], [317, 511], [316, 511], [315, 51...</td>\n      <td>[[0 0 0 ... 0 0 0]\\n [0 0 0 ... 0 0 0]\\n [0 0 ...</td>\n      <td>['125952 1 126463 2 126973 4 127484 5 127995 6...</td>\n      <td>2</td>\n      <td>23552</td>\n      <td>22528</td>\n      <td>0</td>\n    </tr>\n    <tr>\n      <th>21</th>\n      <td>21</td>\n      <td>00da70813521</td>\n      <td>blood_vessel</td>\n      <td>[[[375, 91], [374, 91], [373, 91], [372, 91], ...</td>\n      <td>[[0 0 0 ... 0 0 0]\\n [0 0 0 ... 0 0 0]\\n [0 0 ...</td>\n      <td>['172618 6 173128 10 173639 12 174150 14 17466...</td>\n      <td>1</td>\n      <td>10240</td>\n      <td>46592</td>\n      <td>0</td>\n    </tr>\n    <tr>\n      <th>29</th>\n      <td>29</td>\n      <td>0596bfb19322</td>\n      <td>blood_vessel</td>\n      <td>[[[221, 313], [220, 313], [220, 312], [219, 31...</td>\n      <td>[[0 0 0 ... 0 0 0]\\n [0 0 0 ... 0 0 0]\\n [0 0 ...</td>\n      <td>['103205 9 103709 24 104217 30 104725 35 10523...</td>\n      <td>1</td>\n      <td>7680</td>\n      <td>40448</td>\n      <td>0</td>\n    </tr>\n    <tr>\n      <th>...</th>\n      <td>...</td>\n      <td>...</td>\n      <td>...</td>\n      <td>...</td>\n      <td>...</td>\n      <td>...</td>\n      <td>...</td>\n      <td>...</td>\n      <td>...</td>\n      <td>...</td>\n    </tr>\n    <tr>\n      <th>3470</th>\n      <td>3470</td>\n      <td>f86347534ec1</td>\n      <td>blood_vessel</td>\n      <td>[[[102, 427], [101, 427], [100, 427], [100, 42...</td>\n      <td>[[0 0 0 ... 0 0 0]\\n [0 0 0 ... 0 0 0]\\n [0 0 ...</td>\n      <td>['43912 7 44422 23 44933 26 45444 29 45956 30 ...</td>\n      <td>2</td>\n      <td>16896</td>\n      <td>20992</td>\n      <td>0</td>\n    </tr>\n    <tr>\n      <th>3478</th>\n      <td>3478</td>\n      <td>f86347534ec1</td>\n      <td>blood_vessel</td>\n      <td>[[[370, 314], [369, 314], [368, 314], [367, 31...</td>\n      <td>[[0 0 0 ... 0 0 0]\\n [0 0 0 ... 0 0 0]\\n [0 0 ...</td>\n      <td>['186679 5 187188 8 187699 9 188210 10 188721 ...</td>\n      <td>2</td>\n      <td>16896</td>\n      <td>20992</td>\n      <td>0</td>\n    </tr>\n    <tr>\n      <th>3486</th>\n      <td>3486</td>\n      <td>faba1bf818ae</td>\n      <td>blood_vessel</td>\n      <td>[[[164, 64], [163, 64], [162, 64], [161, 64], ...</td>\n      <td>[[0 0 0 ... 0 0 0]\\n [0 0 0 ... 0 0 0]\\n [0 0 ...</td>\n      <td>['62978 1 63489 5 64001 9 64513 10 65025 12 65...</td>\n      <td>1</td>\n      <td>3072</td>\n      <td>39424</td>\n      <td>0</td>\n    </tr>\n    <tr>\n      <th>3489</th>\n      <td>3489</td>\n      <td>fc6def641612</td>\n      <td>blood_vessel</td>\n      <td>[[[66, 511], [65, 511], [64, 511], [63, 511], ...</td>\n      <td>[[0 0 0 ... 0 0 0]\\n [0 0 0 ... 0 0 0]\\n [0 0 ...</td>\n      <td>['9727 2 10236 5 10744 9 11252 13 11761 16 122...</td>\n      <td>1</td>\n      <td>7680</td>\n      <td>40960</td>\n      <td>0</td>\n    </tr>\n    <tr>\n      <th>3492</th>\n      <td>3492</td>\n      <td>fd2437954fd8</td>\n      <td>blood_vessel</td>\n      <td>[[[210, 511], [209, 511], [208, 511], [207, 51...</td>\n      <td>[[0 0 0 ... 0 0 0]\\n [0 0 0 ... 0 0 0]\\n [0 0 ...</td>\n      <td>['89088 1 89600 1 90111 2 90622 3 91133 4 9164...</td>\n      <td>1</td>\n      <td>5120</td>\n      <td>39424</td>\n      <td>0</td>\n    </tr>\n  </tbody>\n</table>\n<p>700 rows × 10 columns</p>\n</div>"
     },
     "execution_count": 4,
     "metadata": {},
     "output_type": "execute_result"
    }
   ],
   "source": [
    "### Here, let's try fold 0 = fold 0 as validation dataset and the rest as training (80-20 split)\n",
    "val_df = preprocessed_df[preprocessed_df[\"fold\"] == 0]\n",
    "val_df"
   ],
   "metadata": {
    "collapsed": false
   }
  },
  {
   "cell_type": "code",
   "execution_count": 5,
   "outputs": [
    {
     "data": {
      "text/plain": "      Unnamed: 0            id          type  \\\n0              0  0033bbc76b6b  blood_vessel   \n1              1  0033bbc76b6b  blood_vessel   \n2              2  0033bbc76b6b  blood_vessel   \n4              4  00656c6f2690  blood_vessel   \n5              5  00656c6f2690  blood_vessel   \n...          ...           ...           ...   \n3493        3493  fd2437954fd8  blood_vessel   \n3494        3494  fd2437954fd8  blood_vessel   \n3495        3495  fd2437954fd8  blood_vessel   \n3496        3496  fe248458ea89  blood_vessel   \n3497        3497  fe248458ea89  blood_vessel   \n\n                                            coordinates  \\\n0     [[[169, 228], [168, 228], [167, 228], [166, 22...   \n1     [[[1, 59], [0, 59], [0, 58], [0, 57], [0, 56],...   \n2     [[[406, 511], [405, 511], [404, 511], [403, 51...   \n4     [[[157, 404], [156, 404], [155, 404], [154, 40...   \n5     [[[39, 371], [38, 371], [37, 371], [36, 371], ...   \n...                                                 ...   \n3493  [[[481, 454], [480, 454], [479, 454], [478, 45...   \n3494  [[[416, 511], [415, 511], [414, 511], [413, 51...   \n3495  [[[18, 362], [17, 362], [16, 362], [16, 361], ...   \n3496  [[[131, 501], [130, 501], [129, 501], [128, 50...   \n3497  [[[459, 511], [458, 511], [457, 511], [456, 51...   \n\n                                                   mask  \\\n0     [[0 0 0 ... 0 0 0]\\n [0 0 0 ... 0 0 0]\\n [0 0 ...   \n1     [[0 0 0 ... 0 0 0]\\n [0 0 0 ... 0 0 0]\\n [0 0 ...   \n2     [[0 0 0 ... 0 0 0]\\n [0 0 0 ... 0 0 0]\\n [0 0 ...   \n4     [[0 0 0 ... 0 0 0]\\n [0 0 0 ... 0 0 0]\\n [0 0 ...   \n5     [[0 0 0 ... 0 0 0]\\n [0 0 0 ... 0 0 0]\\n [0 0 ...   \n...                                                 ...   \n3493  [[0 0 0 ... 0 0 0]\\n [0 0 0 ... 0 0 0]\\n [0 0 ...   \n3494  [[0 0 0 ... 0 0 0]\\n [0 0 0 ... 0 0 0]\\n [0 0 ...   \n3495  [[0 0 0 ... 0 0 0]\\n [0 0 0 ... 0 0 0]\\n [0 0 ...   \n3496  [[0 0 0 ... 0 0 0]\\n [0 0 0 ... 0 0 0]\\n [0 0 ...   \n3497  [[0 0 0 ... 0 0 0]\\n [0 0 0 ... 0 0 0]\\n [0 0 ...   \n\n                                                    rle  source_wsi      i  \\\n0     ['73387 16 73897 28 74401 38 74911 43 75420 49...           1  10240   \n1     ['30 31 541 32 1053 31 1566 27 2079 25 2594 21...           1  10240   \n2     ['190976 1 191485 4 191995 6 192506 7 193017 8...           1  10240   \n4     ['58240 8 58750 13 59261 15 59772 16 60284 17 ...           1  10240   \n5     ['1365 14 1874 20 2383 26 2894 28 3405 30 3917...           1  10240   \n...                                                 ...         ...    ...   \n3493  ['238002 14 238510 20 239012 32 239520 37 2400...           1   5120   \n3494  ['191998 3 192502 11 193012 13 193522 15 19403...           1   5120   \n3495  ['3365 50 3874 66 4385 70 4896 72 5407 74 5918...           1   5120   \n3496  ['61412 4 61922 8 62432 10 62444 6 62943 21 63...           1  10240   \n3497  ['202240 1 202749 4 203242 23 203752 25 204263...           1  10240   \n\n          j  fold  \n0     43008     3  \n1     43008     4  \n2     43008     4  \n4     46080     3  \n5     46080     2  \n...     ...   ...  \n3493  39424     4  \n3494  39424     4  \n3495  39424     4  \n3496  44032     3  \n3497  44032     4  \n\n[2798 rows x 10 columns]",
      "text/html": "<div>\n<style scoped>\n    .dataframe tbody tr th:only-of-type {\n        vertical-align: middle;\n    }\n\n    .dataframe tbody tr th {\n        vertical-align: top;\n    }\n\n    .dataframe thead th {\n        text-align: right;\n    }\n</style>\n<table border=\"1\" class=\"dataframe\">\n  <thead>\n    <tr style=\"text-align: right;\">\n      <th></th>\n      <th>Unnamed: 0</th>\n      <th>id</th>\n      <th>type</th>\n      <th>coordinates</th>\n      <th>mask</th>\n      <th>rle</th>\n      <th>source_wsi</th>\n      <th>i</th>\n      <th>j</th>\n      <th>fold</th>\n    </tr>\n  </thead>\n  <tbody>\n    <tr>\n      <th>0</th>\n      <td>0</td>\n      <td>0033bbc76b6b</td>\n      <td>blood_vessel</td>\n      <td>[[[169, 228], [168, 228], [167, 228], [166, 22...</td>\n      <td>[[0 0 0 ... 0 0 0]\\n [0 0 0 ... 0 0 0]\\n [0 0 ...</td>\n      <td>['73387 16 73897 28 74401 38 74911 43 75420 49...</td>\n      <td>1</td>\n      <td>10240</td>\n      <td>43008</td>\n      <td>3</td>\n    </tr>\n    <tr>\n      <th>1</th>\n      <td>1</td>\n      <td>0033bbc76b6b</td>\n      <td>blood_vessel</td>\n      <td>[[[1, 59], [0, 59], [0, 58], [0, 57], [0, 56],...</td>\n      <td>[[0 0 0 ... 0 0 0]\\n [0 0 0 ... 0 0 0]\\n [0 0 ...</td>\n      <td>['30 31 541 32 1053 31 1566 27 2079 25 2594 21...</td>\n      <td>1</td>\n      <td>10240</td>\n      <td>43008</td>\n      <td>4</td>\n    </tr>\n    <tr>\n      <th>2</th>\n      <td>2</td>\n      <td>0033bbc76b6b</td>\n      <td>blood_vessel</td>\n      <td>[[[406, 511], [405, 511], [404, 511], [403, 51...</td>\n      <td>[[0 0 0 ... 0 0 0]\\n [0 0 0 ... 0 0 0]\\n [0 0 ...</td>\n      <td>['190976 1 191485 4 191995 6 192506 7 193017 8...</td>\n      <td>1</td>\n      <td>10240</td>\n      <td>43008</td>\n      <td>4</td>\n    </tr>\n    <tr>\n      <th>4</th>\n      <td>4</td>\n      <td>00656c6f2690</td>\n      <td>blood_vessel</td>\n      <td>[[[157, 404], [156, 404], [155, 404], [154, 40...</td>\n      <td>[[0 0 0 ... 0 0 0]\\n [0 0 0 ... 0 0 0]\\n [0 0 ...</td>\n      <td>['58240 8 58750 13 59261 15 59772 16 60284 17 ...</td>\n      <td>1</td>\n      <td>10240</td>\n      <td>46080</td>\n      <td>3</td>\n    </tr>\n    <tr>\n      <th>5</th>\n      <td>5</td>\n      <td>00656c6f2690</td>\n      <td>blood_vessel</td>\n      <td>[[[39, 371], [38, 371], [37, 371], [36, 371], ...</td>\n      <td>[[0 0 0 ... 0 0 0]\\n [0 0 0 ... 0 0 0]\\n [0 0 ...</td>\n      <td>['1365 14 1874 20 2383 26 2894 28 3405 30 3917...</td>\n      <td>1</td>\n      <td>10240</td>\n      <td>46080</td>\n      <td>2</td>\n    </tr>\n    <tr>\n      <th>...</th>\n      <td>...</td>\n      <td>...</td>\n      <td>...</td>\n      <td>...</td>\n      <td>...</td>\n      <td>...</td>\n      <td>...</td>\n      <td>...</td>\n      <td>...</td>\n      <td>...</td>\n    </tr>\n    <tr>\n      <th>3493</th>\n      <td>3493</td>\n      <td>fd2437954fd8</td>\n      <td>blood_vessel</td>\n      <td>[[[481, 454], [480, 454], [479, 454], [478, 45...</td>\n      <td>[[0 0 0 ... 0 0 0]\\n [0 0 0 ... 0 0 0]\\n [0 0 ...</td>\n      <td>['238002 14 238510 20 239012 32 239520 37 2400...</td>\n      <td>1</td>\n      <td>5120</td>\n      <td>39424</td>\n      <td>4</td>\n    </tr>\n    <tr>\n      <th>3494</th>\n      <td>3494</td>\n      <td>fd2437954fd8</td>\n      <td>blood_vessel</td>\n      <td>[[[416, 511], [415, 511], [414, 511], [413, 51...</td>\n      <td>[[0 0 0 ... 0 0 0]\\n [0 0 0 ... 0 0 0]\\n [0 0 ...</td>\n      <td>['191998 3 192502 11 193012 13 193522 15 19403...</td>\n      <td>1</td>\n      <td>5120</td>\n      <td>39424</td>\n      <td>4</td>\n    </tr>\n    <tr>\n      <th>3495</th>\n      <td>3495</td>\n      <td>fd2437954fd8</td>\n      <td>blood_vessel</td>\n      <td>[[[18, 362], [17, 362], [16, 362], [16, 361], ...</td>\n      <td>[[0 0 0 ... 0 0 0]\\n [0 0 0 ... 0 0 0]\\n [0 0 ...</td>\n      <td>['3365 50 3874 66 4385 70 4896 72 5407 74 5918...</td>\n      <td>1</td>\n      <td>5120</td>\n      <td>39424</td>\n      <td>4</td>\n    </tr>\n    <tr>\n      <th>3496</th>\n      <td>3496</td>\n      <td>fe248458ea89</td>\n      <td>blood_vessel</td>\n      <td>[[[131, 501], [130, 501], [129, 501], [128, 50...</td>\n      <td>[[0 0 0 ... 0 0 0]\\n [0 0 0 ... 0 0 0]\\n [0 0 ...</td>\n      <td>['61412 4 61922 8 62432 10 62444 6 62943 21 63...</td>\n      <td>1</td>\n      <td>10240</td>\n      <td>44032</td>\n      <td>3</td>\n    </tr>\n    <tr>\n      <th>3497</th>\n      <td>3497</td>\n      <td>fe248458ea89</td>\n      <td>blood_vessel</td>\n      <td>[[[459, 511], [458, 511], [457, 511], [456, 51...</td>\n      <td>[[0 0 0 ... 0 0 0]\\n [0 0 0 ... 0 0 0]\\n [0 0 ...</td>\n      <td>['202240 1 202749 4 203242 23 203752 25 204263...</td>\n      <td>1</td>\n      <td>10240</td>\n      <td>44032</td>\n      <td>4</td>\n    </tr>\n  </tbody>\n</table>\n<p>2798 rows × 10 columns</p>\n</div>"
     },
     "execution_count": 5,
     "metadata": {},
     "output_type": "execute_result"
    }
   ],
   "source": [
    "train_df = preprocessed_df[preprocessed_df[\"fold\"] != 0]\n",
    "train_df"
   ],
   "metadata": {
    "collapsed": false
   }
  },
  {
   "cell_type": "code",
   "execution_count": 6,
   "outputs": [],
   "source": [
    "real_img_src = r\"C:\\Users\\Kevin\\Desktop\\hubmap\\train\"\n",
    "val_img_list = val_df[\"id\"]\n",
    "val_img_list = [os.path.join(real_img_src,x + \".tif\") for x in val_img_list]\n",
    "train_img_list = train_df[\"id\"]\n",
    "train_img_list = [os.path.join(real_img_src,x + \".tif\") for x in train_img_list]"
   ],
   "metadata": {
    "collapsed": false
   }
  },
  {
   "cell_type": "code",
   "execution_count": 13,
   "outputs": [
    {
     "name": "stderr",
     "output_type": "stream",
     "text": [
      "100%|██████████| 700/700 [00:01<00:00, 687.22it/s]\n"
     ]
    }
   ],
   "source": [
    "for idx in tqdm(range(len(val_img_list))):\n",
    "    val_img = val_img_list[idx]\n",
    "    shutil.copy(val_img,val_img_src)"
   ],
   "metadata": {
    "collapsed": false
   }
  },
  {
   "cell_type": "code",
   "execution_count": 14,
   "outputs": [
    {
     "name": "stderr",
     "output_type": "stream",
     "text": [
      "100%|██████████| 2798/2798 [00:01<00:00, 1818.00it/s]\n"
     ]
    }
   ],
   "source": [
    "for idx in tqdm(range(len(train_img_list))):\n",
    "    train_img = train_img_list[idx]\n",
    "    shutil.copy(train_img,train_img_src)"
   ],
   "metadata": {
    "collapsed": false
   }
  },
  {
   "cell_type": "code",
   "execution_count": 154,
   "outputs": [],
   "source": [
    "### Now make a function to create .txt file for the bbox annotations for yolov8:\n",
    "def create_label_txt_file(coordinates, ids, path):\n",
    "    \"\"\"\n",
    "    :df: train_df or val_df from above\n",
    "    :param ids: each ids from df above\n",
    "    :param path: save path\n",
    "    :return: desired yolov8 yaml file\n",
    "    \"\"\"\n",
    "    label_txt = ''\n",
    "    for coordinate in coordinates:\n",
    "        label_txt += '0 '\n",
    "        coor_array = np.array(coordinate[0]).astype(float)\n",
    "        coor_array /= float(512)\n",
    "        # transform to str\n",
    "        coor_list = list(coor_array.reshape(-1).astype(str))\n",
    "        coor_str = ' '.join(coor_list)\n",
    "        # add string to label txt\n",
    "        label_txt += f'{coor_str}\\n'\n",
    "\n",
    "    # Write labels to txt file\n",
    "    with open(f'{path}/{ids}.txt', 'w') as f:\n",
    "        f.write(label_txt)"
   ],
   "metadata": {
    "collapsed": false
   }
  },
  {
   "cell_type": "code",
   "execution_count": 156,
   "outputs": [
    {
     "ename": "KeyboardInterrupt",
     "evalue": "",
     "output_type": "error",
     "traceback": [
      "\u001B[1;31m---------------------------------------------------------------------------\u001B[0m",
      "\u001B[1;31mKeyboardInterrupt\u001B[0m                         Traceback (most recent call last)",
      "Cell \u001B[1;32mIn[156], line 8\u001B[0m\n\u001B[0;32m      6\u001B[0m     coordinates\u001B[38;5;241m.\u001B[39mappend(coord)\n\u001B[0;32m      7\u001B[0m \u001B[38;5;28;01mfor\u001B[39;00m idx1 \u001B[38;5;129;01min\u001B[39;00m \u001B[38;5;28mrange\u001B[39m(train_df\u001B[38;5;241m.\u001B[39mshape[\u001B[38;5;241m0\u001B[39m]):\n\u001B[1;32m----> 8\u001B[0m     \u001B[43mcreate_label_txt_file\u001B[49m\u001B[43m(\u001B[49m\u001B[43mcoordinates\u001B[49m\u001B[43m \u001B[49m\u001B[38;5;241;43m=\u001B[39;49m\u001B[43m \u001B[49m\u001B[43mcoordinates\u001B[49m\u001B[43m,\u001B[49m\u001B[43m \u001B[49m\u001B[43mids\u001B[49m\u001B[43m \u001B[49m\u001B[38;5;241;43m=\u001B[39;49m\u001B[43m \u001B[49m\u001B[43mtrain_df\u001B[49m\u001B[38;5;241;43m.\u001B[39;49m\u001B[43miloc\u001B[49m\u001B[43m[\u001B[49m\u001B[43midx1\u001B[49m\u001B[43m]\u001B[49m\u001B[43m[\u001B[49m\u001B[38;5;124;43m\"\u001B[39;49m\u001B[38;5;124;43mid\u001B[39;49m\u001B[38;5;124;43m\"\u001B[39;49m\u001B[43m]\u001B[49m\u001B[43m,\u001B[49m\u001B[43m \u001B[49m\u001B[43mpath\u001B[49m\u001B[43m \u001B[49m\u001B[38;5;241;43m=\u001B[39;49m\u001B[43m \u001B[49m\u001B[43mtrain_label_src\u001B[49m\u001B[43m)\u001B[49m\n",
      "Cell \u001B[1;32mIn[154], line 15\u001B[0m, in \u001B[0;36mcreate_label_txt_file\u001B[1;34m(coordinates, ids, path)\u001B[0m\n\u001B[0;32m     13\u001B[0m coor_array \u001B[38;5;241m/\u001B[39m\u001B[38;5;241m=\u001B[39m \u001B[38;5;28mfloat\u001B[39m(\u001B[38;5;241m512\u001B[39m)\n\u001B[0;32m     14\u001B[0m \u001B[38;5;66;03m# transform to str\u001B[39;00m\n\u001B[1;32m---> 15\u001B[0m coor_list \u001B[38;5;241m=\u001B[39m \u001B[38;5;28mlist\u001B[39m(\u001B[43mcoor_array\u001B[49m\u001B[38;5;241;43m.\u001B[39;49m\u001B[43mreshape\u001B[49m\u001B[43m(\u001B[49m\u001B[38;5;241;43m-\u001B[39;49m\u001B[38;5;241;43m1\u001B[39;49m\u001B[43m)\u001B[49m\u001B[38;5;241;43m.\u001B[39;49m\u001B[43mastype\u001B[49m\u001B[43m(\u001B[49m\u001B[38;5;28;43mstr\u001B[39;49m\u001B[43m)\u001B[49m)\n\u001B[0;32m     16\u001B[0m coor_str \u001B[38;5;241m=\u001B[39m \u001B[38;5;124m'\u001B[39m\u001B[38;5;124m \u001B[39m\u001B[38;5;124m'\u001B[39m\u001B[38;5;241m.\u001B[39mjoin(coor_list)\n\u001B[0;32m     17\u001B[0m \u001B[38;5;66;03m# add string to label txt\u001B[39;00m\n",
      "\u001B[1;31mKeyboardInterrupt\u001B[0m: "
     ]
    }
   ],
   "source": [
    "num_images = train_df.shape[0]\n",
    "coordinates = []\n",
    "for idx in range(num_images):\n",
    "    coord = train_df.iloc[idx][\"coordinates\"]\n",
    "    coord = ast.literal_eval(coord)\n",
    "    coordinates.append(coord)\n",
    "for idx1 in range(train_df.shape[0]):\n",
    "    create_label_txt_file(coordinates = coordinates, ids = train_df.iloc[idx1][\"id\"], path = train_label_src)"
   ],
   "metadata": {
    "collapsed": false
   }
  },
  {
   "cell_type": "code",
   "execution_count": null,
   "outputs": [],
   "source": [
    "num_images = val_df.shape[0]\n",
    "coordinates = []\n",
    "for idx in range(num_images):\n",
    "    coord = val_df.iloc[idx][\"coordinates\"]\n",
    "    coord = ast.literal_eval(coord)\n",
    "    coordinates.append(coord)\n",
    "for idx1 in range(val_df.shape[0]):\n",
    "    create_label_txt_file(coordinates = coordinates, ids = val_df.iloc[idx1][\"id\"], path = val_label_src)"
   ],
   "metadata": {
    "collapsed": false
   }
  }
 ],
 "metadata": {
  "kernelspec": {
   "display_name": "Python 3",
   "language": "python",
   "name": "python3"
  },
  "language_info": {
   "codemirror_mode": {
    "name": "ipython",
    "version": 2
   },
   "file_extension": ".py",
   "mimetype": "text/x-python",
   "name": "python",
   "nbconvert_exporter": "python",
   "pygments_lexer": "ipython2",
   "version": "2.7.6"
  }
 },
 "nbformat": 4,
 "nbformat_minor": 0
}
