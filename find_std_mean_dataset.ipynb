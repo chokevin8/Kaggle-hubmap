{
 "cells": [
  {
   "cell_type": "code",
   "execution_count": 5,
   "outputs": [],
   "source": [
    "# import necessary packages:\n",
    "import numpy as np\n",
    "import os\n",
    "from PIL import Image\n",
    "import torch\n",
    "import pandas as pd\n",
    "import json\n",
    "from tqdm import tqdm, notebook\n",
    "from torch.utils.data import Dataset, DataLoader\n",
    "import zipfile\n",
    "import cv2\n",
    "import matplotlib.pyplot as plt\n",
    "from tqdm import tqdm\n",
    "import zipfile\n",
    "import rasterio\n",
    "from rasterio.windows import Window"
   ],
   "metadata": {
    "collapsed": false,
    "ExecuteTime": {
     "start_time": "2023-06-04T16:49:00.076244Z",
     "end_time": "2023-06-04T16:49:00.513557Z"
    }
   }
  },
  {
   "cell_type": "code",
   "execution_count": 6,
   "outputs": [
    {
     "name": "stdout",
     "output_type": "stream",
     "text": [
      "True\n"
     ]
    }
   ],
   "source": [
    "print(torch.cuda.is_available())"
   ],
   "metadata": {
    "collapsed": false,
    "ExecuteTime": {
     "start_time": "2023-06-04T16:49:00.591683Z",
     "end_time": "2023-06-04T16:49:00.622935Z"
    }
   }
  },
  {
   "cell_type": "code",
   "execution_count": 8,
   "outputs": [],
   "source": [
    "# flags and directories for data and csv:\n",
    "kaggle_env = False\n",
    "if kaggle_env:\n",
    "    data_directory = \"/kaggle/input/hubmap-hacking-the-human-vasculature\"\n",
    "if not kaggle_env:\n",
    "    local_env = r\"C:\\Users\\labadmin\\PycharmProjects\\hubmap\"\n",
    "    data_directory = r\"C:\\Users\\labadmin\\Desktop\\hubmap\"\n",
    "wsi_csv_src = os.path.join(data_directory,\"wsi_meta.csv\")\n",
    "tile_csv_src = os.path.join(data_directory,\"tile_meta.csv\")\n",
    "wsi_df = pd.read_csv(wsi_csv_src)\n",
    "tile_df = pd.read_csv(tile_csv_src)"
   ],
   "metadata": {
    "collapsed": false,
    "ExecuteTime": {
     "start_time": "2023-06-04T16:49:07.482546Z",
     "end_time": "2023-06-04T16:49:07.545055Z"
    }
   }
  },
  {
   "cell_type": "code",
   "execution_count": 9,
   "metadata": {
    "collapsed": true,
    "ExecuteTime": {
     "start_time": "2023-06-04T16:49:09.797316Z",
     "end_time": "2023-06-04T16:49:09.826451Z"
    }
   },
   "outputs": [
    {
     "data": {
      "text/plain": "   source_wsi  age sex race  height  weight   bmi\n0           1   58   F    W   160.0    59.0  23.0\n1           2   56   F    W   175.2   139.6  45.5\n2           3   73   F    W   162.3    87.5  33.2\n3           4   53   M    B   166.0    73.0  26.5",
      "text/html": "<div>\n<style scoped>\n    .dataframe tbody tr th:only-of-type {\n        vertical-align: middle;\n    }\n\n    .dataframe tbody tr th {\n        vertical-align: top;\n    }\n\n    .dataframe thead th {\n        text-align: right;\n    }\n</style>\n<table border=\"1\" class=\"dataframe\">\n  <thead>\n    <tr style=\"text-align: right;\">\n      <th></th>\n      <th>source_wsi</th>\n      <th>age</th>\n      <th>sex</th>\n      <th>race</th>\n      <th>height</th>\n      <th>weight</th>\n      <th>bmi</th>\n    </tr>\n  </thead>\n  <tbody>\n    <tr>\n      <th>0</th>\n      <td>1</td>\n      <td>58</td>\n      <td>F</td>\n      <td>W</td>\n      <td>160.0</td>\n      <td>59.0</td>\n      <td>23.0</td>\n    </tr>\n    <tr>\n      <th>1</th>\n      <td>2</td>\n      <td>56</td>\n      <td>F</td>\n      <td>W</td>\n      <td>175.2</td>\n      <td>139.6</td>\n      <td>45.5</td>\n    </tr>\n    <tr>\n      <th>2</th>\n      <td>3</td>\n      <td>73</td>\n      <td>F</td>\n      <td>W</td>\n      <td>162.3</td>\n      <td>87.5</td>\n      <td>33.2</td>\n    </tr>\n    <tr>\n      <th>3</th>\n      <td>4</td>\n      <td>53</td>\n      <td>M</td>\n      <td>B</td>\n      <td>166.0</td>\n      <td>73.0</td>\n      <td>26.5</td>\n    </tr>\n  </tbody>\n</table>\n</div>"
     },
     "execution_count": 9,
     "metadata": {},
     "output_type": "execute_result"
    }
   ],
   "source": [
    "wsi_df"
   ]
  },
  {
   "cell_type": "code",
   "execution_count": 10,
   "outputs": [
    {
     "data": {
      "text/plain": "                id  source_wsi  dataset      i      j\n0     0006ff2aa7cd           2        2  16896  16420\n1     000e79e206b7           6        3  10240  29184\n2     00168d1b7522           2        2  14848  14884\n3     00176a88fdb0           7        3  14848  25088\n4     0033bbc76b6b           1        1  10240  43008\n...            ...         ...      ...    ...    ...\n7028  ffd37b5c6598          13        3  13824  21504\n7029  ffd3d193c71e           3        2   7680  16896\n7030  ffd77e2517af          13        3  15872  28160\n7031  ffe3cbb81f72          10        3  15456  23000\n7032  ffe40e3bc324           9        3  13824  19456\n\n[7033 rows x 5 columns]",
      "text/html": "<div>\n<style scoped>\n    .dataframe tbody tr th:only-of-type {\n        vertical-align: middle;\n    }\n\n    .dataframe tbody tr th {\n        vertical-align: top;\n    }\n\n    .dataframe thead th {\n        text-align: right;\n    }\n</style>\n<table border=\"1\" class=\"dataframe\">\n  <thead>\n    <tr style=\"text-align: right;\">\n      <th></th>\n      <th>id</th>\n      <th>source_wsi</th>\n      <th>dataset</th>\n      <th>i</th>\n      <th>j</th>\n    </tr>\n  </thead>\n  <tbody>\n    <tr>\n      <th>0</th>\n      <td>0006ff2aa7cd</td>\n      <td>2</td>\n      <td>2</td>\n      <td>16896</td>\n      <td>16420</td>\n    </tr>\n    <tr>\n      <th>1</th>\n      <td>000e79e206b7</td>\n      <td>6</td>\n      <td>3</td>\n      <td>10240</td>\n      <td>29184</td>\n    </tr>\n    <tr>\n      <th>2</th>\n      <td>00168d1b7522</td>\n      <td>2</td>\n      <td>2</td>\n      <td>14848</td>\n      <td>14884</td>\n    </tr>\n    <tr>\n      <th>3</th>\n      <td>00176a88fdb0</td>\n      <td>7</td>\n      <td>3</td>\n      <td>14848</td>\n      <td>25088</td>\n    </tr>\n    <tr>\n      <th>4</th>\n      <td>0033bbc76b6b</td>\n      <td>1</td>\n      <td>1</td>\n      <td>10240</td>\n      <td>43008</td>\n    </tr>\n    <tr>\n      <th>...</th>\n      <td>...</td>\n      <td>...</td>\n      <td>...</td>\n      <td>...</td>\n      <td>...</td>\n    </tr>\n    <tr>\n      <th>7028</th>\n      <td>ffd37b5c6598</td>\n      <td>13</td>\n      <td>3</td>\n      <td>13824</td>\n      <td>21504</td>\n    </tr>\n    <tr>\n      <th>7029</th>\n      <td>ffd3d193c71e</td>\n      <td>3</td>\n      <td>2</td>\n      <td>7680</td>\n      <td>16896</td>\n    </tr>\n    <tr>\n      <th>7030</th>\n      <td>ffd77e2517af</td>\n      <td>13</td>\n      <td>3</td>\n      <td>15872</td>\n      <td>28160</td>\n    </tr>\n    <tr>\n      <th>7031</th>\n      <td>ffe3cbb81f72</td>\n      <td>10</td>\n      <td>3</td>\n      <td>15456</td>\n      <td>23000</td>\n    </tr>\n    <tr>\n      <th>7032</th>\n      <td>ffe40e3bc324</td>\n      <td>9</td>\n      <td>3</td>\n      <td>13824</td>\n      <td>19456</td>\n    </tr>\n  </tbody>\n</table>\n<p>7033 rows × 5 columns</p>\n</div>"
     },
     "execution_count": 10,
     "metadata": {},
     "output_type": "execute_result"
    }
   ],
   "source": [
    "tile_df"
   ],
   "metadata": {
    "collapsed": false,
    "ExecuteTime": {
     "start_time": "2023-06-04T16:49:15.154398Z",
     "end_time": "2023-06-04T16:49:15.170027Z"
    }
   }
  },
  {
   "cell_type": "code",
   "execution_count": null,
   "outputs": [],
   "source": [],
   "metadata": {
    "collapsed": false
   }
  }
 ],
 "metadata": {
  "kernelspec": {
   "display_name": "Python 3",
   "language": "python",
   "name": "python3"
  },
  "language_info": {
   "codemirror_mode": {
    "name": "ipython",
    "version": 2
   },
   "file_extension": ".py",
   "mimetype": "text/x-python",
   "name": "python",
   "nbconvert_exporter": "python",
   "pygments_lexer": "ipython2",
   "version": "2.7.6"
  }
 },
 "nbformat": 4,
 "nbformat_minor": 0
}
