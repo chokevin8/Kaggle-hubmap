{
 "cells": [
  {
   "cell_type": "code",
   "execution_count": 2,
   "metadata": {
    "collapsed": true
   },
   "outputs": [],
   "source": [
    "# first import all of the packages required in this entire project:\n",
    "import numpy as np\n",
    "import pandas as pd\n",
    "import os"
   ]
  },
  {
   "cell_type": "code",
   "execution_count": 40,
   "outputs": [],
   "source": [
    "all_img_dir = r\"\\\\fatherserverdw\\Kevin\\hubmap\\train_overlap\\images\"\n",
    "all_mask_dir = r\"\\\\fatherserverdw\\Kevin\\hubmap\\train_overlap\\masks\\blood_vessel\" #bv only\n",
    "save_df_src = r\"\\\\fatherserverdw\\Kevin\\hubmap\\unet++_v2\""
   ],
   "metadata": {
    "collapsed": false
   }
  },
  {
   "cell_type": "code",
   "execution_count": 29,
   "outputs": [],
   "source": [
    "# fold0_train_src = r\"\\\\fatherserverdw\\Kevin\\hubmap\\yolov8_v4\\train_fold0.xlsx\"\n",
    "# fold0_val_src =r\"\\\\fatherserverdw\\Kevin\\hubmap\\yolov8_v4\\val_fold0.xlsx\"\n",
    "# fold0_train_df = pd.read_excel(fold0_train_src)\n",
    "# fold0_val_df = pd.read_excel(fold0_val_src)\n",
    "# fold0_train_df = fold0_train_df.drop(columns = [\"Unnamed: 0\",\"index\",\"coords\",\"type\",\"i\",\"j\"])\n",
    "# fold0_val_df = fold0_val_df.drop(columns = [\"Unnamed: 0\",\"index\",\"coords\",\"type\",\"i\",\"j\"])"
   ],
   "metadata": {
    "collapsed": false
   }
  },
  {
   "cell_type": "code",
   "execution_count": 30,
   "outputs": [],
   "source": [
    "# fold0_train_df[\"image_path\"] = [os.path.join(all_img_dir,x) for x in fold0_train_df[\"id\"]]\n",
    "# fold0_train_df[\"mask_path\"] = [os.path.join(all_mask_dir,x) for x in fold0_train_df[\"id\"]]\n",
    "# fold0_val_df[\"image_path\"] = [os.path.join(all_img_dir,x) for x in fold0_val_df[\"id\"]]\n",
    "# fold0_val_df[\"mask_path\"] = [os.path.join(all_mask_dir,x) for x in fold0_val_df[\"id\"]]"
   ],
   "metadata": {
    "collapsed": false
   }
  },
  {
   "cell_type": "code",
   "execution_count": 44,
   "outputs": [],
   "source": [
    "# train_df_save_src = os.path.join(save_df_src,\"train_fold0.xlsx\")\n",
    "# val_df_save_src = os.path.join(save_df_src,\"val_fold0.xlsx\")\n",
    "# fold0_train_df.to_excel(train_df_save_src)\n",
    "# fold0_val_df.to_excel(val_df_save_src)"
   ],
   "metadata": {
    "collapsed": false
   }
  },
  {
   "cell_type": "code",
   "execution_count": 45,
   "outputs": [],
   "source": [
    "for i in range(5):\n",
    "    fold_train_src = r\"\\\\fatherserverdw\\Kevin\\hubmap\\yolov8_v4\\train_fold{}.xlsx\".format(i)\n",
    "    fold_val_src = r\"\\\\fatherserverdw\\Kevin\\hubmap\\yolov8_v4\\val_fold{}.xlsx\".format(i)\n",
    "    fold_train_df = pd.read_excel(fold_train_src)\n",
    "    fold_val_df = pd.read_excel(fold_val_src)\n",
    "    fold_train_df = fold_train_df.drop(columns=[\"Unnamed: 0\", \"index\", \"coords\", \"type\", \"i\", \"j\"])\n",
    "    fold_val_df = fold_val_df.drop(columns=[\"Unnamed: 0\", \"index\", \"coords\", \"type\", \"i\", \"j\"])\n",
    "\n",
    "    fold_train_df[\"image_path\"] = [os.path.join(all_img_dir, x) for x in fold_train_df[\"id\"]]\n",
    "    fold_train_df[\"mask_path\"] = [os.path.join(all_mask_dir, x) for x in fold_train_df[\"id\"]]\n",
    "    fold_val_df[\"image_path\"] = [os.path.join(all_img_dir, x) for x in fold_val_df[\"id\"]]\n",
    "    fold_val_df[\"mask_path\"] = [os.path.join(all_mask_dir, x) for x in fold_val_df[\"id\"]]\n",
    "\n",
    "    train_df_save_src = os.path.join(save_df_src, \"train_fold{}.xlsx\".format(i))\n",
    "    val_df_save_src = os.path.join(save_df_src, \"val_fold{}.xlsx\".format(i))\n",
    "    fold_train_df.to_excel(train_df_save_src)\n",
    "    fold_val_df.to_excel(val_df_save_src)\n"
   ],
   "metadata": {
    "collapsed": false
   }
  },
  {
   "cell_type": "code",
   "execution_count": null,
   "outputs": [],
   "source": [],
   "metadata": {
    "collapsed": false
   }
  }
 ],
 "metadata": {
  "kernelspec": {
   "display_name": "Python 3",
   "language": "python",
   "name": "python3"
  },
  "language_info": {
   "codemirror_mode": {
    "name": "ipython",
    "version": 2
   },
   "file_extension": ".py",
   "mimetype": "text/x-python",
   "name": "python",
   "nbconvert_exporter": "python",
   "pygments_lexer": "ipython2",
   "version": "2.7.6"
  }
 },
 "nbformat": 4,
 "nbformat_minor": 0
}
