{
 "cells": [
  {
   "cell_type": "code",
   "execution_count": 1,
   "metadata": {
    "collapsed": true
   },
   "outputs": [],
   "source": [
    "import base64\n",
    "import numpy as np\n",
    "# from pycocotools import _mask as coco_mask\n",
    "import typing as t\n",
    "import zlib\n",
    "import torch\n",
    "import shutil\n",
    "import os\n",
    "import pandas as pd\n",
    "import tifffile as tiff\n",
    "import matplotlib.pyplot as plt\n",
    "from pathlib import Path\n",
    "from glob import glob\n",
    "from collections import defaultdict\n",
    "from sklearn.model_selection import train_test_split\n",
    "from tqdm import tqdm\n",
    "from IPython.display import Image as show_image\n",
    "from torch.utils.data import DataLoader\n",
    "from skimage.measure import regionprops_table, label, regionprops\n",
    "from pycocotools import _mask as coco_mask\n",
    "import gc\n",
    "import warnings\n",
    "import torchvision.transforms as T\n",
    "import segmentation_models_pytorch as smp\n",
    "from PIL import Image\n",
    "import torch.nn as nn\n",
    "import random\n",
    "import cv2\n",
    "warnings.filterwarnings(\"ignore\")"
   ]
  },
  {
   "cell_type": "code",
   "execution_count": 19,
   "outputs": [],
   "source": [
    "class model_config:\n",
    "    current_fold = 0\n",
    "    key = \"BT\" #\"MoCoV2\"\n",
    "    pretrained_resnet = False\n",
    "    seed = 42\n",
    "    train_batch_size = 8\n",
    "    valid_batch_size = 1\n",
    "    epochs = 200  # ~15 minutes per epoch\n",
    "    learning_rate = 0.0014 # 0.001 for bs=16\n",
    "    scheduler = \"CosineAnnealingLR\"\n",
    "    num_training_samples = 5499\n",
    "    T_max = int(\n",
    "        num_training_samples / train_batch_size * epochs)  # number of iterations for a full cycle, need to change for different # of iterations. (iteration = batch size)\n",
    "    weight_decay = 1e-6  # explore different weight decay (Adam optimizer)\n",
    "    n_accumulate = 1\n",
    "    device = torch.device(\"cuda:0\" if torch.cuda.is_available() else \"cpu\")\n",
    "    iters_to_accumulate = max(1, 32 // train_batch_size)  # for scaling accumulated gradients\n",
    "    eta_min = 1e-5\n",
    "    model_save_directory = os.path.join(os.getcwd(), \"model\",\n",
    "                                        \"seresnext_attention_dropout_dilation_v2_retry\")\n",
    "\n",
    "# sets the seed of the entire notebook so results are the same every time we run for reproducibility. no randomness, everything is controlled.\n",
    "def set_seed(seed=42):\n",
    "    np.random.seed(seed)  #numpy specific random\n",
    "    random.seed(seed)  # python specific random (also for albumentation augmentations)\n",
    "    torch.manual_seed(seed)  # torch specific random\n",
    "    torch.cuda.manual_seed(seed)  # cuda specific random\n",
    "    # when running on the CuDNN backend, two further options must be set\n",
    "    torch.backends.cudnn.deterministic = True\n",
    "    torch.backends.cudnn.benchmark = False  # when deterministic = true, benchmark = False, otherwise might not be deterministic\n",
    "    os.environ['PYTHONHASHSEED'] = str(seed)  # set a fixed value for the hash seed, for hases like dictionary\n",
    "\n",
    "set_seed(model_config.seed)"
   ],
   "metadata": {
    "collapsed": false
   }
  },
  {
   "cell_type": "code",
   "execution_count": 58,
   "outputs": [],
   "source": [
    "class HubmapDataset(torch.utils.data.Dataset):\n",
    "    def __init__(self, imgs, transforms):\n",
    "        self.transforms = transforms\n",
    "        self.imgs = imgs\n",
    "        self.name_indices = [os.path.splitext(os.path.basename(i))[0] for i in imgs]\n",
    "\n",
    "    def __getitem__(self, idx):\n",
    "        # load images and masks\n",
    "        img_path = self.imgs[idx]\n",
    "        name = self.name_indices[idx]\n",
    "        img=tiff.imread(img_path)\n",
    "        # array = tiff.imread(img_path)\n",
    "        # img = Image.fromarray(array)\n",
    "        img = self.transforms(image=img)\n",
    "        img = img['image']\n",
    "        return img, name\n",
    "\n",
    "    def __len__(self):\n",
    "        return len(self.imgs)"
   ],
   "metadata": {
    "collapsed": false
   }
  },
  {
   "cell_type": "code",
   "execution_count": 59,
   "outputs": [
    {
     "data": {
      "text/plain": "['\\\\\\\\fatherserverdw\\\\Kevin\\\\hubmap\\\\train_overlap\\\\images\\\\5631a47d5b0c.tif']"
     },
     "execution_count": 59,
     "metadata": {},
     "output_type": "execute_result"
    }
   ],
   "source": [
    "device = torch.device('cuda') if torch.cuda.is_available() else torch.device('cpu')\n",
    "debug = True\n",
    "model_path = r\"C:\\Users\\Kevin\\PycharmProjects\\hubmap\\unet++_resnet50\\model\\seresnext_attention_dropout_dilation_v3\\best_epoch-00.pt\"\n",
    "base_dir = Path('/kaggle/input/hubmap-hacking-the-human-vasculature')\n",
    "image_paths = r\"\\\\fatherserverdw\\Kevin\\hubmap\\train_overlap\\images\"\n",
    "# test_paths = [os.path.join(image_paths,x) for x in os.listdir(image_paths) if x.endswith(\".tif\")][0:10] #load all train and debug or do just first hundreds\n",
    "test_paths = [r\"\\\\fatherserverdw\\Kevin\\hubmap\\train_overlap\\images\\5631a47d5b0c.tif\"]\n",
    "test_paths"
   ],
   "metadata": {
    "collapsed": false
   }
  },
  {
   "cell_type": "code",
   "execution_count": 60,
   "outputs": [],
   "source": [
    "import albumentations as A\n",
    "from albumentations.pytorch import ToTensorV2"
   ],
   "metadata": {
    "collapsed": false
   }
  },
  {
   "cell_type": "code",
   "execution_count": 61,
   "outputs": [],
   "source": [
    "test_transforms = A.Compose([ToTensorV2()]) # Size C x H x W tensor with float dtype\n",
    "\n",
    "dataset_test = HubmapDataset(test_paths, transforms = test_transforms)\n",
    "test_dl = torch.utils.data.DataLoader(\n",
    "        dataset_test, batch_size=1, shuffle=False, num_workers=0, pin_memory=True)"
   ],
   "metadata": {
    "collapsed": false
   }
  },
  {
   "cell_type": "code",
   "execution_count": 62,
   "outputs": [],
   "source": [
    "def build_model():\n",
    "    model = smp.UnetPlusPlus(encoder_name=\"se_resnext101_32x4d\", encoder_weights=None, encoder_depth = 5, decoder_channels = [512, 256, 128, 64, 32], activation='sigmoid',\n",
    "                             in_channels=3, classes=1, decoder_attention_type=\"scse\", decoder_use_batchnorm=True,\n",
    "                             aux_params={\"classes\": 1, \"pooling\": \"max\", \"dropout\": 0.5})\n",
    "    model.to(device)  # model to gpu\n",
    "    return model"
   ],
   "metadata": {
    "collapsed": false
   }
  },
  {
   "cell_type": "code",
   "execution_count": 73,
   "outputs": [
    {
     "name": "stderr",
     "output_type": "stream",
     "text": [
      "100%|██████████| 1/1 [00:00<00:00,  3.93it/s]"
     ]
    },
    {
     "name": "stdout",
     "output_type": "stream",
     "text": [
      "max of prob prediction is 1.0\n",
      "mean of prob prediction is 0.010033367201685905\n",
      "min of prob prediction is: 0.0\n"
     ]
    },
    {
     "name": "stderr",
     "output_type": "stream",
     "text": [
      "\n"
     ]
    }
   ],
   "source": [
    "model = build_model()\n",
    "id_list, heights, widths, prediction_strings = [],[],[],[]\n",
    "with torch.no_grad():\n",
    "    model.load_state_dict(torch.load(model_path))\n",
    "    for img, idx in tqdm(test_dl):\n",
    "        model.eval() #eval stage\n",
    "        img = img.to(device,dtype= torch.float32)\n",
    "        prediction, _  = model(img)\n",
    "        prediction = torch.squeeze(prediction)\n",
    "#         print(\"prob_prediction is {}\".format(prob_prediction))\n",
    "        print(\"max of prob prediction is {}\".format(torch.max(prediction)))\n",
    "        print(\"mean of prob prediction is {}\".format(torch.mean(prediction)))\n",
    "        print(\"min of prob prediction is: {}\".format(torch.min(prediction)))\n",
    "        binary_prediction = prediction > 0.000001\n",
    "        binary_prediction"
   ],
   "metadata": {
    "collapsed": false
   }
  },
  {
   "cell_type": "code",
   "execution_count": 74,
   "outputs": [
    {
     "data": {
      "text/plain": "<matplotlib.image.AxesImage at 0x1a75ca5df00>"
     },
     "execution_count": 74,
     "metadata": {},
     "output_type": "execute_result"
    },
    {
     "data": {
      "text/plain": "<Figure size 640x480 with 1 Axes>",
      "image/png": "[encoded data removed]"
     },
     "metadata": {},
     "output_type": "display_data"
    }
   ],
   "source": [
    "binary_prediction_cpu = binary_prediction.cpu().numpy()\n",
    "plt.imshow(binary_prediction_cpu)"
   ],
   "metadata": {
    "collapsed": false
   }
  },
  {
   "cell_type": "code",
   "execution_count": 77,
   "outputs": [],
   "source": [
    "### Irrelevant code to see how much bv is in the image:"
   ],
   "metadata": {
    "collapsed": false
   }
  },
  {
   "cell_type": "code",
   "execution_count": 75,
   "outputs": [],
   "source": [
    "import os\n",
    "import numpy as np\n",
    "from PIL import Image\n",
    "from tqdm import tqdm\n",
    "\n",
    "def calculate_total_relative_area(file_path):\n",
    "    # Get all .tif file paths in the specified directory\n",
    "    file_paths = [os.path.join(file_path, file) for file in os.listdir(file_path) if file.endswith('.tif')]\n",
    "\n",
    "    total_area = 0\n",
    "\n",
    "    for file_path in tqdm(file_paths):\n",
    "        # Load the image using PIL\n",
    "        image = Image.open(file_path)\n",
    "\n",
    "        # Convert the image to a numpy array\n",
    "        binary_mask = np.array(image)\n",
    "\n",
    "        # Calculate the total number of labels (ones) in the binary mask\n",
    "        num_labels = np.sum(binary_mask == 1)\n",
    "\n",
    "        # Calculate the total relative area of the labels\n",
    "        relative_area = num_labels / (512 * 512)\n",
    "\n",
    "        # Accumulate the relative area across all images\n",
    "        total_area += relative_area\n",
    "\n",
    "    return total_area\n"
   ],
   "metadata": {
    "collapsed": false
   }
  },
  {
   "cell_type": "code",
   "execution_count": 76,
   "outputs": [
    {
     "name": "stderr",
     "output_type": "stream",
     "text": [
      "100%|██████████| 6874/6874 [01:21<00:00, 84.14it/s] \n"
     ]
    },
    {
     "data": {
      "text/plain": "351.7162437438965"
     },
     "execution_count": 76,
     "metadata": {},
     "output_type": "execute_result"
    }
   ],
   "source": [
    "calculate_total_relative_area(r\"\\\\fatherserverdw\\Kevin\\hubmap\\train_overlap\\masks\\blood_vessel\")"
   ],
   "metadata": {
    "collapsed": false
   }
  },
  {
   "cell_type": "code",
   "execution_count": 78,
   "outputs": [
    {
     "data": {
      "text/plain": "0.051163805644457376"
     },
     "execution_count": 78,
     "metadata": {},
     "output_type": "execute_result"
    }
   ],
   "source": [
    "351.7/6874"
   ],
   "metadata": {
    "collapsed": false
   }
  },
  {
   "cell_type": "code",
   "execution_count": null,
   "outputs": [],
   "source": [
    "import pandas as pd\n",
    "def remove_rows_by_names_from_excel(excel_file_path, names_to_remove):\n",
    "    try:\n",
    "        # Read the Excel file into a DataFrame\n",
    "        df = pd.read_excel(excel_file_path)\n",
    "\n",
    "        # Remove rows that contain any of the names from the list\n",
    "        df = df[~df['Column_Name'].str.contains('|'.join(names_to_remove))]\n",
    "\n",
    "        # Save the updated DataFrame back to the Excel file\n",
    "        df.to_excel(excel_file_path, index=False)\n",
    "        print(\"Rows with specified names have been removed successfully.\")\n",
    "    except Exception as e:\n",
    "        print(f\"Error occurred while processing the Excel file: {e}\")"
   ],
   "metadata": {
    "collapsed": false
   }
  },
  {
   "cell_type": "code",
   "execution_count": null,
   "outputs": [],
   "source": [
    "# Replace 'your_excel_file_path' with the path to your Excel file\n",
    "excel_file_path = r\"\\\\fatherserverdw\\Kevin\\hubmap\\unet++_v2\\train_fold1.xlsx\"\n",
    "names_list = ['458a92eda7b4_bot_right.tif',\n",
    " '214866956ea3_top_right.tif',\n",
    " '4c1361e4c2d8_bot_left.tif',\n",
    " '578c8b32057e_top_left.tif',\n",
    " 'cbc4758c8c53_bot_right.tif',\n",
    " '936f9bfb3966_top_right.tif',\n",
    " 'e5ac1caaadd8_bot_left.tif',\n",
    " '27ac6c438f3b_top_left.tif',\n",
    " '97f404585e68_bot_right.tif',\n",
    " 'aef16812206a_top_right.tif',\n",
    " '8cb7d2ef7d2c_bot_left.tif',\n",
    " '7aeb05949f93_top_left.tif',\n",
    " '7aeb05949f93_bot_right.tif',\n",
    " '76a3142ef6ee_top_right.tif',\n",
    " '3fc432760114_bot_left.tif',\n",
    " 'cfcbc3b1aa48_top_left.tif',\n",
    " '2b1cf5bbc9ea_bot_right.tif',\n",
    " '9d3653466f61_top_right.tif',\n",
    " '5e8476b465f9_bot_left.tif',\n",
    " 'e8758c97b189_top_left.tif',\n",
    " '89184912fef8_bot_right.tif',\n",
    " '4dae128831ab_top_right.tif',\n",
    " 'dcd2a14a9980_bot_left.tif',\n",
    " '93c7422d2878_top_left.tif',\n",
    " '3dee55fb6fcc_bot_right.tif',\n",
    " '22db9740ba20_top_right.tif',\n",
    " '590f64bf82a6_bot_left.tif',\n",
    " 'b3ee5e7bcf74_top_left.tif'] # Replace this list with the one returned by the previous function\n",
    "remove_rows_by_names_from_excel(excel_file_path, names_list)\n"
   ],
   "metadata": {
    "collapsed": false
   }
  }
 ],
 "metadata": {
  "kernelspec": {
   "display_name": "Python 3",
   "language": "python",
   "name": "python3"
  },
  "language_info": {
   "codemirror_mode": {
    "name": "ipython",
    "version": 2
   },
   "file_extension": ".py",
   "mimetype": "text/x-python",
   "name": "python",
   "nbconvert_exporter": "python",
   "pygments_lexer": "ipython2",
   "version": "2.7.6"
  }
 },
 "nbformat": 4,
 "nbformat_minor": 0
}
