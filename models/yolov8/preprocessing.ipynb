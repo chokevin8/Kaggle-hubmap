{
 "cells": [
  {
   "cell_type": "markdown",
   "source": [
    "### Below notebook is for preprocessing to create data necessary for training Yolov8 model. For training a Yolov8 model, we need to make a config.yaml, which needs to contain paths for the train and valid dataset images and labels. Below is workflow for creating yolov8 .txt label files, which are essentially a list of x,y coordinate tuples for each class instance. Read Yolov8 documentations for more information."
   ],
   "metadata": {
    "collapsed": false
   }
  },
  {
   "cell_type": "code",
   "execution_count": 2,
   "outputs": [],
   "source": [
    "#import necessary packages:\n",
    "import numpy as np\n",
    "import os\n",
    "import torch\n",
    "import pandas as pd\n",
    "import cv2\n",
    "from tqdm import tqdm\n",
    "from sklearn.model_selection import StratifiedKFold\n",
    "import shutil\n",
    "import random\n",
    "from skimage.measure import label"
   ],
   "metadata": {
    "collapsed": false
   }
  },
  {
   "cell_type": "code",
   "execution_count": 5,
   "outputs": [
    {
     "data": {
      "text/plain": "      Unnamed: 0            id          type  \\\n0              0  0033bbc76b6b  blood_vessel   \n1              1  0033bbc76b6b  blood_vessel   \n2              2  0033bbc76b6b  blood_vessel   \n3              3  00656c6f2690  blood_vessel   \n4              4  00656c6f2690  blood_vessel   \n...          ...           ...           ...   \n3493        3493  fd2437954fd8  blood_vessel   \n3494        3494  fd2437954fd8  blood_vessel   \n3495        3495  fd2437954fd8  blood_vessel   \n3496        3496  fe248458ea89  blood_vessel   \n3497        3497  fe248458ea89  blood_vessel   \n\n                                                                                                                                                                                                  coordinates  \\\n0     [[[169, 228], [168, 228], [167, 228], [166, 228], [165, 228], [164, 228], [163, 228], [163, 227], [162, 227], [161, 227], [161, 226], [160, 226], [160, 225], [159, 225], [159, 224], [158, 224], [1...   \n1     [[[1, 59], [0, 59], [0, 58], [0, 57], [0, 56], [0, 55], [0, 54], [0, 53], [0, 52], [0, 51], [0, 50], [0, 49], [0, 48], [0, 47], [0, 46], [0, 45], [0, 44], [0, 43], [0, 42], [0, 41], [0, 40], [0, 3...   \n2     [[[406, 511], [405, 511], [404, 511], [403, 511], [402, 511], [401, 511], [400, 511], [399, 511], [398, 511], [397, 511], [396, 511], [395, 511], [394, 511], [393, 511], [392, 511], [391, 511], [3...   \n3     [[[511, 426], [511, 426], [510, 426], [510, 425], [509, 425], [509, 424], [508, 424], [508, 423], [507, 423], [507, 422], [506, 422], [506, 421], [505, 421], [505, 420], [505, 419], [504, 419], [5...   \n4     [[[157, 404], [156, 404], [155, 404], [154, 404], [153, 404], [152, 404], [151, 404], [150, 404], [149, 404], [148, 404], [147, 404], [146, 404], [145, 404], [145, 403], [144, 403], [143, 403], [1...   \n...                                                                                                                                                                                                       ...   \n3493  [[[481, 454], [480, 454], [479, 454], [478, 454], [477, 454], [476, 454], [475, 454], [474, 454], [473, 454], [473, 453], [472, 453], [471, 453], [471, 452], [470, 452], [469, 452], [469, 451], [4...   \n3494  [[[416, 511], [415, 511], [414, 511], [413, 511], [412, 511], [411, 511], [410, 511], [409, 511], [408, 511], [407, 511], [406, 511], [405, 511], [404, 511], [403, 511], [402, 511], [401, 511], [4...   \n3495  [[[18, 362], [17, 362], [16, 362], [16, 361], [15, 361], [14, 361], [13, 361], [13, 360], [12, 360], [11, 360], [11, 359], [10, 359], [10, 358], [9, 358], [9, 357], [8, 357], [8, 356], [8, 355], [...   \n3496  [[[131, 501], [130, 501], [129, 501], [128, 501], [127, 501], [126, 501], [126, 500], [125, 500], [124, 500], [124, 499], [123, 499], [123, 498], [122, 498], [122, 497], [122, 496], [121, 496], [1...   \n3497  [[[459, 511], [458, 511], [457, 511], [456, 511], [455, 511], [454, 511], [453, 511], [452, 511], [451, 511], [450, 511], [449, 511], [448, 511], [447, 511], [446, 511], [445, 511], [444, 511], [4...   \n\n                                                                                                                               mask  \\\n0     [[0 0 0 ... 0 0 0]\\n [0 0 0 ... 0 0 0]\\n [0 0 0 ... 0 0 0]\\n ...\\n [0 0 0 ... 0 0 0]\\n [0 0 0 ... 0 0 0]\\n [0 0 0 ... 0 0 0]]   \n1     [[0 0 0 ... 0 0 0]\\n [0 0 0 ... 0 0 0]\\n [0 0 0 ... 0 0 0]\\n ...\\n [0 0 0 ... 0 0 0]\\n [0 0 0 ... 0 0 0]\\n [0 0 0 ... 0 0 0]]   \n2     [[0 0 0 ... 0 0 0]\\n [0 0 0 ... 0 0 0]\\n [0 0 0 ... 0 0 0]\\n ...\\n [0 0 0 ... 0 0 0]\\n [0 0 0 ... 0 0 0]\\n [0 0 0 ... 0 0 0]]   \n3     [[0 0 0 ... 0 0 0]\\n [0 0 0 ... 0 0 0]\\n [0 0 0 ... 0 0 0]\\n ...\\n [0 0 0 ... 0 0 0]\\n [0 0 0 ... 0 0 0]\\n [0 0 0 ... 0 0 0]]   \n4     [[0 0 0 ... 0 0 0]\\n [0 0 0 ... 0 0 0]\\n [0 0 0 ... 0 0 0]\\n ...\\n [0 0 0 ... 0 0 0]\\n [0 0 0 ... 0 0 0]\\n [0 0 0 ... 0 0 0]]   \n...                                                                                                                             ...   \n3493  [[0 0 0 ... 0 0 0]\\n [0 0 0 ... 0 0 0]\\n [0 0 0 ... 0 0 0]\\n ...\\n [0 0 0 ... 0 0 0]\\n [0 0 0 ... 0 0 0]\\n [0 0 0 ... 0 0 0]]   \n3494  [[0 0 0 ... 0 0 0]\\n [0 0 0 ... 0 0 0]\\n [0 0 0 ... 0 0 0]\\n ...\\n [0 0 0 ... 0 0 0]\\n [0 0 0 ... 0 0 0]\\n [0 0 0 ... 0 0 0]]   \n3495  [[0 0 0 ... 0 0 0]\\n [0 0 0 ... 0 0 0]\\n [0 0 0 ... 0 0 0]\\n ...\\n [0 0 0 ... 0 0 0]\\n [0 0 0 ... 0 0 0]\\n [0 0 0 ... 0 0 0]]   \n3496  [[0 0 0 ... 0 0 0]\\n [0 0 0 ... 0 0 0]\\n [0 0 0 ... 0 0 0]\\n ...\\n [0 0 0 ... 0 0 0]\\n [0 0 0 ... 0 0 0]\\n [0 0 0 ... 0 0 0]]   \n3497  [[0 0 0 ... 0 0 0]\\n [0 0 0 ... 0 0 0]\\n [0 0 0 ... 0 0 0]\\n ...\\n [0 0 0 ... 0 0 0]\\n [0 0 0 ... 0 0 0]\\n [0 0 0 ... 0 0 0]]   \n\n                                                                                                                                                                                                          rle  \\\n0     ['73387 16 73897 28 74401 38 74911 43 75420 49 75931 52 76441 55 76952 57 77462 59 77973 62 78481 68 78991 71 79502 73 80013 78 80524 82 81036 86 81548 87 82059 89 82571 90 83083 90 83595 91 84107...   \n1                                                                                                                                                    ['30 31 541 32 1053 31 1566 27 2079 25 2594 21 3109 15']   \n2     ['190976 1 191485 4 191995 6 192506 7 193017 8 193528 9 194039 10 194551 10 195062 11 195574 11 196086 11 196597 12 197108 13 197620 13 198131 14 198642 15 199154 15 199665 16 200177 16 200689 16 ...   \n3                                                                                                                ['257947 6 258457 12 258967 16 259478 18 259989 20 260500 22 261011 24 261522 26 262033 27']   \n4     ['58240 8 58750 13 59261 15 59772 16 60284 17 60795 18 61306 20 61818 20 62329 21 62841 21 63352 22 63864 22 64376 22 64887 23 65399 24 65911 24 66422 25 66934 26 67446 26 67958 27 68470 27 68982 ...   \n...                                                                                                                                                                                                       ...   \n3493  ['238002 14 238510 20 239012 32 239520 37 240009 60 240515 67 241022 72 241532 75 242023 96 242533 99 243043 101 243541 115 244047 121 244551 129 245056 136 245558 146 246065 151 246575 153 247081...   \n3494  ['191998 3 192502 11 193012 13 193522 15 194032 17 194542 19 195051 22 195561 24 196072 25 196584 25 197095 26 197606 27 198116 29 198625 32 199135 34 199645 36 200155 38 200665 40 201173 44 20167...   \n3495  ['3365 50 3874 66 4385 70 4896 72 5407 74 5918 76 6430 76 6941 78 7453 78 7965 78 8476 80 8988 80 9500 80 10013 78 10525 78 11037 78 11550 76 12063 74 12576 72 13089 70 13602 67 14116 64 14630 60 ...   \n3496  ['61412 4 61922 8 62432 10 62444 6 62943 21 63455 22 63967 23 64478 24 64990 25 65501 26 66012 27 66524 27 67036 27 67548 27 68059 27 68569 29 69080 30 69592 29 70103 30 70615 30 71126 31 71638 31...   \n3497  ['202240 1 202749 4 203242 23 203752 25 204263 26 204774 27 205281 32 205777 48 206286 51 206796 53 207305 56 207814 59 208323 62 208832 65 209342 67 209851 70 210360 73 210871 74 211382 75 211892...   \n\n      source_wsi      i      j  \n0              1  10240  43008  \n1              1  10240  43008  \n2              1  10240  43008  \n3              1  10240  46080  \n4              1  10240  46080  \n...          ...    ...    ...  \n3493           1   5120  39424  \n3494           1   5120  39424  \n3495           1   5120  39424  \n3496           1  10240  44032  \n3497           1  10240  44032  \n\n[3498 rows x 9 columns]",
      "text/html": "<div>\n<style scoped>\n    .dataframe tbody tr th:only-of-type {\n        vertical-align: middle;\n    }\n\n    .dataframe tbody tr th {\n        vertical-align: top;\n    }\n\n    .dataframe thead th {\n        text-align: right;\n    }\n</style>\n<table border=\"1\" class=\"dataframe\">\n  <thead>\n    <tr style=\"text-align: right;\">\n      <th></th>\n      <th>Unnamed: 0</th>\n      <th>id</th>\n      <th>type</th>\n      <th>coordinates</th>\n      <th>mask</th>\n      <th>rle</th>\n      <th>source_wsi</th>\n      <th>i</th>\n      <th>j</th>\n    </tr>\n  </thead>\n  <tbody>\n    <tr>\n      <th>0</th>\n      <td>0</td>\n      <td>0033bbc76b6b</td>\n      <td>blood_vessel</td>\n      <td>[[[169, 228], [168, 228], [167, 228], [166, 228], [165, 228], [164, 228], [163, 228], [163, 227], [162, 227], [161, 227], [161, 226], [160, 226], [160, 225], [159, 225], [159, 224], [158, 224], [1...</td>\n      <td>[[0 0 0 ... 0 0 0]\\n [0 0 0 ... 0 0 0]\\n [0 0 0 ... 0 0 0]\\n ...\\n [0 0 0 ... 0 0 0]\\n [0 0 0 ... 0 0 0]\\n [0 0 0 ... 0 0 0]]</td>\n      <td>['73387 16 73897 28 74401 38 74911 43 75420 49 75931 52 76441 55 76952 57 77462 59 77973 62 78481 68 78991 71 79502 73 80013 78 80524 82 81036 86 81548 87 82059 89 82571 90 83083 90 83595 91 84107...</td>\n      <td>1</td>\n      <td>10240</td>\n      <td>43008</td>\n    </tr>\n    <tr>\n      <th>1</th>\n      <td>1</td>\n      <td>0033bbc76b6b</td>\n      <td>blood_vessel</td>\n      <td>[[[1, 59], [0, 59], [0, 58], [0, 57], [0, 56], [0, 55], [0, 54], [0, 53], [0, 52], [0, 51], [0, 50], [0, 49], [0, 48], [0, 47], [0, 46], [0, 45], [0, 44], [0, 43], [0, 42], [0, 41], [0, 40], [0, 3...</td>\n      <td>[[0 0 0 ... 0 0 0]\\n [0 0 0 ... 0 0 0]\\n [0 0 0 ... 0 0 0]\\n ...\\n [0 0 0 ... 0 0 0]\\n [0 0 0 ... 0 0 0]\\n [0 0 0 ... 0 0 0]]</td>\n      <td>['30 31 541 32 1053 31 1566 27 2079 25 2594 21 3109 15']</td>\n      <td>1</td>\n      <td>10240</td>\n      <td>43008</td>\n    </tr>\n    <tr>\n      <th>2</th>\n      <td>2</td>\n      <td>0033bbc76b6b</td>\n      <td>blood_vessel</td>\n      <td>[[[406, 511], [405, 511], [404, 511], [403, 511], [402, 511], [401, 511], [400, 511], [399, 511], [398, 511], [397, 511], [396, 511], [395, 511], [394, 511], [393, 511], [392, 511], [391, 511], [3...</td>\n      <td>[[0 0 0 ... 0 0 0]\\n [0 0 0 ... 0 0 0]\\n [0 0 0 ... 0 0 0]\\n ...\\n [0 0 0 ... 0 0 0]\\n [0 0 0 ... 0 0 0]\\n [0 0 0 ... 0 0 0]]</td>\n      <td>['190976 1 191485 4 191995 6 192506 7 193017 8 193528 9 194039 10 194551 10 195062 11 195574 11 196086 11 196597 12 197108 13 197620 13 198131 14 198642 15 199154 15 199665 16 200177 16 200689 16 ...</td>\n      <td>1</td>\n      <td>10240</td>\n      <td>43008</td>\n    </tr>\n    <tr>\n      <th>3</th>\n      <td>3</td>\n      <td>00656c6f2690</td>\n      <td>blood_vessel</td>\n      <td>[[[511, 426], [511, 426], [510, 426], [510, 425], [509, 425], [509, 424], [508, 424], [508, 423], [507, 423], [507, 422], [506, 422], [506, 421], [505, 421], [505, 420], [505, 419], [504, 419], [5...</td>\n      <td>[[0 0 0 ... 0 0 0]\\n [0 0 0 ... 0 0 0]\\n [0 0 0 ... 0 0 0]\\n ...\\n [0 0 0 ... 0 0 0]\\n [0 0 0 ... 0 0 0]\\n [0 0 0 ... 0 0 0]]</td>\n      <td>['257947 6 258457 12 258967 16 259478 18 259989 20 260500 22 261011 24 261522 26 262033 27']</td>\n      <td>1</td>\n      <td>10240</td>\n      <td>46080</td>\n    </tr>\n    <tr>\n      <th>4</th>\n      <td>4</td>\n      <td>00656c6f2690</td>\n      <td>blood_vessel</td>\n      <td>[[[157, 404], [156, 404], [155, 404], [154, 404], [153, 404], [152, 404], [151, 404], [150, 404], [149, 404], [148, 404], [147, 404], [146, 404], [145, 404], [145, 403], [144, 403], [143, 403], [1...</td>\n      <td>[[0 0 0 ... 0 0 0]\\n [0 0 0 ... 0 0 0]\\n [0 0 0 ... 0 0 0]\\n ...\\n [0 0 0 ... 0 0 0]\\n [0 0 0 ... 0 0 0]\\n [0 0 0 ... 0 0 0]]</td>\n      <td>['58240 8 58750 13 59261 15 59772 16 60284 17 60795 18 61306 20 61818 20 62329 21 62841 21 63352 22 63864 22 64376 22 64887 23 65399 24 65911 24 66422 25 66934 26 67446 26 67958 27 68470 27 68982 ...</td>\n      <td>1</td>\n      <td>10240</td>\n      <td>46080</td>\n    </tr>\n    <tr>\n      <th>...</th>\n      <td>...</td>\n      <td>...</td>\n      <td>...</td>\n      <td>...</td>\n      <td>...</td>\n      <td>...</td>\n      <td>...</td>\n      <td>...</td>\n      <td>...</td>\n    </tr>\n    <tr>\n      <th>3493</th>\n      <td>3493</td>\n      <td>fd2437954fd8</td>\n      <td>blood_vessel</td>\n      <td>[[[481, 454], [480, 454], [479, 454], [478, 454], [477, 454], [476, 454], [475, 454], [474, 454], [473, 454], [473, 453], [472, 453], [471, 453], [471, 452], [470, 452], [469, 452], [469, 451], [4...</td>\n      <td>[[0 0 0 ... 0 0 0]\\n [0 0 0 ... 0 0 0]\\n [0 0 0 ... 0 0 0]\\n ...\\n [0 0 0 ... 0 0 0]\\n [0 0 0 ... 0 0 0]\\n [0 0 0 ... 0 0 0]]</td>\n      <td>['238002 14 238510 20 239012 32 239520 37 240009 60 240515 67 241022 72 241532 75 242023 96 242533 99 243043 101 243541 115 244047 121 244551 129 245056 136 245558 146 246065 151 246575 153 247081...</td>\n      <td>1</td>\n      <td>5120</td>\n      <td>39424</td>\n    </tr>\n    <tr>\n      <th>3494</th>\n      <td>3494</td>\n      <td>fd2437954fd8</td>\n      <td>blood_vessel</td>\n      <td>[[[416, 511], [415, 511], [414, 511], [413, 511], [412, 511], [411, 511], [410, 511], [409, 511], [408, 511], [407, 511], [406, 511], [405, 511], [404, 511], [403, 511], [402, 511], [401, 511], [4...</td>\n      <td>[[0 0 0 ... 0 0 0]\\n [0 0 0 ... 0 0 0]\\n [0 0 0 ... 0 0 0]\\n ...\\n [0 0 0 ... 0 0 0]\\n [0 0 0 ... 0 0 0]\\n [0 0 0 ... 0 0 0]]</td>\n      <td>['191998 3 192502 11 193012 13 193522 15 194032 17 194542 19 195051 22 195561 24 196072 25 196584 25 197095 26 197606 27 198116 29 198625 32 199135 34 199645 36 200155 38 200665 40 201173 44 20167...</td>\n      <td>1</td>\n      <td>5120</td>\n      <td>39424</td>\n    </tr>\n    <tr>\n      <th>3495</th>\n      <td>3495</td>\n      <td>fd2437954fd8</td>\n      <td>blood_vessel</td>\n      <td>[[[18, 362], [17, 362], [16, 362], [16, 361], [15, 361], [14, 361], [13, 361], [13, 360], [12, 360], [11, 360], [11, 359], [10, 359], [10, 358], [9, 358], [9, 357], [8, 357], [8, 356], [8, 355], [...</td>\n      <td>[[0 0 0 ... 0 0 0]\\n [0 0 0 ... 0 0 0]\\n [0 0 0 ... 0 0 0]\\n ...\\n [0 0 0 ... 0 0 0]\\n [0 0 0 ... 0 0 0]\\n [0 0 0 ... 0 0 0]]</td>\n      <td>['3365 50 3874 66 4385 70 4896 72 5407 74 5918 76 6430 76 6941 78 7453 78 7965 78 8476 80 8988 80 9500 80 10013 78 10525 78 11037 78 11550 76 12063 74 12576 72 13089 70 13602 67 14116 64 14630 60 ...</td>\n      <td>1</td>\n      <td>5120</td>\n      <td>39424</td>\n    </tr>\n    <tr>\n      <th>3496</th>\n      <td>3496</td>\n      <td>fe248458ea89</td>\n      <td>blood_vessel</td>\n      <td>[[[131, 501], [130, 501], [129, 501], [128, 501], [127, 501], [126, 501], [126, 500], [125, 500], [124, 500], [124, 499], [123, 499], [123, 498], [122, 498], [122, 497], [122, 496], [121, 496], [1...</td>\n      <td>[[0 0 0 ... 0 0 0]\\n [0 0 0 ... 0 0 0]\\n [0 0 0 ... 0 0 0]\\n ...\\n [0 0 0 ... 0 0 0]\\n [0 0 0 ... 0 0 0]\\n [0 0 0 ... 0 0 0]]</td>\n      <td>['61412 4 61922 8 62432 10 62444 6 62943 21 63455 22 63967 23 64478 24 64990 25 65501 26 66012 27 66524 27 67036 27 67548 27 68059 27 68569 29 69080 30 69592 29 70103 30 70615 30 71126 31 71638 31...</td>\n      <td>1</td>\n      <td>10240</td>\n      <td>44032</td>\n    </tr>\n    <tr>\n      <th>3497</th>\n      <td>3497</td>\n      <td>fe248458ea89</td>\n      <td>blood_vessel</td>\n      <td>[[[459, 511], [458, 511], [457, 511], [456, 511], [455, 511], [454, 511], [453, 511], [452, 511], [451, 511], [450, 511], [449, 511], [448, 511], [447, 511], [446, 511], [445, 511], [444, 511], [4...</td>\n      <td>[[0 0 0 ... 0 0 0]\\n [0 0 0 ... 0 0 0]\\n [0 0 0 ... 0 0 0]\\n ...\\n [0 0 0 ... 0 0 0]\\n [0 0 0 ... 0 0 0]\\n [0 0 0 ... 0 0 0]]</td>\n      <td>['202240 1 202749 4 203242 23 203752 25 204263 26 204774 27 205281 32 205777 48 206286 51 206796 53 207305 56 207814 59 208323 62 208832 65 209342 67 209851 70 210360 73 210871 74 211382 75 211892...</td>\n      <td>1</td>\n      <td>10240</td>\n      <td>44032</td>\n    </tr>\n  </tbody>\n</table>\n<p>3498 rows × 9 columns</p>\n</div>"
     },
     "execution_count": 5,
     "metadata": {},
     "output_type": "execute_result"
    }
   ],
   "source": [
    "final_df_src = r\"\\\\fatherserverdw\\Kevin\\hubmap\\obj_detect_bvonly.xlsx\"\n",
    "final_df = pd.read_excel(final_df_src)\n",
    "final_df"
   ],
   "metadata": {
    "collapsed": false
   }
  },
  {
   "cell_type": "code",
   "execution_count": 3,
   "outputs": [],
   "source": [
    "def set_seed(seed=42):\n",
    "    np.random.seed(seed) #numpy specific random\n",
    "    random.seed(seed) #python specific random (also for albumentation augmentations)\n",
    "    torch.manual_seed(seed) #torch specific random\n",
    "    torch.cuda.manual_seed(seed) #cuda specific random\n",
    "    #when running on the CuDNN backend, two further options must be set\n",
    "    torch.backends.cudnn.deterministic = True\n",
    "    torch.backends.cudnn.benchmark = False #when deterministic = true, benchmark = False, otherwise might not be deterministic\n",
    "    os.environ['PYTHONHASHSEED'] = str(seed)  #set a fixed value for the hash seed, for hashes like dictionary\n",
    "set_seed(seed=42)"
   ],
   "metadata": {
    "collapsed": false
   }
  },
  {
   "cell_type": "code",
   "execution_count": 4,
   "outputs": [],
   "source": [
    "image_path_src = r\"\\\\fatherserverdw\\Kevin\\hubmap\\train_overlap\\images\"\n",
    "image_full_paths = [os.path.join(image_path_src,x) for x in os.listdir(image_path_src) if x.endswith(\".tif\")]\n",
    "bvmask_path_src = r\"\\\\fatherserverdw\\Kevin\\hubmap\\train_overlap\\masks\\blood_vessel\"\n",
    "bvmask_full_paths = [os.path.join(bvmask_path_src,x) for x in os.listdir(bvmask_path_src) if x.endswith(\".tif\")]\n",
    "glmask_path_src = r\"\\\\fatherserverdw\\Kevin\\hubmap\\train_overlap\\masks\\glomerulus\"\n",
    "glmask_full_paths = [os.path.join(glmask_path_src,x) for x in os.listdir(glmask_path_src) if x.endswith(\".tif\")]"
   ],
   "metadata": {
    "collapsed": false
   }
  },
  {
   "cell_type": "code",
   "execution_count": null,
   "outputs": [],
   "source": [
    "bvmask_path = bvmask_full_paths[1]\n",
    "bvmask = cv2.imread(bvmask_path,0)\n",
    "bvmasks = label(bvmask)\n",
    "num_masks = len(np.unique(bvmasks))\n",
    "coords = []\n",
    "types = []\n",
    "for idx in range(1,num_masks):\n",
    "    bin_mask = bvmasks == idx\n",
    "    bin_mask = bin_mask.astype(np.uint8)\n",
    "    contours, _ = cv2.findContours(bin_mask.copy(), cv2.RETR_EXTERNAL, cv2.CHAIN_APPROX_TC89_KCOS)\n",
    "    coords.append(contours)\n",
    "    types.append(0)"
   ],
   "metadata": {
    "collapsed": false,
    "pycharm": {
     "is_executing": true
    }
   }
  },
  {
   "cell_type": "code",
   "execution_count": 7,
   "outputs": [
    {
     "name": "stderr",
     "output_type": "stream",
     "text": [
      "100%|██████████| 6874/6874 [04:22<00:00, 26.15it/s]\n"
     ]
    }
   ],
   "source": [
    "#need df of id, coordinate, and type\n",
    "#coordinate and type list of lists, in same order, either 0 or 1, 0 = blood vessel, 1 = glomerulus for type.\n",
    "ids = [os.path.basename(x) for x in image_full_paths]\n",
    "data_df = pd.DataFrame(columns=[\"id\",\"coords\",\"type\"])\n",
    "data_df[\"id\"] = ids\n",
    "ids = data_df[\"id\"].tolist()\n",
    "for index,_id in tqdm(enumerate(ids),total = len(ids)):\n",
    "    idcoords = []\n",
    "    idtypes = []\n",
    "    bvmask_path = os.path.join(bvmask_path_src,_id)\n",
    "    bvmask = cv2.imread(bvmask_path,0)\n",
    "    bvmasks = label(bvmask)\n",
    "    num_bv_masks = len(np.unique(bvmasks))\n",
    "    bvcoords = []\n",
    "    bvtypes = []\n",
    "    for idx in range(1,num_bv_masks):\n",
    "        bvbin_mask = bvmasks == idx\n",
    "        bvbin_mask = bvbin_mask.astype(np.uint8)\n",
    "        bvcontours, _ = cv2.findContours(bvbin_mask.copy(), cv2.RETR_EXTERNAL, cv2.CHAIN_APPROX_TC89_KCOS)\n",
    "        bvcoords.append(bvcontours)\n",
    "        bvtypes.append(0)\n",
    "    glmask_path = os.path.join(glmask_path_src,_id)\n",
    "    if os.path.exists(glmask_path):\n",
    "        glmask = cv2.imread(glmask_path,0)\n",
    "        glmasks = label(glmask)\n",
    "        num_gl_masks = len(np.unique(glmasks))\n",
    "        for idx1 in range(1,num_gl_masks):\n",
    "            glbin_mask = glmasks == idx1\n",
    "            glbin_mask = glbin_mask.astype(np.uint8)\n",
    "            glcontours, _ = cv2.findContours(bvbin_mask.copy(), cv2.RETR_EXTERNAL, cv2.CHAIN_APPROX_TC89_KCOS)\n",
    "            bvcoords.append(glcontours)\n",
    "            bvtypes.append(1)\n",
    "    idcoords = bvcoords\n",
    "    idtypes = bvtypes\n",
    "    data_df[\"coords\"].iloc[index] = idcoords\n",
    "    data_df[\"type\"].iloc[index] = idtypes"
   ],
   "metadata": {
    "collapsed": false
   }
  },
  {
   "cell_type": "code",
   "execution_count": 8,
   "outputs": [
    {
     "data": {
      "text/plain": "                              id  \\\n0               5631a47d5b0c.tif   \n1     5631a47d5b0c_bot_right.tif   \n2               2fd7649afbc1.tif   \n3     2fd7649afbc1_top_right.tif   \n4               88c95fb9fb14.tif   \n...                          ...   \n6869   83dd35ad9daf_bot_left.tif   \n6870            dd4a8ba579c0.tif   \n6871   dd4a8ba579c0_top_left.tif   \n6872            3b0d08f3e37a.tif   \n6873            c0073ae5f1f6.tif   \n\n                                                 coords  \\\n0     [([[[420 273]], [[416 277]], [[415 280]], [[41...   \n1     [([[[164  17]], [[160  21]], [[159  24]], [[15...   \n2     [([[[395 291]], [[392 292]], [[389 293]], [[38...   \n3     [([[[164  17]], [[160  21]], [[159  24]], [[15...   \n4     [([[[495 243]], [[492 245]], [[489 248]], [[48...   \n...                                                 ...   \n6869  [([[[27  0]], [[30  1]], [[45 16]], [[47 16]],...   \n6870  [([[[ 17 175]], [[ 15 176]], [[ 13 178]], [[ 1...   \n6871  [([[[27  0]], [[30  1]], [[45 16]], [[47 16]],...   \n6872  [([[[115  54]], [[113  55]], [[108  58]], [[10...   \n6873  [([[[224  71]], [[218  72]], [[211  73]], [[20...   \n\n                                type  \n0                                [0]  \n1                       [0, 0, 0, 0]  \n2                                [0]  \n3                       [0, 0, 0, 0]  \n4                          [0, 0, 0]  \n...                              ...  \n6869  [0, 0, 0, 0, 0, 0, 0, 0, 0, 0]  \n6870                       [0, 0, 1]  \n6871  [0, 0, 0, 0, 0, 0, 0, 0, 0, 0]  \n6872                             [0]  \n6873              [0, 0, 0, 0, 0, 1]  \n\n[6874 rows x 3 columns]",
      "text/html": "<div>\n<style scoped>\n    .dataframe tbody tr th:only-of-type {\n        vertical-align: middle;\n    }\n\n    .dataframe tbody tr th {\n        vertical-align: top;\n    }\n\n    .dataframe thead th {\n        text-align: right;\n    }\n</style>\n<table border=\"1\" class=\"dataframe\">\n  <thead>\n    <tr style=\"text-align: right;\">\n      <th></th>\n      <th>id</th>\n      <th>coords</th>\n      <th>type</th>\n    </tr>\n  </thead>\n  <tbody>\n    <tr>\n      <th>0</th>\n      <td>5631a47d5b0c.tif</td>\n      <td>[([[[420 273]], [[416 277]], [[415 280]], [[41...</td>\n      <td>[0]</td>\n    </tr>\n    <tr>\n      <th>1</th>\n      <td>5631a47d5b0c_bot_right.tif</td>\n      <td>[([[[164  17]], [[160  21]], [[159  24]], [[15...</td>\n      <td>[0, 0, 0, 0]</td>\n    </tr>\n    <tr>\n      <th>2</th>\n      <td>2fd7649afbc1.tif</td>\n      <td>[([[[395 291]], [[392 292]], [[389 293]], [[38...</td>\n      <td>[0]</td>\n    </tr>\n    <tr>\n      <th>3</th>\n      <td>2fd7649afbc1_top_right.tif</td>\n      <td>[([[[164  17]], [[160  21]], [[159  24]], [[15...</td>\n      <td>[0, 0, 0, 0]</td>\n    </tr>\n    <tr>\n      <th>4</th>\n      <td>88c95fb9fb14.tif</td>\n      <td>[([[[495 243]], [[492 245]], [[489 248]], [[48...</td>\n      <td>[0, 0, 0]</td>\n    </tr>\n    <tr>\n      <th>...</th>\n      <td>...</td>\n      <td>...</td>\n      <td>...</td>\n    </tr>\n    <tr>\n      <th>6869</th>\n      <td>83dd35ad9daf_bot_left.tif</td>\n      <td>[([[[27  0]], [[30  1]], [[45 16]], [[47 16]],...</td>\n      <td>[0, 0, 0, 0, 0, 0, 0, 0, 0, 0]</td>\n    </tr>\n    <tr>\n      <th>6870</th>\n      <td>dd4a8ba579c0.tif</td>\n      <td>[([[[ 17 175]], [[ 15 176]], [[ 13 178]], [[ 1...</td>\n      <td>[0, 0, 1]</td>\n    </tr>\n    <tr>\n      <th>6871</th>\n      <td>dd4a8ba579c0_top_left.tif</td>\n      <td>[([[[27  0]], [[30  1]], [[45 16]], [[47 16]],...</td>\n      <td>[0, 0, 0, 0, 0, 0, 0, 0, 0, 0]</td>\n    </tr>\n    <tr>\n      <th>6872</th>\n      <td>3b0d08f3e37a.tif</td>\n      <td>[([[[115  54]], [[113  55]], [[108  58]], [[10...</td>\n      <td>[0]</td>\n    </tr>\n    <tr>\n      <th>6873</th>\n      <td>c0073ae5f1f6.tif</td>\n      <td>[([[[224  71]], [[218  72]], [[211  73]], [[20...</td>\n      <td>[0, 0, 0, 0, 0, 1]</td>\n    </tr>\n  </tbody>\n</table>\n<p>6874 rows × 3 columns</p>\n</div>"
     },
     "execution_count": 8,
     "metadata": {},
     "output_type": "execute_result"
    }
   ],
   "source": [
    "data_df"
   ],
   "metadata": {
    "collapsed": false
   }
  },
  {
   "cell_type": "code",
   "execution_count": 9,
   "outputs": [],
   "source": [
    "#now make a function to create .txt file for the annotations for yolov8:\n",
    "def create_label_txt_file(coordinate, type, ids, path):\n",
    "    \"\"\"\n",
    "    :param coordinate: each coordinate array from df above\n",
    "    :param type: each type array (same length as coordinates) from df above\n",
    "    :param ids: each ids from df above\n",
    "    :param path: save path\n",
    "    :return: desired yolov8 yaml file\n",
    "    \"\"\"\n",
    "    label_txt = ''\n",
    "    for idx1 in range(len(coordinate)):\n",
    "        indiv_type = type[idx1]\n",
    "        if indiv_type == 0:\n",
    "            label_txt += '0 '\n",
    "        if indiv_type == 1:\n",
    "            label_txt += '1 '\n",
    "        indiv_coordinate = np.array(coordinate[idx1]).astype(float)\n",
    "        indiv_coordinate /= float(512)\n",
    "        coor_list = list(indiv_coordinate.reshape(-1).astype(str))\n",
    "        coor_str = ' '.join(coor_list)\n",
    "        #add string to label txt\n",
    "        label_txt += f'{coor_str}\\n'\n",
    "\n",
    "    #write labels to txt file\n",
    "    with open(f'{path}/{ids}.txt', 'w') as f:\n",
    "        f.write(label_txt)"
   ],
   "metadata": {
    "collapsed": false
   }
  },
  {
   "cell_type": "code",
   "execution_count": 94,
   "outputs": [
    {
     "name": "stderr",
     "output_type": "stream",
     "text": [
      "100%|██████████| 6874/6874 [03:36<00:00, 31.70it/s] \n"
     ]
    }
   ],
   "source": [
    "#create label .txt files for val:\n",
    "label_save_path = r\"\\\\fatherserverdw\\Kevin\\hubmap\\yolov8_v4\\all_labels\"\n",
    "num_images = data_df.shape[0]\n",
    "coordinates = []\n",
    "type_list = []\n",
    "for idx2 in range(num_images):\n",
    "    coord = data_df.iloc[idx2][\"coords\"]\n",
    "    types = data_df.iloc[idx2][\"type\"]\n",
    "    coordinates.append(coord)\n",
    "    type_list.append(types)\n",
    "for idx3 in tqdm(range(num_images)):\n",
    "    create_label_txt_file(coordinate=coordinates[idx3], type=type_list[idx3], ids=data_df.iloc[idx3][\"id\"].split(\".\")[0],\n",
    "                             path=label_save_path)"
   ],
   "metadata": {
    "collapsed": false
   }
  },
  {
   "cell_type": "markdown",
   "source": [
    "### Now that the .txt file for all the labels have been created, we now want to divide the image-label pair into training and validation data."
   ],
   "metadata": {
    "collapsed": false
   }
  },
  {
   "cell_type": "code",
   "execution_count": 12,
   "outputs": [
    {
     "data": {
      "text/plain": "                              id  \\\n0               5631a47d5b0c.tif   \n1     5631a47d5b0c_bot_right.tif   \n2               2fd7649afbc1.tif   \n3     2fd7649afbc1_top_right.tif   \n4               88c95fb9fb14.tif   \n...                          ...   \n6869   83dd35ad9daf_bot_left.tif   \n6870            dd4a8ba579c0.tif   \n6871   dd4a8ba579c0_top_left.tif   \n6872            3b0d08f3e37a.tif   \n6873            c0073ae5f1f6.tif   \n\n                                                 coords  \\\n0     [([[[420 273]], [[416 277]], [[415 280]], [[41...   \n1     [([[[164  17]], [[160  21]], [[159  24]], [[15...   \n2     [([[[395 291]], [[392 292]], [[389 293]], [[38...   \n3     [([[[164  17]], [[160  21]], [[159  24]], [[15...   \n4     [([[[495 243]], [[492 245]], [[489 248]], [[48...   \n...                                                 ...   \n6869  [([[[27  0]], [[30  1]], [[45 16]], [[47 16]],...   \n6870  [([[[ 17 175]], [[ 15 176]], [[ 13 178]], [[ 1...   \n6871  [([[[27  0]], [[30  1]], [[45 16]], [[47 16]],...   \n6872  [([[[115  54]], [[113  55]], [[108  58]], [[10...   \n6873  [([[[224  71]], [[218  72]], [[211  73]], [[20...   \n\n                                type       real_id  \n0                                [0]  5631a47d5b0c  \n1                       [0, 0, 0, 0]  5631a47d5b0c  \n2                                [0]  2fd7649afbc1  \n3                       [0, 0, 0, 0]  2fd7649afbc1  \n4                          [0, 0, 0]  88c95fb9fb14  \n...                              ...           ...  \n6869  [0, 0, 0, 0, 0, 0, 0, 0, 0, 0]  83dd35ad9daf  \n6870                       [0, 0, 1]  dd4a8ba579c0  \n6871  [0, 0, 0, 0, 0, 0, 0, 0, 0, 0]  dd4a8ba579c0  \n6872                             [0]  3b0d08f3e37a  \n6873              [0, 0, 0, 0, 0, 1]  c0073ae5f1f6  \n\n[6874 rows x 4 columns]",
      "text/html": "<div>\n<style scoped>\n    .dataframe tbody tr th:only-of-type {\n        vertical-align: middle;\n    }\n\n    .dataframe tbody tr th {\n        vertical-align: top;\n    }\n\n    .dataframe thead th {\n        text-align: right;\n    }\n</style>\n<table border=\"1\" class=\"dataframe\">\n  <thead>\n    <tr style=\"text-align: right;\">\n      <th></th>\n      <th>id</th>\n      <th>coords</th>\n      <th>type</th>\n      <th>real_id</th>\n    </tr>\n  </thead>\n  <tbody>\n    <tr>\n      <th>0</th>\n      <td>5631a47d5b0c.tif</td>\n      <td>[([[[420 273]], [[416 277]], [[415 280]], [[41...</td>\n      <td>[0]</td>\n      <td>5631a47d5b0c</td>\n    </tr>\n    <tr>\n      <th>1</th>\n      <td>5631a47d5b0c_bot_right.tif</td>\n      <td>[([[[164  17]], [[160  21]], [[159  24]], [[15...</td>\n      <td>[0, 0, 0, 0]</td>\n      <td>5631a47d5b0c</td>\n    </tr>\n    <tr>\n      <th>2</th>\n      <td>2fd7649afbc1.tif</td>\n      <td>[([[[395 291]], [[392 292]], [[389 293]], [[38...</td>\n      <td>[0]</td>\n      <td>2fd7649afbc1</td>\n    </tr>\n    <tr>\n      <th>3</th>\n      <td>2fd7649afbc1_top_right.tif</td>\n      <td>[([[[164  17]], [[160  21]], [[159  24]], [[15...</td>\n      <td>[0, 0, 0, 0]</td>\n      <td>2fd7649afbc1</td>\n    </tr>\n    <tr>\n      <th>4</th>\n      <td>88c95fb9fb14.tif</td>\n      <td>[([[[495 243]], [[492 245]], [[489 248]], [[48...</td>\n      <td>[0, 0, 0]</td>\n      <td>88c95fb9fb14</td>\n    </tr>\n    <tr>\n      <th>...</th>\n      <td>...</td>\n      <td>...</td>\n      <td>...</td>\n      <td>...</td>\n    </tr>\n    <tr>\n      <th>6869</th>\n      <td>83dd35ad9daf_bot_left.tif</td>\n      <td>[([[[27  0]], [[30  1]], [[45 16]], [[47 16]],...</td>\n      <td>[0, 0, 0, 0, 0, 0, 0, 0, 0, 0]</td>\n      <td>83dd35ad9daf</td>\n    </tr>\n    <tr>\n      <th>6870</th>\n      <td>dd4a8ba579c0.tif</td>\n      <td>[([[[ 17 175]], [[ 15 176]], [[ 13 178]], [[ 1...</td>\n      <td>[0, 0, 1]</td>\n      <td>dd4a8ba579c0</td>\n    </tr>\n    <tr>\n      <th>6871</th>\n      <td>dd4a8ba579c0_top_left.tif</td>\n      <td>[([[[27  0]], [[30  1]], [[45 16]], [[47 16]],...</td>\n      <td>[0, 0, 0, 0, 0, 0, 0, 0, 0, 0]</td>\n      <td>dd4a8ba579c0</td>\n    </tr>\n    <tr>\n      <th>6872</th>\n      <td>3b0d08f3e37a.tif</td>\n      <td>[([[[115  54]], [[113  55]], [[108  58]], [[10...</td>\n      <td>[0]</td>\n      <td>3b0d08f3e37a</td>\n    </tr>\n    <tr>\n      <th>6873</th>\n      <td>c0073ae5f1f6.tif</td>\n      <td>[([[[224  71]], [[218  72]], [[211  73]], [[20...</td>\n      <td>[0, 0, 0, 0, 0, 1]</td>\n      <td>c0073ae5f1f6</td>\n    </tr>\n  </tbody>\n</table>\n<p>6874 rows × 4 columns</p>\n</div>"
     },
     "execution_count": 12,
     "metadata": {},
     "output_type": "execute_result"
    }
   ],
   "source": [
    "data_df[\"real_id\"] = [x.split('.tif')[0] if len(x.split('.tif')[0]) > 2 else x.split('_')[0] for x in data_df['id'].tolist()]\n",
    "data_df[\"real_id\"] = [x if len(x.split('_')[0]) < 1 else x.split('_')[0] for x in data_df['real_id'].tolist()]\n",
    "data_df"
   ],
   "metadata": {
    "collapsed": false
   }
  },
  {
   "cell_type": "code",
   "execution_count": 13,
   "outputs": [
    {
     "data": {
      "text/plain": "           real_id  source_wsi  dataset      i      j\n0     0006ff2aa7cd           2        2  16896  16420\n2     00168d1b7522           2        2  14848  14884\n4     0033bbc76b6b           1        1  10240  43008\n5     003504460b3a           3        2   8192  11776\n8     004daf1cbe75           3        2   6144  11264\n...            ...         ...      ...    ...    ...\n7016  ff434af74304           4        2   3072  22528\n7017  ff4897b3eda6           4        2  11776  20992\n7021  ff66dec71c4c           3        2   5120  10752\n7025  ff99cdef0f2a           4        2   5120  24064\n7029  ffd3d193c71e           3        2   7680  16896\n\n[1633 rows x 5 columns]",
      "text/html": "<div>\n<style scoped>\n    .dataframe tbody tr th:only-of-type {\n        vertical-align: middle;\n    }\n\n    .dataframe tbody tr th {\n        vertical-align: top;\n    }\n\n    .dataframe thead th {\n        text-align: right;\n    }\n</style>\n<table border=\"1\" class=\"dataframe\">\n  <thead>\n    <tr style=\"text-align: right;\">\n      <th></th>\n      <th>real_id</th>\n      <th>source_wsi</th>\n      <th>dataset</th>\n      <th>i</th>\n      <th>j</th>\n    </tr>\n  </thead>\n  <tbody>\n    <tr>\n      <th>0</th>\n      <td>0006ff2aa7cd</td>\n      <td>2</td>\n      <td>2</td>\n      <td>16896</td>\n      <td>16420</td>\n    </tr>\n    <tr>\n      <th>2</th>\n      <td>00168d1b7522</td>\n      <td>2</td>\n      <td>2</td>\n      <td>14848</td>\n      <td>14884</td>\n    </tr>\n    <tr>\n      <th>4</th>\n      <td>0033bbc76b6b</td>\n      <td>1</td>\n      <td>1</td>\n      <td>10240</td>\n      <td>43008</td>\n    </tr>\n    <tr>\n      <th>5</th>\n      <td>003504460b3a</td>\n      <td>3</td>\n      <td>2</td>\n      <td>8192</td>\n      <td>11776</td>\n    </tr>\n    <tr>\n      <th>8</th>\n      <td>004daf1cbe75</td>\n      <td>3</td>\n      <td>2</td>\n      <td>6144</td>\n      <td>11264</td>\n    </tr>\n    <tr>\n      <th>...</th>\n      <td>...</td>\n      <td>...</td>\n      <td>...</td>\n      <td>...</td>\n      <td>...</td>\n    </tr>\n    <tr>\n      <th>7016</th>\n      <td>ff434af74304</td>\n      <td>4</td>\n      <td>2</td>\n      <td>3072</td>\n      <td>22528</td>\n    </tr>\n    <tr>\n      <th>7017</th>\n      <td>ff4897b3eda6</td>\n      <td>4</td>\n      <td>2</td>\n      <td>11776</td>\n      <td>20992</td>\n    </tr>\n    <tr>\n      <th>7021</th>\n      <td>ff66dec71c4c</td>\n      <td>3</td>\n      <td>2</td>\n      <td>5120</td>\n      <td>10752</td>\n    </tr>\n    <tr>\n      <th>7025</th>\n      <td>ff99cdef0f2a</td>\n      <td>4</td>\n      <td>2</td>\n      <td>5120</td>\n      <td>24064</td>\n    </tr>\n    <tr>\n      <th>7029</th>\n      <td>ffd3d193c71e</td>\n      <td>3</td>\n      <td>2</td>\n      <td>7680</td>\n      <td>16896</td>\n    </tr>\n  </tbody>\n</table>\n<p>1633 rows × 5 columns</p>\n</div>"
     },
     "execution_count": 13,
     "metadata": {},
     "output_type": "execute_result"
    }
   ],
   "source": [
    "meta_df = pd.read_csv(r\"\\\\fatherserverdw\\Kevin\\hubmap\\tile_meta.csv\")\n",
    "meta_df = meta_df[meta_df[\"dataset\"] < 3] # dataset 1, 2 only\n",
    "meta_df = meta_df.rename(columns={'id': 'real_id'})\n",
    "meta_df"
   ],
   "metadata": {
    "collapsed": false
   }
  },
  {
   "cell_type": "code",
   "execution_count": 14,
   "outputs": [
    {
     "data": {
      "text/plain": "                              id  \\\n0               5631a47d5b0c.tif   \n1     5631a47d5b0c_bot_right.tif   \n2               2fd7649afbc1.tif   \n3     2fd7649afbc1_top_right.tif   \n4               88c95fb9fb14.tif   \n...                          ...   \n6869   83dd35ad9daf_bot_left.tif   \n6870            dd4a8ba579c0.tif   \n6871   dd4a8ba579c0_top_left.tif   \n6872            3b0d08f3e37a.tif   \n6873            c0073ae5f1f6.tif   \n\n                                                 coords  \\\n0     [([[[420 273]], [[416 277]], [[415 280]], [[41...   \n1     [([[[164  17]], [[160  21]], [[159  24]], [[15...   \n2     [([[[395 291]], [[392 292]], [[389 293]], [[38...   \n3     [([[[164  17]], [[160  21]], [[159  24]], [[15...   \n4     [([[[495 243]], [[492 245]], [[489 248]], [[48...   \n...                                                 ...   \n6869  [([[[27  0]], [[30  1]], [[45 16]], [[47 16]],...   \n6870  [([[[ 17 175]], [[ 15 176]], [[ 13 178]], [[ 1...   \n6871  [([[[27  0]], [[30  1]], [[45 16]], [[47 16]],...   \n6872  [([[[115  54]], [[113  55]], [[108  58]], [[10...   \n6873  [([[[224  71]], [[218  72]], [[211  73]], [[20...   \n\n                                type       real_id  source_wsi  dataset  \\\n0                                [0]  5631a47d5b0c           1        1   \n1                       [0, 0, 0, 0]  5631a47d5b0c           1        1   \n2                                [0]  2fd7649afbc1           1        1   \n3                       [0, 0, 0, 0]  2fd7649afbc1           1        1   \n4                          [0, 0, 0]  88c95fb9fb14           1        1   \n...                              ...           ...         ...      ...   \n6869  [0, 0, 0, 0, 0, 0, 0, 0, 0, 0]  83dd35ad9daf           4        2   \n6870                       [0, 0, 1]  dd4a8ba579c0           4        2   \n6871  [0, 0, 0, 0, 0, 0, 0, 0, 0, 0]  dd4a8ba579c0           4        2   \n6872                             [0]  3b0d08f3e37a           4        2   \n6873              [0, 0, 0, 0, 0, 1]  c0073ae5f1f6           4        2   \n\n          i      j  \n0      1536  42496  \n1      1536  42496  \n2      1536  43008  \n3      1536  43008  \n4      2048  39424  \n...     ...    ...  \n6869  13312  24576  \n6870  13312  25088  \n6871  13312  25088  \n6872  13312  26112  \n6873  13312  27136  \n\n[6874 rows x 8 columns]",
      "text/html": "<div>\n<style scoped>\n    .dataframe tbody tr th:only-of-type {\n        vertical-align: middle;\n    }\n\n    .dataframe tbody tr th {\n        vertical-align: top;\n    }\n\n    .dataframe thead th {\n        text-align: right;\n    }\n</style>\n<table border=\"1\" class=\"dataframe\">\n  <thead>\n    <tr style=\"text-align: right;\">\n      <th></th>\n      <th>id</th>\n      <th>coords</th>\n      <th>type</th>\n      <th>real_id</th>\n      <th>source_wsi</th>\n      <th>dataset</th>\n      <th>i</th>\n      <th>j</th>\n    </tr>\n  </thead>\n  <tbody>\n    <tr>\n      <th>0</th>\n      <td>5631a47d5b0c.tif</td>\n      <td>[([[[420 273]], [[416 277]], [[415 280]], [[41...</td>\n      <td>[0]</td>\n      <td>5631a47d5b0c</td>\n      <td>1</td>\n      <td>1</td>\n      <td>1536</td>\n      <td>42496</td>\n    </tr>\n    <tr>\n      <th>1</th>\n      <td>5631a47d5b0c_bot_right.tif</td>\n      <td>[([[[164  17]], [[160  21]], [[159  24]], [[15...</td>\n      <td>[0, 0, 0, 0]</td>\n      <td>5631a47d5b0c</td>\n      <td>1</td>\n      <td>1</td>\n      <td>1536</td>\n      <td>42496</td>\n    </tr>\n    <tr>\n      <th>2</th>\n      <td>2fd7649afbc1.tif</td>\n      <td>[([[[395 291]], [[392 292]], [[389 293]], [[38...</td>\n      <td>[0]</td>\n      <td>2fd7649afbc1</td>\n      <td>1</td>\n      <td>1</td>\n      <td>1536</td>\n      <td>43008</td>\n    </tr>\n    <tr>\n      <th>3</th>\n      <td>2fd7649afbc1_top_right.tif</td>\n      <td>[([[[164  17]], [[160  21]], [[159  24]], [[15...</td>\n      <td>[0, 0, 0, 0]</td>\n      <td>2fd7649afbc1</td>\n      <td>1</td>\n      <td>1</td>\n      <td>1536</td>\n      <td>43008</td>\n    </tr>\n    <tr>\n      <th>4</th>\n      <td>88c95fb9fb14.tif</td>\n      <td>[([[[495 243]], [[492 245]], [[489 248]], [[48...</td>\n      <td>[0, 0, 0]</td>\n      <td>88c95fb9fb14</td>\n      <td>1</td>\n      <td>1</td>\n      <td>2048</td>\n      <td>39424</td>\n    </tr>\n    <tr>\n      <th>...</th>\n      <td>...</td>\n      <td>...</td>\n      <td>...</td>\n      <td>...</td>\n      <td>...</td>\n      <td>...</td>\n      <td>...</td>\n      <td>...</td>\n    </tr>\n    <tr>\n      <th>6869</th>\n      <td>83dd35ad9daf_bot_left.tif</td>\n      <td>[([[[27  0]], [[30  1]], [[45 16]], [[47 16]],...</td>\n      <td>[0, 0, 0, 0, 0, 0, 0, 0, 0, 0]</td>\n      <td>83dd35ad9daf</td>\n      <td>4</td>\n      <td>2</td>\n      <td>13312</td>\n      <td>24576</td>\n    </tr>\n    <tr>\n      <th>6870</th>\n      <td>dd4a8ba579c0.tif</td>\n      <td>[([[[ 17 175]], [[ 15 176]], [[ 13 178]], [[ 1...</td>\n      <td>[0, 0, 1]</td>\n      <td>dd4a8ba579c0</td>\n      <td>4</td>\n      <td>2</td>\n      <td>13312</td>\n      <td>25088</td>\n    </tr>\n    <tr>\n      <th>6871</th>\n      <td>dd4a8ba579c0_top_left.tif</td>\n      <td>[([[[27  0]], [[30  1]], [[45 16]], [[47 16]],...</td>\n      <td>[0, 0, 0, 0, 0, 0, 0, 0, 0, 0]</td>\n      <td>dd4a8ba579c0</td>\n      <td>4</td>\n      <td>2</td>\n      <td>13312</td>\n      <td>25088</td>\n    </tr>\n    <tr>\n      <th>6872</th>\n      <td>3b0d08f3e37a.tif</td>\n      <td>[([[[115  54]], [[113  55]], [[108  58]], [[10...</td>\n      <td>[0]</td>\n      <td>3b0d08f3e37a</td>\n      <td>4</td>\n      <td>2</td>\n      <td>13312</td>\n      <td>26112</td>\n    </tr>\n    <tr>\n      <th>6873</th>\n      <td>c0073ae5f1f6.tif</td>\n      <td>[([[[224  71]], [[218  72]], [[211  73]], [[20...</td>\n      <td>[0, 0, 0, 0, 0, 1]</td>\n      <td>c0073ae5f1f6</td>\n      <td>4</td>\n      <td>2</td>\n      <td>13312</td>\n      <td>27136</td>\n    </tr>\n  </tbody>\n</table>\n<p>6874 rows × 8 columns</p>\n</div>"
     },
     "execution_count": 14,
     "metadata": {},
     "output_type": "execute_result"
    }
   ],
   "source": [
    "final_data_df = pd.merge(data_df,meta_df,on='real_id')\n",
    "final_data_df"
   ],
   "metadata": {
    "collapsed": false
   }
  },
  {
   "cell_type": "code",
   "execution_count": 15,
   "outputs": [
    {
     "data": {
      "text/plain": "(array([1, 2, 3, 4], dtype=int64),\n array([2100, 1917, 1818, 1039], dtype=int64))"
     },
     "execution_count": 15,
     "metadata": {},
     "output_type": "execute_result"
    }
   ],
   "source": [
    "np.unique(final_data_df[\"source_wsi\"], return_counts=True)"
   ],
   "metadata": {
    "collapsed": false
   }
  },
  {
   "cell_type": "code",
   "execution_count": 16,
   "outputs": [
    {
     "data": {
      "text/plain": "(array([1, 2], dtype=int64), array([1748, 5126], dtype=int64))"
     },
     "execution_count": 16,
     "metadata": {},
     "output_type": "execute_result"
    }
   ],
   "source": [
    "np.unique(final_data_df[\"dataset\"], return_counts=True)"
   ],
   "metadata": {
    "collapsed": false
   }
  },
  {
   "cell_type": "markdown",
   "source": [
    "### Perform StratifiedKFold on the dataframe above, stratify according to dataset so equal ratio of each dataset (1 and 2) is in each fold. Let's do a 5-fold StratifiedKFold so we can perform 5-fold CV during training."
   ],
   "metadata": {
    "collapsed": false
   }
  },
  {
   "cell_type": "code",
   "execution_count": 19,
   "outputs": [
    {
     "data": {
      "text/plain": "                              id  \\\n0               5631a47d5b0c.tif   \n1     5631a47d5b0c_bot_right.tif   \n2               2fd7649afbc1.tif   \n3     2fd7649afbc1_top_right.tif   \n4               88c95fb9fb14.tif   \n...                          ...   \n6869   83dd35ad9daf_bot_left.tif   \n6870            dd4a8ba579c0.tif   \n6871   dd4a8ba579c0_top_left.tif   \n6872            3b0d08f3e37a.tif   \n6873            c0073ae5f1f6.tif   \n\n                                                 coords  \\\n0     [([[[420 273]], [[416 277]], [[415 280]], [[41...   \n1     [([[[164  17]], [[160  21]], [[159  24]], [[15...   \n2     [([[[395 291]], [[392 292]], [[389 293]], [[38...   \n3     [([[[164  17]], [[160  21]], [[159  24]], [[15...   \n4     [([[[495 243]], [[492 245]], [[489 248]], [[48...   \n...                                                 ...   \n6869  [([[[27  0]], [[30  1]], [[45 16]], [[47 16]],...   \n6870  [([[[ 17 175]], [[ 15 176]], [[ 13 178]], [[ 1...   \n6871  [([[[27  0]], [[30  1]], [[45 16]], [[47 16]],...   \n6872  [([[[115  54]], [[113  55]], [[108  58]], [[10...   \n6873  [([[[224  71]], [[218  72]], [[211  73]], [[20...   \n\n                                type       real_id  source_wsi  dataset  \\\n0                                [0]  5631a47d5b0c           1        1   \n1                       [0, 0, 0, 0]  5631a47d5b0c           1        1   \n2                                [0]  2fd7649afbc1           1        1   \n3                       [0, 0, 0, 0]  2fd7649afbc1           1        1   \n4                          [0, 0, 0]  88c95fb9fb14           1        1   \n...                              ...           ...         ...      ...   \n6869  [0, 0, 0, 0, 0, 0, 0, 0, 0, 0]  83dd35ad9daf           4        2   \n6870                       [0, 0, 1]  dd4a8ba579c0           4        2   \n6871  [0, 0, 0, 0, 0, 0, 0, 0, 0, 0]  dd4a8ba579c0           4        2   \n6872                             [0]  3b0d08f3e37a           4        2   \n6873              [0, 0, 0, 0, 0, 1]  c0073ae5f1f6           4        2   \n\n          i      j  fold  \n0      1536  42496     4  \n1      1536  42496     3  \n2      1536  43008     1  \n3      1536  43008     0  \n4      2048  39424     0  \n...     ...    ...   ...  \n6869  13312  24576     0  \n6870  13312  25088     2  \n6871  13312  25088     0  \n6872  13312  26112     3  \n6873  13312  27136     2  \n\n[6874 rows x 9 columns]",
      "text/html": "<div>\n<style scoped>\n    .dataframe tbody tr th:only-of-type {\n        vertical-align: middle;\n    }\n\n    .dataframe tbody tr th {\n        vertical-align: top;\n    }\n\n    .dataframe thead th {\n        text-align: right;\n    }\n</style>\n<table border=\"1\" class=\"dataframe\">\n  <thead>\n    <tr style=\"text-align: right;\">\n      <th></th>\n      <th>id</th>\n      <th>coords</th>\n      <th>type</th>\n      <th>real_id</th>\n      <th>source_wsi</th>\n      <th>dataset</th>\n      <th>i</th>\n      <th>j</th>\n      <th>fold</th>\n    </tr>\n  </thead>\n  <tbody>\n    <tr>\n      <th>0</th>\n      <td>5631a47d5b0c.tif</td>\n      <td>[([[[420 273]], [[416 277]], [[415 280]], [[41...</td>\n      <td>[0]</td>\n      <td>5631a47d5b0c</td>\n      <td>1</td>\n      <td>1</td>\n      <td>1536</td>\n      <td>42496</td>\n      <td>4</td>\n    </tr>\n    <tr>\n      <th>1</th>\n      <td>5631a47d5b0c_bot_right.tif</td>\n      <td>[([[[164  17]], [[160  21]], [[159  24]], [[15...</td>\n      <td>[0, 0, 0, 0]</td>\n      <td>5631a47d5b0c</td>\n      <td>1</td>\n      <td>1</td>\n      <td>1536</td>\n      <td>42496</td>\n      <td>3</td>\n    </tr>\n    <tr>\n      <th>2</th>\n      <td>2fd7649afbc1.tif</td>\n      <td>[([[[395 291]], [[392 292]], [[389 293]], [[38...</td>\n      <td>[0]</td>\n      <td>2fd7649afbc1</td>\n      <td>1</td>\n      <td>1</td>\n      <td>1536</td>\n      <td>43008</td>\n      <td>1</td>\n    </tr>\n    <tr>\n      <th>3</th>\n      <td>2fd7649afbc1_top_right.tif</td>\n      <td>[([[[164  17]], [[160  21]], [[159  24]], [[15...</td>\n      <td>[0, 0, 0, 0]</td>\n      <td>2fd7649afbc1</td>\n      <td>1</td>\n      <td>1</td>\n      <td>1536</td>\n      <td>43008</td>\n      <td>0</td>\n    </tr>\n    <tr>\n      <th>4</th>\n      <td>88c95fb9fb14.tif</td>\n      <td>[([[[495 243]], [[492 245]], [[489 248]], [[48...</td>\n      <td>[0, 0, 0]</td>\n      <td>88c95fb9fb14</td>\n      <td>1</td>\n      <td>1</td>\n      <td>2048</td>\n      <td>39424</td>\n      <td>0</td>\n    </tr>\n    <tr>\n      <th>...</th>\n      <td>...</td>\n      <td>...</td>\n      <td>...</td>\n      <td>...</td>\n      <td>...</td>\n      <td>...</td>\n      <td>...</td>\n      <td>...</td>\n      <td>...</td>\n    </tr>\n    <tr>\n      <th>6869</th>\n      <td>83dd35ad9daf_bot_left.tif</td>\n      <td>[([[[27  0]], [[30  1]], [[45 16]], [[47 16]],...</td>\n      <td>[0, 0, 0, 0, 0, 0, 0, 0, 0, 0]</td>\n      <td>83dd35ad9daf</td>\n      <td>4</td>\n      <td>2</td>\n      <td>13312</td>\n      <td>24576</td>\n      <td>0</td>\n    </tr>\n    <tr>\n      <th>6870</th>\n      <td>dd4a8ba579c0.tif</td>\n      <td>[([[[ 17 175]], [[ 15 176]], [[ 13 178]], [[ 1...</td>\n      <td>[0, 0, 1]</td>\n      <td>dd4a8ba579c0</td>\n      <td>4</td>\n      <td>2</td>\n      <td>13312</td>\n      <td>25088</td>\n      <td>2</td>\n    </tr>\n    <tr>\n      <th>6871</th>\n      <td>dd4a8ba579c0_top_left.tif</td>\n      <td>[([[[27  0]], [[30  1]], [[45 16]], [[47 16]],...</td>\n      <td>[0, 0, 0, 0, 0, 0, 0, 0, 0, 0]</td>\n      <td>dd4a8ba579c0</td>\n      <td>4</td>\n      <td>2</td>\n      <td>13312</td>\n      <td>25088</td>\n      <td>0</td>\n    </tr>\n    <tr>\n      <th>6872</th>\n      <td>3b0d08f3e37a.tif</td>\n      <td>[([[[115  54]], [[113  55]], [[108  58]], [[10...</td>\n      <td>[0]</td>\n      <td>3b0d08f3e37a</td>\n      <td>4</td>\n      <td>2</td>\n      <td>13312</td>\n      <td>26112</td>\n      <td>3</td>\n    </tr>\n    <tr>\n      <th>6873</th>\n      <td>c0073ae5f1f6.tif</td>\n      <td>[([[[224  71]], [[218  72]], [[211  73]], [[20...</td>\n      <td>[0, 0, 0, 0, 0, 1]</td>\n      <td>c0073ae5f1f6</td>\n      <td>4</td>\n      <td>2</td>\n      <td>13312</td>\n      <td>27136</td>\n      <td>2</td>\n    </tr>\n  </tbody>\n</table>\n<p>6874 rows × 9 columns</p>\n</div>"
     },
     "execution_count": 19,
     "metadata": {},
     "output_type": "execute_result"
    }
   ],
   "source": [
    "final_data_df_stratified = final_data_df.copy(deep=True)\n",
    "strat_kfold = StratifiedKFold(shuffle = True, random_state = 42, n_splits = 5) #random_state for reproducibility\n",
    "\n",
    "#split on white and non-white and add a new column fold to it:\n",
    "for each_fold, (idx1,idx2) in enumerate (strat_kfold.split(X = final_data_df_stratified, y = final_data_df_stratified['dataset'])):\n",
    "    final_data_df_stratified.loc[idx2,'fold'] = int(each_fold) #create new fold column with the fold number (up to 5)\n",
    "final_data_df_stratified[\"fold\"] = final_data_df_stratified[\"fold\"].apply(lambda x: int(x)) #change fold to int, from 0~4\n",
    "final_data_df_stratified"
   ],
   "metadata": {
    "collapsed": false
   }
  },
  {
   "cell_type": "markdown",
   "source": [
    "### Now save each dataframe and actually create dataset for each fold."
   ],
   "metadata": {
    "collapsed": false
   }
  },
  {
   "cell_type": "code",
   "execution_count": 26,
   "outputs": [],
   "source": [
    "#for fold = 0\n",
    "save_df_path = r\"\\\\fatherserverdw\\Kevin\\hubmap\\yolov8_v4\"\n",
    "val_df = final_data_df_stratified[final_data_df_stratified[\"fold\"] == 0]\n",
    "val_df = val_df.reset_index()\n",
    "train_df = final_data_df_stratified[final_data_df_stratified[\"fold\"] != 0]\n",
    "train_df = train_df.reset_index()\n",
    "save_dfs = False #already saved\n",
    "if save_dfs:\n",
    "    train_df.to_excel(os.path.join(save_df_path, \"train_fold0.xlsx\"))\n",
    "    val_df.to_excel(os.path.join(save_df_path, \"val_fold0.xlsx\"))"
   ],
   "metadata": {
    "collapsed": false
   }
  },
  {
   "cell_type": "code",
   "execution_count": 29,
   "outputs": [
    {
     "name": "stderr",
     "output_type": "stream",
     "text": [
      "100%|██████████| 1374/1374 [02:41<00:00,  8.52it/s]\n"
     ]
    }
   ],
   "source": [
    "real_img_src = r\"\\\\fatherserverdw\\Kevin\\hubmap\\yolov8\\all_images\"\n",
    "real_label_src = r\"\\\\fatherserverdw\\Kevin\\hubmap\\yolov8\\all_labels\"\n",
    "val_id_list = val_df[\"id\"]\n",
    "val_img_list = [os.path.join(real_img_src, x) for x in val_id_list]\n",
    "val_label_list = [os.path.join(real_label_src, x.replace(\".tif\",\".txt\")) for x in val_id_list]\n",
    "val_img_src = r\"\\\\fatherserverdw\\Kevin\\hubmap\\yolov8\\val_fold0\\images\"\n",
    "val_label_src = r\"\\\\fatherserverdw\\Kevin\\hubmap\\yolov8\\val_fold0\\labels\"\n",
    "for idx in tqdm(range(len(val_img_list))):\n",
    "    val_img = val_img_list[idx]\n",
    "    val_label = val_label_list[idx]\n",
    "    shutil.copy(val_img, val_img_src)\n",
    "    shutil.copy(val_label, val_label_src)"
   ],
   "metadata": {
    "collapsed": false
   }
  },
  {
   "cell_type": "code",
   "execution_count": 30,
   "outputs": [
    {
     "name": "stderr",
     "output_type": "stream",
     "text": [
      "100%|██████████| 5500/5500 [09:52<00:00,  9.29it/s]\n"
     ]
    }
   ],
   "source": [
    "train_id_list = train_df[\"id\"]\n",
    "train_img_list = [os.path.join(real_img_src, x) for x in train_id_list]\n",
    "train_label_list = [os.path.join(real_label_src, x.replace(\".tif\",\".txt\")) for x in train_id_list]\n",
    "train_img_src = r\"\\\\fatherserverdw\\Kevin\\hubmap\\yolov8_v4\\train_fold0\\images\"\n",
    "train_label_src = r\"\\\\fatherserverdw\\Kevin\\hubmap\\yolov8_v4\\train_fold0\\labels\"\n",
    "for idx in tqdm(range(len(train_img_list))):\n",
    "    train_img = train_img_list[idx]\n",
    "    train_label = train_label_list[idx]\n",
    "    shutil.copy(train_img, train_img_src)\n",
    "    shutil.copy(train_label, train_label_src)"
   ],
   "metadata": {
    "collapsed": false
   }
  }
 ],
 "metadata": {
  "kernelspec": {
   "display_name": "Python 3",
   "language": "python",
   "name": "python3"
  },
  "language_info": {
   "codemirror_mode": {
    "name": "ipython",
    "version": 2
   },
   "file_extension": ".py",
   "mimetype": "text/x-python",
   "name": "python",
   "nbconvert_exporter": "python",
   "pygments_lexer": "ipython2",
   "version": "2.7.6"
  }
 },
 "nbformat": 4,
 "nbformat_minor": 0
}
