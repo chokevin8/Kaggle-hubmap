{
 "cells": [
  {
   "cell_type": "code",
   "execution_count": 1,
   "metadata": {
    "collapsed": true
   },
   "outputs": [],
   "source": [
    "import numpy as np\n",
    "from PIL import Image\n",
    "Image.MAX_IMAGE_PIXELS = None\n",
    "import time\n",
    "import shutil\n",
    "from tqdm import tqdm\n",
    "import os\n",
    "import pandas as pd\n",
    "import cv2"
   ]
  },
  {
   "cell_type": "markdown",
   "source": [
    "### This will modify the training images only (only the images with annotations, so dataset 1 and 2, or wsi images # 1,2,3,4."
   ],
   "metadata": {
    "collapsed": false
   }
  },
  {
   "cell_type": "code",
   "execution_count": 8,
   "outputs": [],
   "source": [
    "original_image_src = r\"\\\\fatherserverdw\\Kevin\\hubmap\\train\"\n",
    "tile_meta_src = r\"\\\\fatherserverdw\\Kevin\\hubmap\\tile_meta.csv\"\n",
    "annotation_meta_src = r\"\\\\fatherserverdw\\Kevin\\hubmap\\annotation_meta.xlsx\""
   ],
   "metadata": {
    "collapsed": false
   }
  },
  {
   "cell_type": "code",
   "execution_count": 9,
   "outputs": [
    {
     "data": {
      "text/plain": "                id  source_wsi  dataset      i      j\n4     0033bbc76b6b           1        1  10240  43008\n16    00656c6f2690           1        1  10240  46080\n33    00d75ad65de3           1        1   8192  39424\n34    00da70813521           1        1  10240  46592\n60    01a7fca6263b           1        2  13312  10240\n...            ...         ...      ...    ...    ...\n6933  fc6def641612           1        1   7680  40960\n6943  fcbe5ce12d5f           1        2   9216   8192\n6946  fce9ad75428d           1        2  10240  10240\n6951  fd2437954fd8           1        1   5120  39424\n6990  fe248458ea89           1        1  10240  44032\n\n[507 rows x 5 columns]",
      "text/html": "<div>\n<style scoped>\n    .dataframe tbody tr th:only-of-type {\n        vertical-align: middle;\n    }\n\n    .dataframe tbody tr th {\n        vertical-align: top;\n    }\n\n    .dataframe thead th {\n        text-align: right;\n    }\n</style>\n<table border=\"1\" class=\"dataframe\">\n  <thead>\n    <tr style=\"text-align: right;\">\n      <th></th>\n      <th>id</th>\n      <th>source_wsi</th>\n      <th>dataset</th>\n      <th>i</th>\n      <th>j</th>\n    </tr>\n  </thead>\n  <tbody>\n    <tr>\n      <th>4</th>\n      <td>0033bbc76b6b</td>\n      <td>1</td>\n      <td>1</td>\n      <td>10240</td>\n      <td>43008</td>\n    </tr>\n    <tr>\n      <th>16</th>\n      <td>00656c6f2690</td>\n      <td>1</td>\n      <td>1</td>\n      <td>10240</td>\n      <td>46080</td>\n    </tr>\n    <tr>\n      <th>33</th>\n      <td>00d75ad65de3</td>\n      <td>1</td>\n      <td>1</td>\n      <td>8192</td>\n      <td>39424</td>\n    </tr>\n    <tr>\n      <th>34</th>\n      <td>00da70813521</td>\n      <td>1</td>\n      <td>1</td>\n      <td>10240</td>\n      <td>46592</td>\n    </tr>\n    <tr>\n      <th>60</th>\n      <td>01a7fca6263b</td>\n      <td>1</td>\n      <td>2</td>\n      <td>13312</td>\n      <td>10240</td>\n    </tr>\n    <tr>\n      <th>...</th>\n      <td>...</td>\n      <td>...</td>\n      <td>...</td>\n      <td>...</td>\n      <td>...</td>\n    </tr>\n    <tr>\n      <th>6933</th>\n      <td>fc6def641612</td>\n      <td>1</td>\n      <td>1</td>\n      <td>7680</td>\n      <td>40960</td>\n    </tr>\n    <tr>\n      <th>6943</th>\n      <td>fcbe5ce12d5f</td>\n      <td>1</td>\n      <td>2</td>\n      <td>9216</td>\n      <td>8192</td>\n    </tr>\n    <tr>\n      <th>6946</th>\n      <td>fce9ad75428d</td>\n      <td>1</td>\n      <td>2</td>\n      <td>10240</td>\n      <td>10240</td>\n    </tr>\n    <tr>\n      <th>6951</th>\n      <td>fd2437954fd8</td>\n      <td>1</td>\n      <td>1</td>\n      <td>5120</td>\n      <td>39424</td>\n    </tr>\n    <tr>\n      <th>6990</th>\n      <td>fe248458ea89</td>\n      <td>1</td>\n      <td>1</td>\n      <td>10240</td>\n      <td>44032</td>\n    </tr>\n  </tbody>\n</table>\n<p>507 rows × 5 columns</p>\n</div>"
     },
     "execution_count": 9,
     "metadata": {},
     "output_type": "execute_result"
    }
   ],
   "source": [
    "tile_df = pd.read_csv(tile_meta_src)\n",
    "tmp_df = pd.read_excel(annotation_meta_src)\n",
    "supervised_tile_df = tile_df[tile_df[\"source_wsi\"] == 1]\n",
    "supervised_tile_ids = supervised_tile_df.id.tolist() #list of picture ids that are in dataset 1\n",
    "supervised_tile_df"
   ],
   "metadata": {
    "collapsed": false
   }
  },
  {
   "cell_type": "code",
   "execution_count": null,
   "outputs": [],
   "source": [],
   "metadata": {
    "collapsed": false
   }
  }
 ],
 "metadata": {
  "kernelspec": {
   "display_name": "Python 3",
   "language": "python",
   "name": "python3"
  },
  "language_info": {
   "codemirror_mode": {
    "name": "ipython",
    "version": 2
   },
   "file_extension": ".py",
   "mimetype": "text/x-python",
   "name": "python",
   "nbconvert_exporter": "python",
   "pygments_lexer": "ipython2",
   "version": "2.7.6"
  }
 },
 "nbformat": 4,
 "nbformat_minor": 0
}
