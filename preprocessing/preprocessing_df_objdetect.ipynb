{
 "cells": [
  {
   "cell_type": "markdown",
   "source": [
    "If your goal is to only detect class A, and you have limited labeled data for class A compared to the unlabeled data, a semi-supervised learning approach can be beneficial. Here's a suggested approach using semi-supervised learning in your scenario:\n",
    "\n",
    "Labeled Data for Class A: Utilize the available labeled data for class A to train a YOLOv8 model initially. This labeled dataset provides the ground truth annotations for class A instances, allowing the model to learn from the labeled examples. However, the limited amount of labeled data may result in suboptimal performance.\n",
    "\n",
    "Self-Supervised Pretraining: As you mentioned, you have a larger unlabeled dataset. You can leverage this unlabeled data to train a self-supervised model using one of the methods discussed earlier (e.g., instance discrimination, context prediction, or contrastive learning). This self-supervised model will learn to extract useful features and representations from the unlabeled data.\n",
    "\n",
    "Pretraining the Initial Layers: Take the pretrained weights from the self-supervised model and use them to initialize the initial layers of your YOLOv8 model. By doing so, you provide the YOLOv8 model with pretrained representations that capture meaningful information from the unlabeled data.\n",
    "\n",
    "Semi-Supervised Training: After initializing the initial layers, fine-tune the YOLOv8 model using a combination of the limited labeled data for class A and the unlabeled data. You can employ semi-supervised learning techniques, such as consistency regularization or pseudo-labeling, to utilize the unlabeled data effectively.\n",
    "\n",
    "Consistency Regularization: Apply consistency regularization to encourage the model to produce consistent predictions on different augmentations or transformations of the same unlabeled sample. This helps the model to learn more robust and generalizable representations, even in the absence of labeled data for class A.\n",
    "\n",
    "Pseudo-labeling: Pseudo-labeling can also be employed, where the model's predictions on the unlabeled data are used as pseudo-labels for training. This allows you to utilize the unlabeled data effectively and expand the labeled dataset, thereby improving the model's performance.\n",
    "\n",
    "By combining the limited labeled data for class A with the larger unlabeled dataset and leveraging the benefits of self-supervised learning, you can improve the performance of your YOLOv8 model in detecting class A instances. The self-supervised pretraining helps to capture useful representations from the unlabeled data, while the semi-supervised training enables the model to learn from both labeled and unlabeled data, enhancing its ability to generalize.\n",
    "\n",
    "Remember to validate and fine-tune the model's hyperparameters and settings based on the performance on a separate validation or test set to ensure the best results."
   ],
   "metadata": {
    "collapsed": false
   }
  },
  {
   "cell_type": "code",
   "execution_count": 1,
   "outputs": [],
   "source": [
    "# import necessary packages:\n",
    "import numpy as np\n",
    "import os\n",
    "import torch\n",
    "import pandas as pd\n",
    "import json\n",
    "from torch.utils.data import Dataset\n",
    "import cv2\n",
    "from tqdm import tqdm\n",
    "from sklearn.model_selection import StratifiedKFold\n",
    "import shutil\n",
    "import ast"
   ],
   "metadata": {
    "collapsed": false,
    "ExecuteTime": {
     "start_time": "2023-06-04T16:49:00.076244Z",
     "end_time": "2023-06-04T16:49:00.513557Z"
    }
   }
  },
  {
   "cell_type": "code",
   "execution_count": 2,
   "outputs": [
    {
     "name": "stdout",
     "output_type": "stream",
     "text": [
      "True\n"
     ]
    }
   ],
   "source": [
    "print(torch.cuda.is_available())"
   ],
   "metadata": {
    "collapsed": false,
    "ExecuteTime": {
     "start_time": "2023-06-04T16:49:00.591683Z",
     "end_time": "2023-06-04T16:49:00.622935Z"
    }
   }
  },
  {
   "cell_type": "code",
   "execution_count": 3,
   "outputs": [],
   "source": [
    "# flags and directories for data and csv:\n",
    "kaggle_env = False\n",
    "if kaggle_env:\n",
    "    data_directory = \"/kaggle/input/hubmap-hacking-the-human-vasculature\"\n",
    "if not kaggle_env:\n",
    "    #local_env = r\"C:\\Users\\labadmin\\PycharmProjects\\hubmap\" # edit local directory accordingly\n",
    "    local_env = r\"C:\\Users\\Kevin\\PycharmProjects\\hubmap\"\n",
    "    #data_directory = r\"C:\\Users\\labadmin\\Desktop\\hubmap\"\n",
    "    data_directory = r\"C:\\Users\\Kevin\\Desktop\\hubmap\"\n",
    "wsi_csv_src = os.path.join(data_directory,\"wsi_meta.csv\")\n",
    "tile_csv_src = os.path.join(data_directory,\"tile_meta.csv\")\n",
    "train_tile_src = os.path.join(data_directory,\"train\")\n",
    "json_src = os.path.join(data_directory,\"polygons.jsonl\")\n",
    "wsi_df = pd.read_csv(wsi_csv_src)\n",
    "tile_df = pd.read_csv(tile_csv_src)"
   ],
   "metadata": {
    "collapsed": false,
    "ExecuteTime": {
     "start_time": "2023-06-04T16:49:07.482546Z",
     "end_time": "2023-06-04T16:49:07.545055Z"
    }
   }
  },
  {
   "cell_type": "code",
   "execution_count": 5,
   "metadata": {
    "collapsed": true,
    "ExecuteTime": {
     "start_time": "2023-06-04T16:49:09.797316Z",
     "end_time": "2023-06-04T16:49:09.826451Z"
    }
   },
   "outputs": [
    {
     "data": {
      "text/plain": "   source_wsi  age sex race  height  weight   bmi\n0           1   58   F    W   160.0    59.0  23.0\n1           2   56   F    W   175.2   139.6  45.5\n2           3   73   F    W   162.3    87.5  33.2\n3           4   53   M    B   166.0    73.0  26.5",
      "text/html": "<div>\n<style scoped>\n    .dataframe tbody tr th:only-of-type {\n        vertical-align: middle;\n    }\n\n    .dataframe tbody tr th {\n        vertical-align: top;\n    }\n\n    .dataframe thead th {\n        text-align: right;\n    }\n</style>\n<table border=\"1\" class=\"dataframe\">\n  <thead>\n    <tr style=\"text-align: right;\">\n      <th></th>\n      <th>source_wsi</th>\n      <th>age</th>\n      <th>sex</th>\n      <th>race</th>\n      <th>height</th>\n      <th>weight</th>\n      <th>bmi</th>\n    </tr>\n  </thead>\n  <tbody>\n    <tr>\n      <th>0</th>\n      <td>1</td>\n      <td>58</td>\n      <td>F</td>\n      <td>W</td>\n      <td>160.0</td>\n      <td>59.0</td>\n      <td>23.0</td>\n    </tr>\n    <tr>\n      <th>1</th>\n      <td>2</td>\n      <td>56</td>\n      <td>F</td>\n      <td>W</td>\n      <td>175.2</td>\n      <td>139.6</td>\n      <td>45.5</td>\n    </tr>\n    <tr>\n      <th>2</th>\n      <td>3</td>\n      <td>73</td>\n      <td>F</td>\n      <td>W</td>\n      <td>162.3</td>\n      <td>87.5</td>\n      <td>33.2</td>\n    </tr>\n    <tr>\n      <th>3</th>\n      <td>4</td>\n      <td>53</td>\n      <td>M</td>\n      <td>B</td>\n      <td>166.0</td>\n      <td>73.0</td>\n      <td>26.5</td>\n    </tr>\n  </tbody>\n</table>\n</div>"
     },
     "execution_count": 5,
     "metadata": {},
     "output_type": "execute_result"
    }
   ],
   "source": [
    "wsi_df"
   ]
  },
  {
   "cell_type": "markdown",
   "source": [
    "### IMPORTANT EDA CONCLUSIONS (from: https://www.kaggle.com/code/leonidkulyk/eda-hubmap-hhv-interactive-annotations): DATASET 1 = EXPERT REVIEWED ANNOTATED DATASET, DATASET 2 EXPERT NON-REVIEWED SPARSE ANNOTATIONS, DATASET 3 NO LABELS! ALSO, THERE ARE 15 UNIQUE SOURCE_WSIS, WITH EACH WSI HAVING MOSTLY 600 ANNOTATIONS, WITH SOME HAVING 200-500."
   ],
   "metadata": {
    "collapsed": false
   }
  },
  {
   "cell_type": "code",
   "execution_count": 5,
   "outputs": [
    {
     "data": {
      "text/plain": "             id  source_wsi  dataset      i      j\n0  0006ff2aa7cd           2        2  16896  16420\n1  000e79e206b7           6        3  10240  29184\n2  00168d1b7522           2        2  14848  14884\n3  00176a88fdb0           7        3  14848  25088\n4  0033bbc76b6b           1        1  10240  43008\n5  003504460b3a           3        2   8192  11776\n6  00359ab8338b           8        3   6656   9216\n7  00488ca285ee           9        3   8192  37888\n8  004daf1cbe75           3        2   6144  11264\n9  004fb033dd09           7        3  20480  31232",
      "text/html": "<div>\n<style scoped>\n    .dataframe tbody tr th:only-of-type {\n        vertical-align: middle;\n    }\n\n    .dataframe tbody tr th {\n        vertical-align: top;\n    }\n\n    .dataframe thead th {\n        text-align: right;\n    }\n</style>\n<table border=\"1\" class=\"dataframe\">\n  <thead>\n    <tr style=\"text-align: right;\">\n      <th></th>\n      <th>id</th>\n      <th>source_wsi</th>\n      <th>dataset</th>\n      <th>i</th>\n      <th>j</th>\n    </tr>\n  </thead>\n  <tbody>\n    <tr>\n      <th>0</th>\n      <td>0006ff2aa7cd</td>\n      <td>2</td>\n      <td>2</td>\n      <td>16896</td>\n      <td>16420</td>\n    </tr>\n    <tr>\n      <th>1</th>\n      <td>000e79e206b7</td>\n      <td>6</td>\n      <td>3</td>\n      <td>10240</td>\n      <td>29184</td>\n    </tr>\n    <tr>\n      <th>2</th>\n      <td>00168d1b7522</td>\n      <td>2</td>\n      <td>2</td>\n      <td>14848</td>\n      <td>14884</td>\n    </tr>\n    <tr>\n      <th>3</th>\n      <td>00176a88fdb0</td>\n      <td>7</td>\n      <td>3</td>\n      <td>14848</td>\n      <td>25088</td>\n    </tr>\n    <tr>\n      <th>4</th>\n      <td>0033bbc76b6b</td>\n      <td>1</td>\n      <td>1</td>\n      <td>10240</td>\n      <td>43008</td>\n    </tr>\n    <tr>\n      <th>5</th>\n      <td>003504460b3a</td>\n      <td>3</td>\n      <td>2</td>\n      <td>8192</td>\n      <td>11776</td>\n    </tr>\n    <tr>\n      <th>6</th>\n      <td>00359ab8338b</td>\n      <td>8</td>\n      <td>3</td>\n      <td>6656</td>\n      <td>9216</td>\n    </tr>\n    <tr>\n      <th>7</th>\n      <td>00488ca285ee</td>\n      <td>9</td>\n      <td>3</td>\n      <td>8192</td>\n      <td>37888</td>\n    </tr>\n    <tr>\n      <th>8</th>\n      <td>004daf1cbe75</td>\n      <td>3</td>\n      <td>2</td>\n      <td>6144</td>\n      <td>11264</td>\n    </tr>\n    <tr>\n      <th>9</th>\n      <td>004fb033dd09</td>\n      <td>7</td>\n      <td>3</td>\n      <td>20480</td>\n      <td>31232</td>\n    </tr>\n  </tbody>\n</table>\n</div>"
     },
     "execution_count": 5,
     "metadata": {},
     "output_type": "execute_result"
    }
   ],
   "source": [
    "tile_df.head(10)"
   ],
   "metadata": {
    "collapsed": false,
    "ExecuteTime": {
     "start_time": "2023-06-04T16:49:15.154398Z",
     "end_time": "2023-06-04T16:49:15.170027Z"
    }
   }
  },
  {
   "cell_type": "code",
   "execution_count": 6,
   "outputs": [],
   "source": [
    "class Hubmap_dataset(Dataset):\n",
    "    #credits to: https://www.kaggle.com/code/alincijov/dataset-hubmap-vasc-768x768-segments\n",
    "    def __init__(self, json_path, image_dir, augments = False, train=True):\n",
    "        #read jsonl file, contains all info about the annotations\n",
    "        with open(json_path) as json_file:\n",
    "            json_list = list(json_file) #list of all jsons\n",
    "        #create new df\n",
    "        dataset = []\n",
    "        for json_str in tqdm(json_list, desc=\"Json Data Loaded\"):\n",
    "            result = json.loads(json_str)\n",
    "\n",
    "            annotations = result['annotations']\n",
    "            for ann in annotations:\n",
    "                row = {}\n",
    "                row[\"id\"] = result[\"id\"]\n",
    "                row[\"type\"] = ann[\"type\"]\n",
    "                row[\"coordinates\"] = ann[\"coordinates\"]\n",
    "                row[\"mask\"] = self.coordinates_to_masks(ann[\"coordinates\"], (512, 512))[0]\n",
    "                row[\"rle\"] = self.mask2enc(row[\"mask\"])\n",
    "                dataset.append(row)\n",
    "\n",
    "        # define dataset, to make it easier to get...\n",
    "        self.dataset = pd.DataFrame(dataset, columns=[\"id\", \"type\", \"coordinates\", \"mask\", \"rle\"])\n",
    "        self.train = train\n",
    "        self.image_dir = image_dir\n",
    "\n",
    "    def enc2mask(self, encs, shape):\n",
    "        '''\n",
    "        Function to go from input RLE encodings to mask\n",
    "        :param encs: input RLE encodings\n",
    "        :param shape: shape of output mask\n",
    "        :return:\n",
    "        '''\n",
    "        img = np.zeros(shape[0]*shape[1], dtype=np.uint8)\n",
    "        for m,enc in enumerate(encs):\n",
    "            if isinstance(enc,np.float) and np.isnan(enc):\n",
    "                continue #skip nan's\n",
    "            s = enc.split()\n",
    "            for i in range(len(s)//2):\n",
    "                start = int(s[2*i]) - 1\n",
    "                length = int(s[2*i+1])\n",
    "                img[start:start+length] = 1 + m\n",
    "        return img.reshape(shape).T\n",
    "\n",
    "    def mask2enc(self, mask, n=1):\n",
    "        '''\n",
    "        Function to go from input mask to RLE encodings\n",
    "        :param mask:\n",
    "        :param n:\n",
    "        :return:\n",
    "        '''\n",
    "        pixels = mask.T.flatten()\n",
    "        encs = []\n",
    "        for i in range(1,n+1):\n",
    "            p = (pixels == i).astype(np.int8)\n",
    "            if p.sum() == 0: encs.append(np.nan)\n",
    "            else:\n",
    "                p = np.concatenate([[0], p, [0]])\n",
    "                runs = np.where(p[1:] != p[:-1])[0] + 1\n",
    "                runs[1::2] -= runs[::2]\n",
    "                encs.append(' '.join(str(x) for x in runs))\n",
    "        return encs\n",
    "\n",
    "    def coordinates_to_masks(self, coordinates, shape):\n",
    "        masks = []\n",
    "        for coord in coordinates:\n",
    "            mask = np.zeros(shape, dtype=np.uint8) #512x512 empty initialization\n",
    "            cv2.fillPoly(mask, [np.array(coord)], 1)\n",
    "            masks.append(mask)\n",
    "        return masks #return appended masks\n",
    "\n",
    "    def __getitem__(self, idx):\n",
    "\n",
    "        data = self.dataset.iloc[idx]\n",
    "\n",
    "        imageLoc = os.path.join(self.image_dir,data.id+\".tif\")\n",
    "        img = cv2.imread(imageLoc)\n",
    "\n",
    "        type_struct = data.type\n",
    "        coord = data.coordinates[0]\n",
    "\n",
    "        # create mask array\n",
    "        mask = np.zeros((512, 512), dtype=np.float32)\n",
    "        points = np.array(coord)\n",
    "        points = points.reshape((1, -1, 2))\n",
    "        mask = cv2.fillPoly(mask, pts=points, color=(255))\n",
    "\n",
    "        return img, type_struct, mask\n",
    "\n",
    "    def __len__(self):\n",
    "        return len(self.dataset)"
   ],
   "metadata": {
    "collapsed": false
   }
  },
  {
   "cell_type": "code",
   "execution_count": 7,
   "outputs": [
    {
     "name": "stderr",
     "output_type": "stream",
     "text": [
      "Json Data Loaded: 100%|██████████| 1633/1633 [00:13<00:00, 117.69it/s]\n"
     ]
    }
   ],
   "source": [
    "annotation_df = Hubmap_dataset(json_path = json_src, augments=False,image_dir=train_tile_src, train=True)"
   ],
   "metadata": {
    "collapsed": false
   }
  },
  {
   "cell_type": "markdown",
   "source": [
    "### AS SEEN BELOW, ID MATCHES THE ID OF THE IMAGE DATASET NAME, TYPE IS EITHER BLOOD_VESSEL(TARGET), GLOMERULUS (WE DONT WANT), AND UNSURE. MOST IMPORTANT: # OF ANNOTATED TILES IS 1633, WHILE NUMBER OF UNANNOTATED TILES IS 5400 TO MAKE IT TOTAL OF 7033 TILES IN THE IMAGES WE ARE GIVEN. NEED TO TRAIN SEMISUPERVISED MODEL!"
   ],
   "metadata": {
    "collapsed": false
   }
  },
  {
   "cell_type": "code",
   "execution_count": 8,
   "outputs": [
    {
     "data": {
      "text/plain": "                 id          type  \\\n0      0006ff2aa7cd    glomerulus   \n1      0006ff2aa7cd  blood_vessel   \n2      0006ff2aa7cd  blood_vessel   \n3      0006ff2aa7cd  blood_vessel   \n4      0006ff2aa7cd  blood_vessel   \n...             ...           ...   \n17513  ffd3d193c71e  blood_vessel   \n17514  ffd3d193c71e  blood_vessel   \n17515  ffd3d193c71e  blood_vessel   \n17516  ffd3d193c71e  blood_vessel   \n17517  ffd3d193c71e  blood_vessel   \n\n                                             coordinates  \\\n0      [[[167, 249], [166, 249], [165, 249], [164, 24...   \n1      [[[283, 109], [282, 109], [281, 109], [280, 10...   \n2      [[[104, 292], [103, 292], [102, 292], [101, 29...   \n3      [[[505, 442], [504, 442], [503, 442], [502, 44...   \n4      [[[375, 477], [374, 477], [373, 477], [372, 47...   \n...                                                  ...   \n17513  [[[184, 308], [183, 308], [182, 308], [181, 30...   \n17514  [[[42, 92], [41, 92], [40, 92], [39, 92], [38,...   \n17515  [[[287, 480], [286, 480], [285, 480], [284, 48...   \n17516  [[[493, 388], [492, 388], [491, 388], [490, 38...   \n17517  [[[64, 15], [63, 15], [62, 15], [61, 15], [61,...   \n\n                                                    mask  \\\n0      [[0, 1, 1, 1, 1, 1, 1, 1, 1, 1, 1, 1, 1, 1, 1,...   \n1      [[0, 0, 0, 0, 0, 0, 0, 0, 0, 0, 0, 0, 0, 0, 0,...   \n2      [[0, 0, 0, 0, 0, 0, 0, 0, 0, 0, 0, 0, 0, 0, 0,...   \n3      [[0, 0, 0, 0, 0, 0, 0, 0, 0, 0, 0, 0, 0, 0, 0,...   \n4      [[0, 0, 0, 0, 0, 0, 0, 0, 0, 0, 0, 0, 0, 0, 0,...   \n...                                                  ...   \n17513  [[0, 0, 0, 0, 0, 0, 0, 0, 0, 0, 0, 0, 0, 0, 0,...   \n17514  [[0, 0, 0, 0, 0, 0, 0, 0, 0, 0, 0, 0, 0, 0, 0,...   \n17515  [[0, 0, 0, 0, 0, 0, 0, 0, 0, 0, 0, 0, 0, 0, 0,...   \n17516  [[0, 0, 0, 0, 0, 0, 0, 0, 0, 0, 0, 0, 0, 0, 0,...   \n17517  [[0, 0, 0, 0, 0, 0, 0, 0, 0, 0, 0, 0, 0, 0, 0,...   \n\n                                                     rle  \n0      [2 105 513 107 1025 111 1537 113 2049 114 2561...  \n1      [139350 10 139860 17 140370 22 140880 27 14139...  \n2      [37108 4 37618 8 38129 11 38640 14 39152 15 39...  \n3      [250783 11 251292 20 251801 26 252311 30 25282...  \n4      [167352 5 167863 7 168374 10 168886 11 169398 ...  \n...                                                  ...  \n17513  [88875 8 89385 11 89896 13 90407 15 90918 16 9...  \n17514  [14393 12 14904 20 15415 23 15925 28 16434 40 ...  \n17515  [140243 6 140750 13 141261 15 141772 17 142284...  \n17516  [244001 5 244512 7 244603 6 245023 9 245112 11...  \n17517  [27652 5 28162 9 28673 12 29185 13 29697 14 30...  \n\n[17518 rows x 5 columns]",
      "text/html": "<div>\n<style scoped>\n    .dataframe tbody tr th:only-of-type {\n        vertical-align: middle;\n    }\n\n    .dataframe tbody tr th {\n        vertical-align: top;\n    }\n\n    .dataframe thead th {\n        text-align: right;\n    }\n</style>\n<table border=\"1\" class=\"dataframe\">\n  <thead>\n    <tr style=\"text-align: right;\">\n      <th></th>\n      <th>id</th>\n      <th>type</th>\n      <th>coordinates</th>\n      <th>mask</th>\n      <th>rle</th>\n    </tr>\n  </thead>\n  <tbody>\n    <tr>\n      <th>0</th>\n      <td>0006ff2aa7cd</td>\n      <td>glomerulus</td>\n      <td>[[[167, 249], [166, 249], [165, 249], [164, 24...</td>\n      <td>[[0, 1, 1, 1, 1, 1, 1, 1, 1, 1, 1, 1, 1, 1, 1,...</td>\n      <td>[2 105 513 107 1025 111 1537 113 2049 114 2561...</td>\n    </tr>\n    <tr>\n      <th>1</th>\n      <td>0006ff2aa7cd</td>\n      <td>blood_vessel</td>\n      <td>[[[283, 109], [282, 109], [281, 109], [280, 10...</td>\n      <td>[[0, 0, 0, 0, 0, 0, 0, 0, 0, 0, 0, 0, 0, 0, 0,...</td>\n      <td>[139350 10 139860 17 140370 22 140880 27 14139...</td>\n    </tr>\n    <tr>\n      <th>2</th>\n      <td>0006ff2aa7cd</td>\n      <td>blood_vessel</td>\n      <td>[[[104, 292], [103, 292], [102, 292], [101, 29...</td>\n      <td>[[0, 0, 0, 0, 0, 0, 0, 0, 0, 0, 0, 0, 0, 0, 0,...</td>\n      <td>[37108 4 37618 8 38129 11 38640 14 39152 15 39...</td>\n    </tr>\n    <tr>\n      <th>3</th>\n      <td>0006ff2aa7cd</td>\n      <td>blood_vessel</td>\n      <td>[[[505, 442], [504, 442], [503, 442], [502, 44...</td>\n      <td>[[0, 0, 0, 0, 0, 0, 0, 0, 0, 0, 0, 0, 0, 0, 0,...</td>\n      <td>[250783 11 251292 20 251801 26 252311 30 25282...</td>\n    </tr>\n    <tr>\n      <th>4</th>\n      <td>0006ff2aa7cd</td>\n      <td>blood_vessel</td>\n      <td>[[[375, 477], [374, 477], [373, 477], [372, 47...</td>\n      <td>[[0, 0, 0, 0, 0, 0, 0, 0, 0, 0, 0, 0, 0, 0, 0,...</td>\n      <td>[167352 5 167863 7 168374 10 168886 11 169398 ...</td>\n    </tr>\n    <tr>\n      <th>...</th>\n      <td>...</td>\n      <td>...</td>\n      <td>...</td>\n      <td>...</td>\n      <td>...</td>\n    </tr>\n    <tr>\n      <th>17513</th>\n      <td>ffd3d193c71e</td>\n      <td>blood_vessel</td>\n      <td>[[[184, 308], [183, 308], [182, 308], [181, 30...</td>\n      <td>[[0, 0, 0, 0, 0, 0, 0, 0, 0, 0, 0, 0, 0, 0, 0,...</td>\n      <td>[88875 8 89385 11 89896 13 90407 15 90918 16 9...</td>\n    </tr>\n    <tr>\n      <th>17514</th>\n      <td>ffd3d193c71e</td>\n      <td>blood_vessel</td>\n      <td>[[[42, 92], [41, 92], [40, 92], [39, 92], [38,...</td>\n      <td>[[0, 0, 0, 0, 0, 0, 0, 0, 0, 0, 0, 0, 0, 0, 0,...</td>\n      <td>[14393 12 14904 20 15415 23 15925 28 16434 40 ...</td>\n    </tr>\n    <tr>\n      <th>17515</th>\n      <td>ffd3d193c71e</td>\n      <td>blood_vessel</td>\n      <td>[[[287, 480], [286, 480], [285, 480], [284, 48...</td>\n      <td>[[0, 0, 0, 0, 0, 0, 0, 0, 0, 0, 0, 0, 0, 0, 0,...</td>\n      <td>[140243 6 140750 13 141261 15 141772 17 142284...</td>\n    </tr>\n    <tr>\n      <th>17516</th>\n      <td>ffd3d193c71e</td>\n      <td>blood_vessel</td>\n      <td>[[[493, 388], [492, 388], [491, 388], [490, 38...</td>\n      <td>[[0, 0, 0, 0, 0, 0, 0, 0, 0, 0, 0, 0, 0, 0, 0,...</td>\n      <td>[244001 5 244512 7 244603 6 245023 9 245112 11...</td>\n    </tr>\n    <tr>\n      <th>17517</th>\n      <td>ffd3d193c71e</td>\n      <td>blood_vessel</td>\n      <td>[[[64, 15], [63, 15], [62, 15], [61, 15], [61,...</td>\n      <td>[[0, 0, 0, 0, 0, 0, 0, 0, 0, 0, 0, 0, 0, 0, 0,...</td>\n      <td>[27652 5 28162 9 28673 12 29185 13 29697 14 30...</td>\n    </tr>\n  </tbody>\n</table>\n<p>17518 rows × 5 columns</p>\n</div>"
     },
     "execution_count": 8,
     "metadata": {},
     "output_type": "execute_result"
    }
   ],
   "source": [
    "annotation_df.dataset"
   ],
   "metadata": {
    "collapsed": false
   }
  },
  {
   "cell_type": "code",
   "execution_count": 5,
   "outputs": [],
   "source": [
    "save_df = False # save only once\n",
    "if save_df:\n",
    "    annotation_df = annotation_df.dataset\n",
    "    annotation_df.to_excel(os.path.join(data_directory,\"annotation_meta.xlsx\"))"
   ],
   "metadata": {
    "collapsed": false
   }
  },
  {
   "cell_type": "markdown",
   "source": [
    "### To create a train_df for an object detection model only using Dataset1, filter out the annotation_df above:"
   ],
   "metadata": {
    "collapsed": false
   }
  },
  {
   "cell_type": "code",
   "execution_count": 6,
   "outputs": [
    {
     "data": {
      "text/plain": "       Unnamed: 0            id          type  \\\n0               0  0006ff2aa7cd    glomerulus   \n1               1  0006ff2aa7cd  blood_vessel   \n2               2  0006ff2aa7cd  blood_vessel   \n3               3  0006ff2aa7cd  blood_vessel   \n4               4  0006ff2aa7cd  blood_vessel   \n...           ...           ...           ...   \n17513       17513  ffd3d193c71e  blood_vessel   \n17514       17514  ffd3d193c71e  blood_vessel   \n17515       17515  ffd3d193c71e  blood_vessel   \n17516       17516  ffd3d193c71e  blood_vessel   \n17517       17517  ffd3d193c71e  blood_vessel   \n\n                                             coordinates  \\\n0      [[[167, 249], [166, 249], [165, 249], [164, 24...   \n1      [[[283, 109], [282, 109], [281, 109], [280, 10...   \n2      [[[104, 292], [103, 292], [102, 292], [101, 29...   \n3      [[[505, 442], [504, 442], [503, 442], [502, 44...   \n4      [[[375, 477], [374, 477], [373, 477], [372, 47...   \n...                                                  ...   \n17513  [[[184, 308], [183, 308], [182, 308], [181, 30...   \n17514  [[[42, 92], [41, 92], [40, 92], [39, 92], [38,...   \n17515  [[[287, 480], [286, 480], [285, 480], [284, 48...   \n17516  [[[493, 388], [492, 388], [491, 388], [490, 38...   \n17517  [[[64, 15], [63, 15], [62, 15], [61, 15], [61,...   \n\n                                                    mask  \\\n0      [[0 1 1 ... 0 0 0]\\n [1 1 1 ... 0 0 0]\\n [1 1 ...   \n1      [[0 0 0 ... 0 0 0]\\n [0 0 0 ... 0 0 0]\\n [0 0 ...   \n2      [[0 0 0 ... 0 0 0]\\n [0 0 0 ... 0 0 0]\\n [0 0 ...   \n3      [[0 0 0 ... 0 0 0]\\n [0 0 0 ... 0 0 0]\\n [0 0 ...   \n4      [[0 0 0 ... 0 0 0]\\n [0 0 0 ... 0 0 0]\\n [0 0 ...   \n...                                                  ...   \n17513  [[0 0 0 ... 0 0 0]\\n [0 0 0 ... 0 0 0]\\n [0 0 ...   \n17514  [[0 0 0 ... 0 0 0]\\n [0 0 0 ... 0 0 0]\\n [0 0 ...   \n17515  [[0 0 0 ... 0 0 0]\\n [0 0 0 ... 0 0 0]\\n [0 0 ...   \n17516  [[0 0 0 ... 0 0 0]\\n [0 0 0 ... 0 0 0]\\n [0 0 ...   \n17517  [[0 0 0 ... 0 0 0]\\n [0 0 0 ... 0 0 0]\\n [0 0 ...   \n\n                                                     rle  \n0      ['2 105 513 107 1025 111 1537 113 2049 114 256...  \n1      ['139350 10 139860 17 140370 22 140880 27 1413...  \n2      ['37108 4 37618 8 38129 11 38640 14 39152 15 3...  \n3      ['250783 11 251292 20 251801 26 252311 30 2528...  \n4      ['167352 5 167863 7 168374 10 168886 11 169398...  \n...                                                  ...  \n17513  ['88875 8 89385 11 89896 13 90407 15 90918 16 ...  \n17514  ['14393 12 14904 20 15415 23 15925 28 16434 40...  \n17515  ['140243 6 140750 13 141261 15 141772 17 14228...  \n17516  ['244001 5 244512 7 244603 6 245023 9 245112 1...  \n17517  ['27652 5 28162 9 28673 12 29185 13 29697 14 3...  \n\n[17518 rows x 6 columns]",
      "text/html": "<div>\n<style scoped>\n    .dataframe tbody tr th:only-of-type {\n        vertical-align: middle;\n    }\n\n    .dataframe tbody tr th {\n        vertical-align: top;\n    }\n\n    .dataframe thead th {\n        text-align: right;\n    }\n</style>\n<table border=\"1\" class=\"dataframe\">\n  <thead>\n    <tr style=\"text-align: right;\">\n      <th></th>\n      <th>Unnamed: 0</th>\n      <th>id</th>\n      <th>type</th>\n      <th>coordinates</th>\n      <th>mask</th>\n      <th>rle</th>\n    </tr>\n  </thead>\n  <tbody>\n    <tr>\n      <th>0</th>\n      <td>0</td>\n      <td>0006ff2aa7cd</td>\n      <td>glomerulus</td>\n      <td>[[[167, 249], [166, 249], [165, 249], [164, 24...</td>\n      <td>[[0 1 1 ... 0 0 0]\\n [1 1 1 ... 0 0 0]\\n [1 1 ...</td>\n      <td>['2 105 513 107 1025 111 1537 113 2049 114 256...</td>\n    </tr>\n    <tr>\n      <th>1</th>\n      <td>1</td>\n      <td>0006ff2aa7cd</td>\n      <td>blood_vessel</td>\n      <td>[[[283, 109], [282, 109], [281, 109], [280, 10...</td>\n      <td>[[0 0 0 ... 0 0 0]\\n [0 0 0 ... 0 0 0]\\n [0 0 ...</td>\n      <td>['139350 10 139860 17 140370 22 140880 27 1413...</td>\n    </tr>\n    <tr>\n      <th>2</th>\n      <td>2</td>\n      <td>0006ff2aa7cd</td>\n      <td>blood_vessel</td>\n      <td>[[[104, 292], [103, 292], [102, 292], [101, 29...</td>\n      <td>[[0 0 0 ... 0 0 0]\\n [0 0 0 ... 0 0 0]\\n [0 0 ...</td>\n      <td>['37108 4 37618 8 38129 11 38640 14 39152 15 3...</td>\n    </tr>\n    <tr>\n      <th>3</th>\n      <td>3</td>\n      <td>0006ff2aa7cd</td>\n      <td>blood_vessel</td>\n      <td>[[[505, 442], [504, 442], [503, 442], [502, 44...</td>\n      <td>[[0 0 0 ... 0 0 0]\\n [0 0 0 ... 0 0 0]\\n [0 0 ...</td>\n      <td>['250783 11 251292 20 251801 26 252311 30 2528...</td>\n    </tr>\n    <tr>\n      <th>4</th>\n      <td>4</td>\n      <td>0006ff2aa7cd</td>\n      <td>blood_vessel</td>\n      <td>[[[375, 477], [374, 477], [373, 477], [372, 47...</td>\n      <td>[[0 0 0 ... 0 0 0]\\n [0 0 0 ... 0 0 0]\\n [0 0 ...</td>\n      <td>['167352 5 167863 7 168374 10 168886 11 169398...</td>\n    </tr>\n    <tr>\n      <th>...</th>\n      <td>...</td>\n      <td>...</td>\n      <td>...</td>\n      <td>...</td>\n      <td>...</td>\n      <td>...</td>\n    </tr>\n    <tr>\n      <th>17513</th>\n      <td>17513</td>\n      <td>ffd3d193c71e</td>\n      <td>blood_vessel</td>\n      <td>[[[184, 308], [183, 308], [182, 308], [181, 30...</td>\n      <td>[[0 0 0 ... 0 0 0]\\n [0 0 0 ... 0 0 0]\\n [0 0 ...</td>\n      <td>['88875 8 89385 11 89896 13 90407 15 90918 16 ...</td>\n    </tr>\n    <tr>\n      <th>17514</th>\n      <td>17514</td>\n      <td>ffd3d193c71e</td>\n      <td>blood_vessel</td>\n      <td>[[[42, 92], [41, 92], [40, 92], [39, 92], [38,...</td>\n      <td>[[0 0 0 ... 0 0 0]\\n [0 0 0 ... 0 0 0]\\n [0 0 ...</td>\n      <td>['14393 12 14904 20 15415 23 15925 28 16434 40...</td>\n    </tr>\n    <tr>\n      <th>17515</th>\n      <td>17515</td>\n      <td>ffd3d193c71e</td>\n      <td>blood_vessel</td>\n      <td>[[[287, 480], [286, 480], [285, 480], [284, 48...</td>\n      <td>[[0 0 0 ... 0 0 0]\\n [0 0 0 ... 0 0 0]\\n [0 0 ...</td>\n      <td>['140243 6 140750 13 141261 15 141772 17 14228...</td>\n    </tr>\n    <tr>\n      <th>17516</th>\n      <td>17516</td>\n      <td>ffd3d193c71e</td>\n      <td>blood_vessel</td>\n      <td>[[[493, 388], [492, 388], [491, 388], [490, 38...</td>\n      <td>[[0 0 0 ... 0 0 0]\\n [0 0 0 ... 0 0 0]\\n [0 0 ...</td>\n      <td>['244001 5 244512 7 244603 6 245023 9 245112 1...</td>\n    </tr>\n    <tr>\n      <th>17517</th>\n      <td>17517</td>\n      <td>ffd3d193c71e</td>\n      <td>blood_vessel</td>\n      <td>[[[64, 15], [63, 15], [62, 15], [61, 15], [61,...</td>\n      <td>[[0 0 0 ... 0 0 0]\\n [0 0 0 ... 0 0 0]\\n [0 0 ...</td>\n      <td>['27652 5 28162 9 28673 12 29185 13 29697 14 3...</td>\n    </tr>\n  </tbody>\n</table>\n<p>17518 rows × 6 columns</p>\n</div>"
     },
     "execution_count": 6,
     "metadata": {},
     "output_type": "execute_result"
    }
   ],
   "source": [
    "if not save_df:\n",
    "    tmp_df = pd.read_excel(os.path.join(data_directory,\"annotation_meta.xlsx\"))\n",
    "else:\n",
    "    tmp_df = annotation_df.dataset.copy()\n",
    "tmp_df"
   ],
   "metadata": {
    "collapsed": false
   }
  },
  {
   "cell_type": "code",
   "execution_count": 11,
   "outputs": [
    {
     "data": {
      "text/plain": "                id  source_wsi  dataset      i      j\n4     0033bbc76b6b           1        1  10240  43008\n16    00656c6f2690           1        1  10240  46080\n17    0067d5ad2250           2        1  23552  22528\n33    00d75ad65de3           1        1   8192  39424\n34    00da70813521           1        1  10240  46592\n...            ...         ...      ...    ...    ...\n6844  f86347534ec1           2        1  16896  20992\n6895  faba1bf818ae           1        1   3072  39424\n6933  fc6def641612           1        1   7680  40960\n6951  fd2437954fd8           1        1   5120  39424\n6990  fe248458ea89           1        1  10240  44032\n\n[422 rows x 5 columns]",
      "text/html": "<div>\n<style scoped>\n    .dataframe tbody tr th:only-of-type {\n        vertical-align: middle;\n    }\n\n    .dataframe tbody tr th {\n        vertical-align: top;\n    }\n\n    .dataframe thead th {\n        text-align: right;\n    }\n</style>\n<table border=\"1\" class=\"dataframe\">\n  <thead>\n    <tr style=\"text-align: right;\">\n      <th></th>\n      <th>id</th>\n      <th>source_wsi</th>\n      <th>dataset</th>\n      <th>i</th>\n      <th>j</th>\n    </tr>\n  </thead>\n  <tbody>\n    <tr>\n      <th>4</th>\n      <td>0033bbc76b6b</td>\n      <td>1</td>\n      <td>1</td>\n      <td>10240</td>\n      <td>43008</td>\n    </tr>\n    <tr>\n      <th>16</th>\n      <td>00656c6f2690</td>\n      <td>1</td>\n      <td>1</td>\n      <td>10240</td>\n      <td>46080</td>\n    </tr>\n    <tr>\n      <th>17</th>\n      <td>0067d5ad2250</td>\n      <td>2</td>\n      <td>1</td>\n      <td>23552</td>\n      <td>22528</td>\n    </tr>\n    <tr>\n      <th>33</th>\n      <td>00d75ad65de3</td>\n      <td>1</td>\n      <td>1</td>\n      <td>8192</td>\n      <td>39424</td>\n    </tr>\n    <tr>\n      <th>34</th>\n      <td>00da70813521</td>\n      <td>1</td>\n      <td>1</td>\n      <td>10240</td>\n      <td>46592</td>\n    </tr>\n    <tr>\n      <th>...</th>\n      <td>...</td>\n      <td>...</td>\n      <td>...</td>\n      <td>...</td>\n      <td>...</td>\n    </tr>\n    <tr>\n      <th>6844</th>\n      <td>f86347534ec1</td>\n      <td>2</td>\n      <td>1</td>\n      <td>16896</td>\n      <td>20992</td>\n    </tr>\n    <tr>\n      <th>6895</th>\n      <td>faba1bf818ae</td>\n      <td>1</td>\n      <td>1</td>\n      <td>3072</td>\n      <td>39424</td>\n    </tr>\n    <tr>\n      <th>6933</th>\n      <td>fc6def641612</td>\n      <td>1</td>\n      <td>1</td>\n      <td>7680</td>\n      <td>40960</td>\n    </tr>\n    <tr>\n      <th>6951</th>\n      <td>fd2437954fd8</td>\n      <td>1</td>\n      <td>1</td>\n      <td>5120</td>\n      <td>39424</td>\n    </tr>\n    <tr>\n      <th>6990</th>\n      <td>fe248458ea89</td>\n      <td>1</td>\n      <td>1</td>\n      <td>10240</td>\n      <td>44032</td>\n    </tr>\n  </tbody>\n</table>\n<p>422 rows × 5 columns</p>\n</div>"
     },
     "execution_count": 11,
     "metadata": {},
     "output_type": "execute_result"
    }
   ],
   "source": [
    "supervised_tile_df = tile_df[tile_df[\"dataset\"] == 1]\n",
    "supervised_tile_ids = supervised_tile_df.id.tolist() #list of picture ids that are in dataset 1\n",
    "supervised_tile_df"
   ],
   "metadata": {
    "collapsed": false
   }
  },
  {
   "cell_type": "code",
   "execution_count": 12,
   "outputs": [
    {
     "data": {
      "text/plain": "                id          type  \\\n0     0033bbc76b6b  blood_vessel   \n1     0033bbc76b6b  blood_vessel   \n2     0033bbc76b6b        unsure   \n3     0033bbc76b6b  blood_vessel   \n4     00656c6f2690  blood_vessel   \n...            ...           ...   \n4401  fd2437954fd8  blood_vessel   \n4402  fd2437954fd8  blood_vessel   \n4403  fd2437954fd8  blood_vessel   \n4404  fe248458ea89  blood_vessel   \n4405  fe248458ea89  blood_vessel   \n\n                                            coordinates  \\\n0     [[[169, 228], [168, 228], [167, 228], [166, 22...   \n1     [[[1, 59], [0, 59], [0, 58], [0, 57], [0, 56],...   \n2     [[[177, 37], [176, 37], [175, 37], [174, 37], ...   \n3     [[[406, 511], [405, 511], [404, 511], [403, 51...   \n4     [[[511, 426], [511, 426], [510, 426], [510, 42...   \n...                                                 ...   \n4401  [[[481, 454], [480, 454], [479, 454], [478, 45...   \n4402  [[[416, 511], [415, 511], [414, 511], [413, 51...   \n4403  [[[18, 362], [17, 362], [16, 362], [16, 361], ...   \n4404  [[[131, 501], [130, 501], [129, 501], [128, 50...   \n4405  [[[459, 511], [458, 511], [457, 511], [456, 51...   \n\n                                                   mask  \\\n0     [[0, 0, 0, 0, 0, 0, 0, 0, 0, 0, 0, 0, 0, 0, 0,...   \n1     [[0, 0, 0, 0, 0, 0, 0, 0, 0, 0, 0, 0, 0, 0, 0,...   \n2     [[0, 0, 0, 0, 0, 0, 0, 0, 0, 0, 0, 0, 0, 0, 0,...   \n3     [[0, 0, 0, 0, 0, 0, 0, 0, 0, 0, 0, 0, 0, 0, 0,...   \n4     [[0, 0, 0, 0, 0, 0, 0, 0, 0, 0, 0, 0, 0, 0, 0,...   \n...                                                 ...   \n4401  [[0, 0, 0, 0, 0, 0, 0, 0, 0, 0, 0, 0, 0, 0, 0,...   \n4402  [[0, 0, 0, 0, 0, 0, 0, 0, 0, 0, 0, 0, 0, 0, 0,...   \n4403  [[0, 0, 0, 0, 0, 0, 0, 0, 0, 0, 0, 0, 0, 0, 0,...   \n4404  [[0, 0, 0, 0, 0, 0, 0, 0, 0, 0, 0, 0, 0, 0, 0,...   \n4405  [[0, 0, 0, 0, 0, 0, 0, 0, 0, 0, 0, 0, 0, 0, 0,...   \n\n                                                    rle  \n0     [73387 16 73897 28 74401 38 74911 43 75420 49 ...  \n1     [30 31 541 32 1053 31 1566 27 2079 25 2594 21 ...  \n2     [78855 14 79364 19 79874 22 80385 24 80897 25 ...  \n3     [190976 1 191485 4 191995 6 192506 7 193017 8 ...  \n4     [257947 6 258457 12 258967 16 259478 18 259989...  \n...                                                 ...  \n4401  [238002 14 238510 20 239012 32 239520 37 24000...  \n4402  [191998 3 192502 11 193012 13 193522 15 194032...  \n4403  [3365 50 3874 66 4385 70 4896 72 5407 74 5918 ...  \n4404  [61412 4 61922 8 62432 10 62444 6 62943 21 634...  \n4405  [202240 1 202749 4 203242 23 203752 25 204263 ...  \n\n[4406 rows x 5 columns]",
      "text/html": "<div>\n<style scoped>\n    .dataframe tbody tr th:only-of-type {\n        vertical-align: middle;\n    }\n\n    .dataframe tbody tr th {\n        vertical-align: top;\n    }\n\n    .dataframe thead th {\n        text-align: right;\n    }\n</style>\n<table border=\"1\" class=\"dataframe\">\n  <thead>\n    <tr style=\"text-align: right;\">\n      <th></th>\n      <th>id</th>\n      <th>type</th>\n      <th>coordinates</th>\n      <th>mask</th>\n      <th>rle</th>\n    </tr>\n  </thead>\n  <tbody>\n    <tr>\n      <th>0</th>\n      <td>0033bbc76b6b</td>\n      <td>blood_vessel</td>\n      <td>[[[169, 228], [168, 228], [167, 228], [166, 22...</td>\n      <td>[[0, 0, 0, 0, 0, 0, 0, 0, 0, 0, 0, 0, 0, 0, 0,...</td>\n      <td>[73387 16 73897 28 74401 38 74911 43 75420 49 ...</td>\n    </tr>\n    <tr>\n      <th>1</th>\n      <td>0033bbc76b6b</td>\n      <td>blood_vessel</td>\n      <td>[[[1, 59], [0, 59], [0, 58], [0, 57], [0, 56],...</td>\n      <td>[[0, 0, 0, 0, 0, 0, 0, 0, 0, 0, 0, 0, 0, 0, 0,...</td>\n      <td>[30 31 541 32 1053 31 1566 27 2079 25 2594 21 ...</td>\n    </tr>\n    <tr>\n      <th>2</th>\n      <td>0033bbc76b6b</td>\n      <td>unsure</td>\n      <td>[[[177, 37], [176, 37], [175, 37], [174, 37], ...</td>\n      <td>[[0, 0, 0, 0, 0, 0, 0, 0, 0, 0, 0, 0, 0, 0, 0,...</td>\n      <td>[78855 14 79364 19 79874 22 80385 24 80897 25 ...</td>\n    </tr>\n    <tr>\n      <th>3</th>\n      <td>0033bbc76b6b</td>\n      <td>blood_vessel</td>\n      <td>[[[406, 511], [405, 511], [404, 511], [403, 51...</td>\n      <td>[[0, 0, 0, 0, 0, 0, 0, 0, 0, 0, 0, 0, 0, 0, 0,...</td>\n      <td>[190976 1 191485 4 191995 6 192506 7 193017 8 ...</td>\n    </tr>\n    <tr>\n      <th>4</th>\n      <td>00656c6f2690</td>\n      <td>blood_vessel</td>\n      <td>[[[511, 426], [511, 426], [510, 426], [510, 42...</td>\n      <td>[[0, 0, 0, 0, 0, 0, 0, 0, 0, 0, 0, 0, 0, 0, 0,...</td>\n      <td>[257947 6 258457 12 258967 16 259478 18 259989...</td>\n    </tr>\n    <tr>\n      <th>...</th>\n      <td>...</td>\n      <td>...</td>\n      <td>...</td>\n      <td>...</td>\n      <td>...</td>\n    </tr>\n    <tr>\n      <th>4401</th>\n      <td>fd2437954fd8</td>\n      <td>blood_vessel</td>\n      <td>[[[481, 454], [480, 454], [479, 454], [478, 45...</td>\n      <td>[[0, 0, 0, 0, 0, 0, 0, 0, 0, 0, 0, 0, 0, 0, 0,...</td>\n      <td>[238002 14 238510 20 239012 32 239520 37 24000...</td>\n    </tr>\n    <tr>\n      <th>4402</th>\n      <td>fd2437954fd8</td>\n      <td>blood_vessel</td>\n      <td>[[[416, 511], [415, 511], [414, 511], [413, 51...</td>\n      <td>[[0, 0, 0, 0, 0, 0, 0, 0, 0, 0, 0, 0, 0, 0, 0,...</td>\n      <td>[191998 3 192502 11 193012 13 193522 15 194032...</td>\n    </tr>\n    <tr>\n      <th>4403</th>\n      <td>fd2437954fd8</td>\n      <td>blood_vessel</td>\n      <td>[[[18, 362], [17, 362], [16, 362], [16, 361], ...</td>\n      <td>[[0, 0, 0, 0, 0, 0, 0, 0, 0, 0, 0, 0, 0, 0, 0,...</td>\n      <td>[3365 50 3874 66 4385 70 4896 72 5407 74 5918 ...</td>\n    </tr>\n    <tr>\n      <th>4404</th>\n      <td>fe248458ea89</td>\n      <td>blood_vessel</td>\n      <td>[[[131, 501], [130, 501], [129, 501], [128, 50...</td>\n      <td>[[0, 0, 0, 0, 0, 0, 0, 0, 0, 0, 0, 0, 0, 0, 0,...</td>\n      <td>[61412 4 61922 8 62432 10 62444 6 62943 21 634...</td>\n    </tr>\n    <tr>\n      <th>4405</th>\n      <td>fe248458ea89</td>\n      <td>blood_vessel</td>\n      <td>[[[459, 511], [458, 511], [457, 511], [456, 51...</td>\n      <td>[[0, 0, 0, 0, 0, 0, 0, 0, 0, 0, 0, 0, 0, 0, 0,...</td>\n      <td>[202240 1 202749 4 203242 23 203752 25 204263 ...</td>\n    </tr>\n  </tbody>\n</table>\n<p>4406 rows × 5 columns</p>\n</div>"
     },
     "execution_count": 12,
     "metadata": {},
     "output_type": "execute_result"
    }
   ],
   "source": [
    "supervised_filtered_tile_df = tmp_df[tmp_df['id'].isin(supervised_tile_ids)]\n",
    "supervised_filtered_tile_df = supervised_filtered_tile_df.reset_index(drop=True)\n",
    "supervised_filtered_tile_df"
   ],
   "metadata": {
    "collapsed": false
   }
  },
  {
   "cell_type": "code",
   "execution_count": 13,
   "outputs": [
    {
     "name": "stdout",
     "output_type": "stream",
     "text": [
      "(array(['blood_vessel', 'glomerulus', 'unsure'], dtype='<U12'), array([3498,   36,  872], dtype=int64))\n"
     ]
    }
   ],
   "source": [
    "types = supervised_filtered_tile_df.type.tolist()\n",
    "print(np.unique(types,return_counts=True))"
   ],
   "metadata": {
    "collapsed": false
   }
  },
  {
   "cell_type": "code",
   "execution_count": 14,
   "outputs": [
    {
     "data": {
      "text/plain": "                id          type  \\\n0     0033bbc76b6b  blood_vessel   \n1     0033bbc76b6b  blood_vessel   \n2     0033bbc76b6b        unsure   \n3     0033bbc76b6b  blood_vessel   \n4     00656c6f2690  blood_vessel   \n...            ...           ...   \n4401  fd2437954fd8  blood_vessel   \n4402  fd2437954fd8  blood_vessel   \n4403  fd2437954fd8  blood_vessel   \n4404  fe248458ea89  blood_vessel   \n4405  fe248458ea89  blood_vessel   \n\n                                            coordinates  \\\n0     [[[169, 228], [168, 228], [167, 228], [166, 22...   \n1     [[[1, 59], [0, 59], [0, 58], [0, 57], [0, 56],...   \n2     [[[177, 37], [176, 37], [175, 37], [174, 37], ...   \n3     [[[406, 511], [405, 511], [404, 511], [403, 51...   \n4     [[[511, 426], [511, 426], [510, 426], [510, 42...   \n...                                                 ...   \n4401  [[[481, 454], [480, 454], [479, 454], [478, 45...   \n4402  [[[416, 511], [415, 511], [414, 511], [413, 51...   \n4403  [[[18, 362], [17, 362], [16, 362], [16, 361], ...   \n4404  [[[131, 501], [130, 501], [129, 501], [128, 50...   \n4405  [[[459, 511], [458, 511], [457, 511], [456, 51...   \n\n                                                   mask  \\\n0     [[0, 0, 0, 0, 0, 0, 0, 0, 0, 0, 0, 0, 0, 0, 0,...   \n1     [[0, 0, 0, 0, 0, 0, 0, 0, 0, 0, 0, 0, 0, 0, 0,...   \n2     [[0, 0, 0, 0, 0, 0, 0, 0, 0, 0, 0, 0, 0, 0, 0,...   \n3     [[0, 0, 0, 0, 0, 0, 0, 0, 0, 0, 0, 0, 0, 0, 0,...   \n4     [[0, 0, 0, 0, 0, 0, 0, 0, 0, 0, 0, 0, 0, 0, 0,...   \n...                                                 ...   \n4401  [[0, 0, 0, 0, 0, 0, 0, 0, 0, 0, 0, 0, 0, 0, 0,...   \n4402  [[0, 0, 0, 0, 0, 0, 0, 0, 0, 0, 0, 0, 0, 0, 0,...   \n4403  [[0, 0, 0, 0, 0, 0, 0, 0, 0, 0, 0, 0, 0, 0, 0,...   \n4404  [[0, 0, 0, 0, 0, 0, 0, 0, 0, 0, 0, 0, 0, 0, 0,...   \n4405  [[0, 0, 0, 0, 0, 0, 0, 0, 0, 0, 0, 0, 0, 0, 0,...   \n\n                                                    rle  source_wsi      i  \\\n0     [73387 16 73897 28 74401 38 74911 43 75420 49 ...           1  10240   \n1     [30 31 541 32 1053 31 1566 27 2079 25 2594 21 ...           1  10240   \n2     [78855 14 79364 19 79874 22 80385 24 80897 25 ...           1  10240   \n3     [190976 1 191485 4 191995 6 192506 7 193017 8 ...           1  10240   \n4     [257947 6 258457 12 258967 16 259478 18 259989...           1  10240   \n...                                                 ...         ...    ...   \n4401  [238002 14 238510 20 239012 32 239520 37 24000...           1   5120   \n4402  [191998 3 192502 11 193012 13 193522 15 194032...           1   5120   \n4403  [3365 50 3874 66 4385 70 4896 72 5407 74 5918 ...           1   5120   \n4404  [61412 4 61922 8 62432 10 62444 6 62943 21 634...           1  10240   \n4405  [202240 1 202749 4 203242 23 203752 25 204263 ...           1  10240   \n\n          j  \n0     43008  \n1     43008  \n2     43008  \n3     43008  \n4     46080  \n...     ...  \n4401  39424  \n4402  39424  \n4403  39424  \n4404  44032  \n4405  44032  \n\n[4406 rows x 8 columns]",
      "text/html": "<div>\n<style scoped>\n    .dataframe tbody tr th:only-of-type {\n        vertical-align: middle;\n    }\n\n    .dataframe tbody tr th {\n        vertical-align: top;\n    }\n\n    .dataframe thead th {\n        text-align: right;\n    }\n</style>\n<table border=\"1\" class=\"dataframe\">\n  <thead>\n    <tr style=\"text-align: right;\">\n      <th></th>\n      <th>id</th>\n      <th>type</th>\n      <th>coordinates</th>\n      <th>mask</th>\n      <th>rle</th>\n      <th>source_wsi</th>\n      <th>i</th>\n      <th>j</th>\n    </tr>\n  </thead>\n  <tbody>\n    <tr>\n      <th>0</th>\n      <td>0033bbc76b6b</td>\n      <td>blood_vessel</td>\n      <td>[[[169, 228], [168, 228], [167, 228], [166, 22...</td>\n      <td>[[0, 0, 0, 0, 0, 0, 0, 0, 0, 0, 0, 0, 0, 0, 0,...</td>\n      <td>[73387 16 73897 28 74401 38 74911 43 75420 49 ...</td>\n      <td>1</td>\n      <td>10240</td>\n      <td>43008</td>\n    </tr>\n    <tr>\n      <th>1</th>\n      <td>0033bbc76b6b</td>\n      <td>blood_vessel</td>\n      <td>[[[1, 59], [0, 59], [0, 58], [0, 57], [0, 56],...</td>\n      <td>[[0, 0, 0, 0, 0, 0, 0, 0, 0, 0, 0, 0, 0, 0, 0,...</td>\n      <td>[30 31 541 32 1053 31 1566 27 2079 25 2594 21 ...</td>\n      <td>1</td>\n      <td>10240</td>\n      <td>43008</td>\n    </tr>\n    <tr>\n      <th>2</th>\n      <td>0033bbc76b6b</td>\n      <td>unsure</td>\n      <td>[[[177, 37], [176, 37], [175, 37], [174, 37], ...</td>\n      <td>[[0, 0, 0, 0, 0, 0, 0, 0, 0, 0, 0, 0, 0, 0, 0,...</td>\n      <td>[78855 14 79364 19 79874 22 80385 24 80897 25 ...</td>\n      <td>1</td>\n      <td>10240</td>\n      <td>43008</td>\n    </tr>\n    <tr>\n      <th>3</th>\n      <td>0033bbc76b6b</td>\n      <td>blood_vessel</td>\n      <td>[[[406, 511], [405, 511], [404, 511], [403, 51...</td>\n      <td>[[0, 0, 0, 0, 0, 0, 0, 0, 0, 0, 0, 0, 0, 0, 0,...</td>\n      <td>[190976 1 191485 4 191995 6 192506 7 193017 8 ...</td>\n      <td>1</td>\n      <td>10240</td>\n      <td>43008</td>\n    </tr>\n    <tr>\n      <th>4</th>\n      <td>00656c6f2690</td>\n      <td>blood_vessel</td>\n      <td>[[[511, 426], [511, 426], [510, 426], [510, 42...</td>\n      <td>[[0, 0, 0, 0, 0, 0, 0, 0, 0, 0, 0, 0, 0, 0, 0,...</td>\n      <td>[257947 6 258457 12 258967 16 259478 18 259989...</td>\n      <td>1</td>\n      <td>10240</td>\n      <td>46080</td>\n    </tr>\n    <tr>\n      <th>...</th>\n      <td>...</td>\n      <td>...</td>\n      <td>...</td>\n      <td>...</td>\n      <td>...</td>\n      <td>...</td>\n      <td>...</td>\n      <td>...</td>\n    </tr>\n    <tr>\n      <th>4401</th>\n      <td>fd2437954fd8</td>\n      <td>blood_vessel</td>\n      <td>[[[481, 454], [480, 454], [479, 454], [478, 45...</td>\n      <td>[[0, 0, 0, 0, 0, 0, 0, 0, 0, 0, 0, 0, 0, 0, 0,...</td>\n      <td>[238002 14 238510 20 239012 32 239520 37 24000...</td>\n      <td>1</td>\n      <td>5120</td>\n      <td>39424</td>\n    </tr>\n    <tr>\n      <th>4402</th>\n      <td>fd2437954fd8</td>\n      <td>blood_vessel</td>\n      <td>[[[416, 511], [415, 511], [414, 511], [413, 51...</td>\n      <td>[[0, 0, 0, 0, 0, 0, 0, 0, 0, 0, 0, 0, 0, 0, 0,...</td>\n      <td>[191998 3 192502 11 193012 13 193522 15 194032...</td>\n      <td>1</td>\n      <td>5120</td>\n      <td>39424</td>\n    </tr>\n    <tr>\n      <th>4403</th>\n      <td>fd2437954fd8</td>\n      <td>blood_vessel</td>\n      <td>[[[18, 362], [17, 362], [16, 362], [16, 361], ...</td>\n      <td>[[0, 0, 0, 0, 0, 0, 0, 0, 0, 0, 0, 0, 0, 0, 0,...</td>\n      <td>[3365 50 3874 66 4385 70 4896 72 5407 74 5918 ...</td>\n      <td>1</td>\n      <td>5120</td>\n      <td>39424</td>\n    </tr>\n    <tr>\n      <th>4404</th>\n      <td>fe248458ea89</td>\n      <td>blood_vessel</td>\n      <td>[[[131, 501], [130, 501], [129, 501], [128, 50...</td>\n      <td>[[0, 0, 0, 0, 0, 0, 0, 0, 0, 0, 0, 0, 0, 0, 0,...</td>\n      <td>[61412 4 61922 8 62432 10 62444 6 62943 21 634...</td>\n      <td>1</td>\n      <td>10240</td>\n      <td>44032</td>\n    </tr>\n    <tr>\n      <th>4405</th>\n      <td>fe248458ea89</td>\n      <td>blood_vessel</td>\n      <td>[[[459, 511], [458, 511], [457, 511], [456, 51...</td>\n      <td>[[0, 0, 0, 0, 0, 0, 0, 0, 0, 0, 0, 0, 0, 0, 0,...</td>\n      <td>[202240 1 202749 4 203242 23 203752 25 204263 ...</td>\n      <td>1</td>\n      <td>10240</td>\n      <td>44032</td>\n    </tr>\n  </tbody>\n</table>\n<p>4406 rows × 8 columns</p>\n</div>"
     },
     "execution_count": 14,
     "metadata": {},
     "output_type": "execute_result"
    }
   ],
   "source": [
    "# now let's just add some extra info from the tile meta, such as source_wsi, i, j, and full image path of the source dataset.\n",
    "mapping = supervised_tile_df.set_index('id')[['source_wsi', 'i', 'j']].to_dict(orient='index')\n",
    "\n",
    "# Assign the values from dataframe A to dataframe B based on the 'id' column\n",
    "supervised_filtered_tile_df[['source_wsi', 'i', 'j']] = supervised_filtered_tile_df['id'].map(mapping).apply(pd.Series)\n",
    "supervised_filtered_tile_df"
   ],
   "metadata": {
    "collapsed": false
   }
  },
  {
   "cell_type": "markdown",
   "source": [
    "### As seen above, we have 3498 annotations for a confident blood vessel prediction (one we can use for supervised training!) For now, let's only focus at blood_vessel, since we are doing one object detection model. If we feel like it's not doing that well, we can come back to this and train a 3-class segmentation model."
   ],
   "metadata": {
    "collapsed": false
   }
  },
  {
   "cell_type": "code",
   "execution_count": 15,
   "outputs": [
    {
     "data": {
      "text/plain": "                id          type  \\\n0     0033bbc76b6b  blood_vessel   \n1     0033bbc76b6b  blood_vessel   \n2     0033bbc76b6b  blood_vessel   \n3     00656c6f2690  blood_vessel   \n4     00656c6f2690  blood_vessel   \n...            ...           ...   \n3493  fd2437954fd8  blood_vessel   \n3494  fd2437954fd8  blood_vessel   \n3495  fd2437954fd8  blood_vessel   \n3496  fe248458ea89  blood_vessel   \n3497  fe248458ea89  blood_vessel   \n\n                                            coordinates  \\\n0     [[[169, 228], [168, 228], [167, 228], [166, 22...   \n1     [[[1, 59], [0, 59], [0, 58], [0, 57], [0, 56],...   \n2     [[[406, 511], [405, 511], [404, 511], [403, 51...   \n3     [[[511, 426], [511, 426], [510, 426], [510, 42...   \n4     [[[157, 404], [156, 404], [155, 404], [154, 40...   \n...                                                 ...   \n3493  [[[481, 454], [480, 454], [479, 454], [478, 45...   \n3494  [[[416, 511], [415, 511], [414, 511], [413, 51...   \n3495  [[[18, 362], [17, 362], [16, 362], [16, 361], ...   \n3496  [[[131, 501], [130, 501], [129, 501], [128, 50...   \n3497  [[[459, 511], [458, 511], [457, 511], [456, 51...   \n\n                                                   mask  \\\n0     [[0, 0, 0, 0, 0, 0, 0, 0, 0, 0, 0, 0, 0, 0, 0,...   \n1     [[0, 0, 0, 0, 0, 0, 0, 0, 0, 0, 0, 0, 0, 0, 0,...   \n2     [[0, 0, 0, 0, 0, 0, 0, 0, 0, 0, 0, 0, 0, 0, 0,...   \n3     [[0, 0, 0, 0, 0, 0, 0, 0, 0, 0, 0, 0, 0, 0, 0,...   \n4     [[0, 0, 0, 0, 0, 0, 0, 0, 0, 0, 0, 0, 0, 0, 0,...   \n...                                                 ...   \n3493  [[0, 0, 0, 0, 0, 0, 0, 0, 0, 0, 0, 0, 0, 0, 0,...   \n3494  [[0, 0, 0, 0, 0, 0, 0, 0, 0, 0, 0, 0, 0, 0, 0,...   \n3495  [[0, 0, 0, 0, 0, 0, 0, 0, 0, 0, 0, 0, 0, 0, 0,...   \n3496  [[0, 0, 0, 0, 0, 0, 0, 0, 0, 0, 0, 0, 0, 0, 0,...   \n3497  [[0, 0, 0, 0, 0, 0, 0, 0, 0, 0, 0, 0, 0, 0, 0,...   \n\n                                                    rle  source_wsi      i  \\\n0     [73387 16 73897 28 74401 38 74911 43 75420 49 ...           1  10240   \n1     [30 31 541 32 1053 31 1566 27 2079 25 2594 21 ...           1  10240   \n2     [190976 1 191485 4 191995 6 192506 7 193017 8 ...           1  10240   \n3     [257947 6 258457 12 258967 16 259478 18 259989...           1  10240   \n4     [58240 8 58750 13 59261 15 59772 16 60284 17 6...           1  10240   \n...                                                 ...         ...    ...   \n3493  [238002 14 238510 20 239012 32 239520 37 24000...           1   5120   \n3494  [191998 3 192502 11 193012 13 193522 15 194032...           1   5120   \n3495  [3365 50 3874 66 4385 70 4896 72 5407 74 5918 ...           1   5120   \n3496  [61412 4 61922 8 62432 10 62444 6 62943 21 634...           1  10240   \n3497  [202240 1 202749 4 203242 23 203752 25 204263 ...           1  10240   \n\n          j  \n0     43008  \n1     43008  \n2     43008  \n3     46080  \n4     46080  \n...     ...  \n3493  39424  \n3494  39424  \n3495  39424  \n3496  44032  \n3497  44032  \n\n[3498 rows x 8 columns]",
      "text/html": "<div>\n<style scoped>\n    .dataframe tbody tr th:only-of-type {\n        vertical-align: middle;\n    }\n\n    .dataframe tbody tr th {\n        vertical-align: top;\n    }\n\n    .dataframe thead th {\n        text-align: right;\n    }\n</style>\n<table border=\"1\" class=\"dataframe\">\n  <thead>\n    <tr style=\"text-align: right;\">\n      <th></th>\n      <th>id</th>\n      <th>type</th>\n      <th>coordinates</th>\n      <th>mask</th>\n      <th>rle</th>\n      <th>source_wsi</th>\n      <th>i</th>\n      <th>j</th>\n    </tr>\n  </thead>\n  <tbody>\n    <tr>\n      <th>0</th>\n      <td>0033bbc76b6b</td>\n      <td>blood_vessel</td>\n      <td>[[[169, 228], [168, 228], [167, 228], [166, 22...</td>\n      <td>[[0, 0, 0, 0, 0, 0, 0, 0, 0, 0, 0, 0, 0, 0, 0,...</td>\n      <td>[73387 16 73897 28 74401 38 74911 43 75420 49 ...</td>\n      <td>1</td>\n      <td>10240</td>\n      <td>43008</td>\n    </tr>\n    <tr>\n      <th>1</th>\n      <td>0033bbc76b6b</td>\n      <td>blood_vessel</td>\n      <td>[[[1, 59], [0, 59], [0, 58], [0, 57], [0, 56],...</td>\n      <td>[[0, 0, 0, 0, 0, 0, 0, 0, 0, 0, 0, 0, 0, 0, 0,...</td>\n      <td>[30 31 541 32 1053 31 1566 27 2079 25 2594 21 ...</td>\n      <td>1</td>\n      <td>10240</td>\n      <td>43008</td>\n    </tr>\n    <tr>\n      <th>2</th>\n      <td>0033bbc76b6b</td>\n      <td>blood_vessel</td>\n      <td>[[[406, 511], [405, 511], [404, 511], [403, 51...</td>\n      <td>[[0, 0, 0, 0, 0, 0, 0, 0, 0, 0, 0, 0, 0, 0, 0,...</td>\n      <td>[190976 1 191485 4 191995 6 192506 7 193017 8 ...</td>\n      <td>1</td>\n      <td>10240</td>\n      <td>43008</td>\n    </tr>\n    <tr>\n      <th>3</th>\n      <td>00656c6f2690</td>\n      <td>blood_vessel</td>\n      <td>[[[511, 426], [511, 426], [510, 426], [510, 42...</td>\n      <td>[[0, 0, 0, 0, 0, 0, 0, 0, 0, 0, 0, 0, 0, 0, 0,...</td>\n      <td>[257947 6 258457 12 258967 16 259478 18 259989...</td>\n      <td>1</td>\n      <td>10240</td>\n      <td>46080</td>\n    </tr>\n    <tr>\n      <th>4</th>\n      <td>00656c6f2690</td>\n      <td>blood_vessel</td>\n      <td>[[[157, 404], [156, 404], [155, 404], [154, 40...</td>\n      <td>[[0, 0, 0, 0, 0, 0, 0, 0, 0, 0, 0, 0, 0, 0, 0,...</td>\n      <td>[58240 8 58750 13 59261 15 59772 16 60284 17 6...</td>\n      <td>1</td>\n      <td>10240</td>\n      <td>46080</td>\n    </tr>\n    <tr>\n      <th>...</th>\n      <td>...</td>\n      <td>...</td>\n      <td>...</td>\n      <td>...</td>\n      <td>...</td>\n      <td>...</td>\n      <td>...</td>\n      <td>...</td>\n    </tr>\n    <tr>\n      <th>3493</th>\n      <td>fd2437954fd8</td>\n      <td>blood_vessel</td>\n      <td>[[[481, 454], [480, 454], [479, 454], [478, 45...</td>\n      <td>[[0, 0, 0, 0, 0, 0, 0, 0, 0, 0, 0, 0, 0, 0, 0,...</td>\n      <td>[238002 14 238510 20 239012 32 239520 37 24000...</td>\n      <td>1</td>\n      <td>5120</td>\n      <td>39424</td>\n    </tr>\n    <tr>\n      <th>3494</th>\n      <td>fd2437954fd8</td>\n      <td>blood_vessel</td>\n      <td>[[[416, 511], [415, 511], [414, 511], [413, 51...</td>\n      <td>[[0, 0, 0, 0, 0, 0, 0, 0, 0, 0, 0, 0, 0, 0, 0,...</td>\n      <td>[191998 3 192502 11 193012 13 193522 15 194032...</td>\n      <td>1</td>\n      <td>5120</td>\n      <td>39424</td>\n    </tr>\n    <tr>\n      <th>3495</th>\n      <td>fd2437954fd8</td>\n      <td>blood_vessel</td>\n      <td>[[[18, 362], [17, 362], [16, 362], [16, 361], ...</td>\n      <td>[[0, 0, 0, 0, 0, 0, 0, 0, 0, 0, 0, 0, 0, 0, 0,...</td>\n      <td>[3365 50 3874 66 4385 70 4896 72 5407 74 5918 ...</td>\n      <td>1</td>\n      <td>5120</td>\n      <td>39424</td>\n    </tr>\n    <tr>\n      <th>3496</th>\n      <td>fe248458ea89</td>\n      <td>blood_vessel</td>\n      <td>[[[131, 501], [130, 501], [129, 501], [128, 50...</td>\n      <td>[[0, 0, 0, 0, 0, 0, 0, 0, 0, 0, 0, 0, 0, 0, 0,...</td>\n      <td>[61412 4 61922 8 62432 10 62444 6 62943 21 634...</td>\n      <td>1</td>\n      <td>10240</td>\n      <td>44032</td>\n    </tr>\n    <tr>\n      <th>3497</th>\n      <td>fe248458ea89</td>\n      <td>blood_vessel</td>\n      <td>[[[459, 511], [458, 511], [457, 511], [456, 51...</td>\n      <td>[[0, 0, 0, 0, 0, 0, 0, 0, 0, 0, 0, 0, 0, 0, 0,...</td>\n      <td>[202240 1 202749 4 203242 23 203752 25 204263 ...</td>\n      <td>1</td>\n      <td>10240</td>\n      <td>44032</td>\n    </tr>\n  </tbody>\n</table>\n<p>3498 rows × 8 columns</p>\n</div>"
     },
     "execution_count": 15,
     "metadata": {},
     "output_type": "execute_result"
    }
   ],
   "source": [
    "final_df = supervised_filtered_tile_df[supervised_filtered_tile_df[\"type\"] == \"blood_vessel\"]\n",
    "final_df = final_df.reset_index(drop=True)\n",
    "final_df # these are all from dataset 1.\n"
   ],
   "metadata": {
    "collapsed": false
   }
  },
  {
   "cell_type": "code",
   "execution_count": 19,
   "outputs": [],
   "source": [
    "save_final_df = False\n",
    "if save_final_df:\n",
    "    save_src = r\"\\\\fatherserverdw\\Kevin\\hubmap\\obj_detect_bvonly.xlsx\"\n",
    "    final_df.to_excel(save_src)"
   ],
   "metadata": {
    "collapsed": false
   }
  },
  {
   "cell_type": "code",
   "execution_count": 18,
   "outputs": [
    {
     "data": {
      "text/plain": "array(['0033bbc76b6b', '00656c6f2690', '0067d5ad2250', '00d75ad65de3',\n       '00da70813521', '0596bfb19322', '06034408218a', '06b972c417e7',\n       '072f5307f243', '0754412b2917', '0788fc3be62e', '07bdbe578ded',\n       '089a9e6be240', '093a52e9bc1d', '097dd2ed6c14', '0a10b8716b30',\n       '0a43459733e7', '0a5be90855e3', '0acd70e887b3', '0b8029db1fb4',\n       '0b849dde56be', '0b89ab7f9f07', '0c3086bd8efb', '0c54942878fa',\n       '0d6c0cfee2db', '0d9d65340ef8', '0dce2b8d2c25', '0e0836cf1824',\n       '0e6eeb39d8f6', '0e8aed930dc6', '0f5b52a768e2', '10162104cbaf',\n       '103906a73e6d', '11128ba6d78c', '1222b4306c01', '12ab9ac0fc55',\n       '130d4d323ce4', '13aa34ced90d', '1423b40ad0dc', '15e5df255b86',\n       '15ed954c0cdf', '19551df15a1e', '1a54cda8f32d', '1a785cc0d167',\n       '1b12cccdfdd2', '1bd726055ad8', '1c6c39a22324', '1c8af4861691',\n       '1d8aa548c370', '1e0efbb8979f', '1e14b9acc9b9', '1e2fd6c2950d',\n       '1f0d3cd4b621', '209426451a36', '212fc627af24', '2136df4a5aeb',\n       '214866956ea3', '21acb908cf67', '2320eefd8bec', '2321d0fb53f7',\n       '2405b58d5b61', '2519a0f1b867', '257c077f001a', '25b98e7aea78',\n       '26abe884958b', '26b7c381eb73', '274aa4b29a70', '27661a87f456',\n       '27ac6c438f3b', '2a127f0ae506', '2a4cc81cc5d6', '2a577425c773',\n       '2a9e6a294e2b', '2ad1b19b87df', '2af27d65509c', '2bf7751456cd',\n       '2c5bd755f831', '2c6d2cc31d81', '2d0c1b760913', '2dbb4700f7be',\n       '2fd7649afbc1', '2feddbc54e20', '303b72a38e29', '3088c3e5378e',\n       '31195284c86e', '327dcb16a7ef', '32cf613e3c11', '32d912178fdd',\n       '32e007559fb4', '331c34551d3d', '333c1d618ae3', '3378fe495259',\n       '3382edde0a6c', '349a6a8fc66e', '34bfda589476', '352777709276',\n       '352c7fdfb717', '359bb86fa14f', '37cac808f375', '3879b8c84baf',\n       '3901bf683fc0', '39b8aafd630b', '3b523d3117e2', '3b83d7668181',\n       '3c18fbcff68b', '3c232223b2d0', '3c72922e02f4', '3cf35a0393b8',\n       '3d5f53402137', '3e01bb974a1b', '3e248be7dd4c', '3e7e6fa84e33',\n       '3fa3016e2bc5', '40ac7a9fc203', '41225437e33e', '43b4654b4c3d',\n       '43c6095181fd', '4499a0dc7101', '44b8b0eaa3b2', '44c66d51c40e',\n       '454cf72a9ed9', '458a92eda7b4', '45d6f53ececf', '465022519f3f',\n       '47536b25b615', '47c4970bf049', '481234519879', '484301f61207',\n       '484656371e88', '4865588b8b4c', '495169bbaa46', '4a1b99c7ab16',\n       '4a8a791a23cb', '4b197545ea0e', '4b71f2e1d1ba', '4ba8d55f7acb',\n       '4c1361e4c2d8', '4ca084aec87b', '4eb2a2b392f6', '4eef9950c417',\n       '50c80988e3ff', '50dc42c72b45', '51551e6feeb1', '51a2ad418b22',\n       '5232ba7fa001', '54415c6dfda4', '54b61f30d4ec', '5566406c59ee',\n       '5575d4cb055f', '55b07829e888', '55cab2c9c13a', '55eef661b175',\n       '55f4ccb3f710', '5631a47d5b0c', '564283be4af8', '573aeb182976',\n       '578c8b32057e', '5790b15dde35', '59642acc100e', '5a22624135ab',\n       '5a89c7f7ad05', '5aae1d92e0af', '5ab182e75656', '5ac25a1e40dd',\n       '5b264302144d', '5bcde6ec2e82', '5c48013d4c6d', '5d0731972927',\n       '5de1d0bea7fe', '5ea525251225', '5ed19b1b6f88', '5f9afd2ee26d',\n       '602d24899028', '60649906e443', '611599949a53', '61409556c001',\n       '61f8b27a48e6', '62bc683d8c8a', '6443bced36cd', '644a62eaaf2b',\n       '64a7e1b01c32', '651281290617', '652bd8e1cb00', '65a235166914',\n       '65e7ca00c422', '65fcbb5ef4c7', '664fdc3e5dca', '66bc46f89c87',\n       '678c51bde237', '67a7395eef7d', '68600400d70b', '68e0e9974b36',\n       '68fad6106167', '6932d1e4a62b', '6a4d868ab872', '6a5db683c6e5',\n       '6aa29be63071', '6b0fd03dfafe', '6ba7c5991bf9', '6f6d94a82c86',\n       '71bf4443c163', '733296a59c9b', '7392e21e0fe2', '73d99bec414b',\n       '758c0b61f9db', '77c7c3714f08', '7a115ea6545e', '7aa96f6832b9',\n       '7ae0eb4bda2c', '7b521f53df5b', '7b7327ccac8d', '7c58b92324f7',\n       '7d0038b7076a', '7db4a2106f14', '7e72cf2b43bf', '7e97ecdac5d2',\n       '7ed2263d8989', '7fc91238e6f8', '8047c43b1cb2', '8182a03edd17',\n       '81e49a2e8c6b', '8254e9f1af65', '836f728b5c18', '83accb438714',\n       '84d81e7b03c1', '8533ba9bc160', '8565f71a4149', '866cff076c29',\n       '87a07ec41751', '881186005e82', '88c95fb9fb14', '88d349bebe86',\n       '88e8fbbc2b4e', '891613413e69', '892146ef3207', '8a6e6fb756da',\n       '8abfc630ccdd', '8d24ea45c6b6', '8d60ccc783c1', '8f4c08f55c0f',\n       '90fae0cae5bd', '91101158fefd', '91170b600f70', '911b753ffe47',\n       '912ebd02ee50', '91858313a40e', '91ba77e94fd3', '9227f6ede08f',\n       '92394add7fb2', '936f9bfb3966', '939c99c1e09a', '94ad7d9e5497',\n       '951d7a241936', '9596b376c210', '96c2d15e0fa1', '97dce4548ae2',\n       '9a2004e16035', '9abb800898c5', '9afac4fc65ef', '9b95807e6b23',\n       '9ba29448632b', '9cbdd3eb5929', '9ed941a933d0', '9f64d430a4cf',\n       'a26531b79940', 'a2c83aa5cf1f', 'a36f233f5953', 'a373ae26f4f0',\n       'a3926b1211d3', 'a3ebac2db19d', 'a4b58c23d4c6', 'a60200ee318c',\n       'a65fdd745f6f', 'a7a03dcb5485', 'a88bead7ca59', 'a8dcf7824e9b',\n       'a9653f16e0b6', 'a977353c25d6', 'aa5761ee8eda', 'aa89285a0dbd',\n       'abe8e23f130b', 'ac68833641fe', 'ac6d05ce6dd1', 'ac8f685801d0',\n       'ad4cabec2278', 'ada5d6fa80aa', 'ae4641d3fb5f', 'af587261a215',\n       'af9c61e40ff5', 'b1374d055915', 'b20773efe051', 'b2e28a0849fb',\n       'b36f28986045', 'b454fe1b98f8', 'b50d9b7c01c4', 'b5e5e2970afb',\n       'b6395d5c113f', 'b72ce47d803b', 'b73efafa7477', 'b898dccf7911',\n       'b8db704134ac', 'b9026c35238c', 'bac19879fe37', 'bb488d9b931e',\n       'bb7e7fae1cf4', 'bc995681dd54', 'bc9d7d15a9a9', 'bd090bb1b654',\n       'bd4bbe103c24', 'bda6c8ca9d47', 'bdf18b8fa3ed', 'be16177671b1',\n       'be9250fc8ec5', 'bf96591278cd', 'bfd82635f6f9', 'c1a16cb3923b',\n       'c504eae8c6bb', 'c66de2904503', 'c72da07dc0ee', 'c79b1b1886d4',\n       'c7d49f3f1ae3', 'c864a708f66a', 'c9455a06321d', 'c956a02b5d22',\n       'c9a0f19e04c5', 'c9d0ac176add', 'c9dc3cfc0567', 'ca081412bad8',\n       'ca178713fdb2', 'ca57af0413ac', 'cb96f7b681f8', 'cbbdc5d83ec9',\n       'cbc4758c8c53', 'ccb2255e294d', 'cd4b698ac682', 'cd6b90e3f4b3',\n       'cd9a241fd4b6', 'ce27b0613895', 'cf921187e2bc', 'cfbf75947d43',\n       'cfe02239d1c7', 'd078cb53bbd5', 'd12b5c0f5c0e', 'd171145b9fb7',\n       'd2378fe9bcbd', 'd35b6634f6e9', 'd3bab0895723', 'd4e99e162f37',\n       'd5f4624c23bb', 'd6529e6e8602', 'd6d79e965902', 'd6f0f1f4a7dc',\n       'd74fdf0b9924', 'd92dc34cd8f2', 'd953fe03e1d0', 'd9808586aef2',\n       'da1c6d6657e9', 'da2863316247', 'da774b6f9cd1', 'da876b636c6c',\n       'db03a1487798', 'db20b95a3ab9', 'db8391d91d8d', 'db8431a57b16',\n       'dc03d69afd95', 'dcea2cfbc429', 'dd690b7d9a47', 'dde26a95b52c',\n       'dfcea0f4ef63', 'e0072029e135', 'e0ea1978d5dc', 'e176191e4f83',\n       'e1f6c8a7873e', 'e283ea6e3f7b', 'e2924beb5567', 'e2c1ebfddb4a',\n       'e3c41ad419a2', 'e4c6313913c3', 'e506a133c873', 'e5ac1caaadd8',\n       'e63d156bc72f', 'e65fc78aa66a', 'e6d9bd78b840', 'e72945522a29',\n       'e72ed3bd99b5', 'e7473674d813', 'e7dd45905a5f', 'e8a183610034',\n       'e8ff12a57773', 'e93185008c33', 'e95c2881d1dc', 'eaa85fa2b857',\n       'eba1f93e5a11', 'ec963d44976f', 'ed6a92a9410c', 'eda294658a0a',\n       'edae2e5c9f10', 'eef5565a7e5a', 'ef7f5d12b1ff', 'f0c2afc5fb05',\n       'f1af97caff9d', 'f21ab98d3572', 'f24e15fe294b', 'f2a31831f412',\n       'f38f2f72a1b7', 'f406fdba08f4', 'f40804ea84e6', 'f4c6166d1039',\n       'f6afc2903670', 'f6b0c55c34c7', 'f73b7aca41d4', 'f86347534ec1',\n       'faba1bf818ae', 'fc6def641612', 'fd2437954fd8', 'fe248458ea89'],\n      dtype='<U12')"
     },
     "execution_count": 18,
     "metadata": {},
     "output_type": "execute_result"
    }
   ],
   "source": [
    "ids = final_df.id.tolist()\n",
    "np.unique(ids) #416 unique images with blood vessel annotations that are trustworthy"
   ],
   "metadata": {
    "collapsed": false
   }
  },
  {
   "cell_type": "markdown",
   "source": [
    "### Note: Dataset 1 has two WSI's (WSI's # 1 and 2, which are from two, white female patients). Dataset 2 (sparse annotations not expert reviewed) has two WSI's (WSI's # 3 and 4, which are from one white female and one black male). Dataset 3 has nine further WSI's (WSI's # 6~14) and are unlabeled (we will later use it for contrastive learning)."
   ],
   "metadata": {
    "collapsed": false
   }
  },
  {
   "cell_type": "markdown",
   "source": [
    "### Since we only deal with dataset 1 right now, we will do stratification based on the source_wsi 1 and 2 since they are unbalanced. Let's do 5 fold stratified CV, so include the random split in the df and save it, so that we can load this df during training of object detection model. If segmentation model, we would have to do stratifiedgroupkfold, where stratify over classes and over groups of patients or source_wsis. But first, let's create a .txt file for label for each blood vessel image for yolov8 by modifying our final_df above. Stuff for yolov8 is done in preprocessing_yolov8.ipynb"
   ],
   "metadata": {
    "collapsed": false
   }
  },
  {
   "cell_type": "markdown",
   "source": [
    "### Since not a lot of training data, let's try to include annotations from dataset 2 and also glomerulus compare how it does to dataset 1 and bv only:"
   ],
   "metadata": {
    "collapsed": false
   }
  },
  {
   "cell_type": "code",
   "execution_count": 7,
   "outputs": [],
   "source": [
    "tmp_df = pd.read_excel(os.path.join(data_directory,\"annotation_meta.xlsx\"))"
   ],
   "metadata": {
    "collapsed": false
   }
  },
  {
   "cell_type": "code",
   "execution_count": 13,
   "outputs": [
    {
     "data": {
      "text/plain": "                id  source_wsi  dataset      i      j\n4     0033bbc76b6b           1        1  10240  43008\n16    00656c6f2690           1        1  10240  46080\n17    0067d5ad2250           2        1  23552  22528\n33    00d75ad65de3           1        1   8192  39424\n34    00da70813521           1        1  10240  46592\n...            ...         ...      ...    ...    ...\n7016  ff434af74304           4        2   3072  22528\n7017  ff4897b3eda6           4        2  11776  20992\n7021  ff66dec71c4c           3        2   5120  10752\n7025  ff99cdef0f2a           4        2   5120  24064\n7029  ffd3d193c71e           3        2   7680  16896\n\n[1633 rows x 5 columns]",
      "text/html": "<div>\n<style scoped>\n    .dataframe tbody tr th:only-of-type {\n        vertical-align: middle;\n    }\n\n    .dataframe tbody tr th {\n        vertical-align: top;\n    }\n\n    .dataframe thead th {\n        text-align: right;\n    }\n</style>\n<table border=\"1\" class=\"dataframe\">\n  <thead>\n    <tr style=\"text-align: right;\">\n      <th></th>\n      <th>id</th>\n      <th>source_wsi</th>\n      <th>dataset</th>\n      <th>i</th>\n      <th>j</th>\n    </tr>\n  </thead>\n  <tbody>\n    <tr>\n      <th>4</th>\n      <td>0033bbc76b6b</td>\n      <td>1</td>\n      <td>1</td>\n      <td>10240</td>\n      <td>43008</td>\n    </tr>\n    <tr>\n      <th>16</th>\n      <td>00656c6f2690</td>\n      <td>1</td>\n      <td>1</td>\n      <td>10240</td>\n      <td>46080</td>\n    </tr>\n    <tr>\n      <th>17</th>\n      <td>0067d5ad2250</td>\n      <td>2</td>\n      <td>1</td>\n      <td>23552</td>\n      <td>22528</td>\n    </tr>\n    <tr>\n      <th>33</th>\n      <td>00d75ad65de3</td>\n      <td>1</td>\n      <td>1</td>\n      <td>8192</td>\n      <td>39424</td>\n    </tr>\n    <tr>\n      <th>34</th>\n      <td>00da70813521</td>\n      <td>1</td>\n      <td>1</td>\n      <td>10240</td>\n      <td>46592</td>\n    </tr>\n    <tr>\n      <th>...</th>\n      <td>...</td>\n      <td>...</td>\n      <td>...</td>\n      <td>...</td>\n      <td>...</td>\n    </tr>\n    <tr>\n      <th>7016</th>\n      <td>ff434af74304</td>\n      <td>4</td>\n      <td>2</td>\n      <td>3072</td>\n      <td>22528</td>\n    </tr>\n    <tr>\n      <th>7017</th>\n      <td>ff4897b3eda6</td>\n      <td>4</td>\n      <td>2</td>\n      <td>11776</td>\n      <td>20992</td>\n    </tr>\n    <tr>\n      <th>7021</th>\n      <td>ff66dec71c4c</td>\n      <td>3</td>\n      <td>2</td>\n      <td>5120</td>\n      <td>10752</td>\n    </tr>\n    <tr>\n      <th>7025</th>\n      <td>ff99cdef0f2a</td>\n      <td>4</td>\n      <td>2</td>\n      <td>5120</td>\n      <td>24064</td>\n    </tr>\n    <tr>\n      <th>7029</th>\n      <td>ffd3d193c71e</td>\n      <td>3</td>\n      <td>2</td>\n      <td>7680</td>\n      <td>16896</td>\n    </tr>\n  </tbody>\n</table>\n<p>1633 rows × 5 columns</p>\n</div>"
     },
     "execution_count": 13,
     "metadata": {},
     "output_type": "execute_result"
    }
   ],
   "source": [
    "supervised_tile_df = tile_df[tile_df[\"dataset\"] == 1]\n",
    "supervised_tile_df2 = tile_df[tile_df[\"dataset\"] == 2]\n",
    "supervised_tile_df3 = pd.concat([supervised_tile_df,supervised_tile_df2],axis=0) # 422 + 1211 = 1633 images\n",
    "supervised_tile_ids = supervised_tile_df3.id.tolist() #list of picture ids that are in dataset 1\n",
    "supervised_tile_df3"
   ],
   "metadata": {
    "collapsed": false
   }
  },
  {
   "cell_type": "code",
   "execution_count": 17,
   "outputs": [
    {
     "data": {
      "text/plain": "       Unnamed: 0            id          type  \\\n0               0  0006ff2aa7cd    glomerulus   \n1               1  0006ff2aa7cd  blood_vessel   \n2               2  0006ff2aa7cd  blood_vessel   \n3               3  0006ff2aa7cd  blood_vessel   \n4               4  0006ff2aa7cd  blood_vessel   \n...           ...           ...           ...   \n17513       17513  ffd3d193c71e  blood_vessel   \n17514       17514  ffd3d193c71e  blood_vessel   \n17515       17515  ffd3d193c71e  blood_vessel   \n17516       17516  ffd3d193c71e  blood_vessel   \n17517       17517  ffd3d193c71e  blood_vessel   \n\n                                             coordinates  \\\n0      [[[167, 249], [166, 249], [165, 249], [164, 24...   \n1      [[[283, 109], [282, 109], [281, 109], [280, 10...   \n2      [[[104, 292], [103, 292], [102, 292], [101, 29...   \n3      [[[505, 442], [504, 442], [503, 442], [502, 44...   \n4      [[[375, 477], [374, 477], [373, 477], [372, 47...   \n...                                                  ...   \n17513  [[[184, 308], [183, 308], [182, 308], [181, 30...   \n17514  [[[42, 92], [41, 92], [40, 92], [39, 92], [38,...   \n17515  [[[287, 480], [286, 480], [285, 480], [284, 48...   \n17516  [[[493, 388], [492, 388], [491, 388], [490, 38...   \n17517  [[[64, 15], [63, 15], [62, 15], [61, 15], [61,...   \n\n                                                    mask  \\\n0      [[0 1 1 ... 0 0 0]\\n [1 1 1 ... 0 0 0]\\n [1 1 ...   \n1      [[0 0 0 ... 0 0 0]\\n [0 0 0 ... 0 0 0]\\n [0 0 ...   \n2      [[0 0 0 ... 0 0 0]\\n [0 0 0 ... 0 0 0]\\n [0 0 ...   \n3      [[0 0 0 ... 0 0 0]\\n [0 0 0 ... 0 0 0]\\n [0 0 ...   \n4      [[0 0 0 ... 0 0 0]\\n [0 0 0 ... 0 0 0]\\n [0 0 ...   \n...                                                  ...   \n17513  [[0 0 0 ... 0 0 0]\\n [0 0 0 ... 0 0 0]\\n [0 0 ...   \n17514  [[0 0 0 ... 0 0 0]\\n [0 0 0 ... 0 0 0]\\n [0 0 ...   \n17515  [[0 0 0 ... 0 0 0]\\n [0 0 0 ... 0 0 0]\\n [0 0 ...   \n17516  [[0 0 0 ... 0 0 0]\\n [0 0 0 ... 0 0 0]\\n [0 0 ...   \n17517  [[0 0 0 ... 0 0 0]\\n [0 0 0 ... 0 0 0]\\n [0 0 ...   \n\n                                                     rle  \n0      ['2 105 513 107 1025 111 1537 113 2049 114 256...  \n1      ['139350 10 139860 17 140370 22 140880 27 1413...  \n2      ['37108 4 37618 8 38129 11 38640 14 39152 15 3...  \n3      ['250783 11 251292 20 251801 26 252311 30 2528...  \n4      ['167352 5 167863 7 168374 10 168886 11 169398...  \n...                                                  ...  \n17513  ['88875 8 89385 11 89896 13 90407 15 90918 16 ...  \n17514  ['14393 12 14904 20 15415 23 15925 28 16434 40...  \n17515  ['140243 6 140750 13 141261 15 141772 17 14228...  \n17516  ['244001 5 244512 7 244603 6 245023 9 245112 1...  \n17517  ['27652 5 28162 9 28673 12 29185 13 29697 14 3...  \n\n[17518 rows x 6 columns]",
      "text/html": "<div>\n<style scoped>\n    .dataframe tbody tr th:only-of-type {\n        vertical-align: middle;\n    }\n\n    .dataframe tbody tr th {\n        vertical-align: top;\n    }\n\n    .dataframe thead th {\n        text-align: right;\n    }\n</style>\n<table border=\"1\" class=\"dataframe\">\n  <thead>\n    <tr style=\"text-align: right;\">\n      <th></th>\n      <th>Unnamed: 0</th>\n      <th>id</th>\n      <th>type</th>\n      <th>coordinates</th>\n      <th>mask</th>\n      <th>rle</th>\n    </tr>\n  </thead>\n  <tbody>\n    <tr>\n      <th>0</th>\n      <td>0</td>\n      <td>0006ff2aa7cd</td>\n      <td>glomerulus</td>\n      <td>[[[167, 249], [166, 249], [165, 249], [164, 24...</td>\n      <td>[[0 1 1 ... 0 0 0]\\n [1 1 1 ... 0 0 0]\\n [1 1 ...</td>\n      <td>['2 105 513 107 1025 111 1537 113 2049 114 256...</td>\n    </tr>\n    <tr>\n      <th>1</th>\n      <td>1</td>\n      <td>0006ff2aa7cd</td>\n      <td>blood_vessel</td>\n      <td>[[[283, 109], [282, 109], [281, 109], [280, 10...</td>\n      <td>[[0 0 0 ... 0 0 0]\\n [0 0 0 ... 0 0 0]\\n [0 0 ...</td>\n      <td>['139350 10 139860 17 140370 22 140880 27 1413...</td>\n    </tr>\n    <tr>\n      <th>2</th>\n      <td>2</td>\n      <td>0006ff2aa7cd</td>\n      <td>blood_vessel</td>\n      <td>[[[104, 292], [103, 292], [102, 292], [101, 29...</td>\n      <td>[[0 0 0 ... 0 0 0]\\n [0 0 0 ... 0 0 0]\\n [0 0 ...</td>\n      <td>['37108 4 37618 8 38129 11 38640 14 39152 15 3...</td>\n    </tr>\n    <tr>\n      <th>3</th>\n      <td>3</td>\n      <td>0006ff2aa7cd</td>\n      <td>blood_vessel</td>\n      <td>[[[505, 442], [504, 442], [503, 442], [502, 44...</td>\n      <td>[[0 0 0 ... 0 0 0]\\n [0 0 0 ... 0 0 0]\\n [0 0 ...</td>\n      <td>['250783 11 251292 20 251801 26 252311 30 2528...</td>\n    </tr>\n    <tr>\n      <th>4</th>\n      <td>4</td>\n      <td>0006ff2aa7cd</td>\n      <td>blood_vessel</td>\n      <td>[[[375, 477], [374, 477], [373, 477], [372, 47...</td>\n      <td>[[0 0 0 ... 0 0 0]\\n [0 0 0 ... 0 0 0]\\n [0 0 ...</td>\n      <td>['167352 5 167863 7 168374 10 168886 11 169398...</td>\n    </tr>\n    <tr>\n      <th>...</th>\n      <td>...</td>\n      <td>...</td>\n      <td>...</td>\n      <td>...</td>\n      <td>...</td>\n      <td>...</td>\n    </tr>\n    <tr>\n      <th>17513</th>\n      <td>17513</td>\n      <td>ffd3d193c71e</td>\n      <td>blood_vessel</td>\n      <td>[[[184, 308], [183, 308], [182, 308], [181, 30...</td>\n      <td>[[0 0 0 ... 0 0 0]\\n [0 0 0 ... 0 0 0]\\n [0 0 ...</td>\n      <td>['88875 8 89385 11 89896 13 90407 15 90918 16 ...</td>\n    </tr>\n    <tr>\n      <th>17514</th>\n      <td>17514</td>\n      <td>ffd3d193c71e</td>\n      <td>blood_vessel</td>\n      <td>[[[42, 92], [41, 92], [40, 92], [39, 92], [38,...</td>\n      <td>[[0 0 0 ... 0 0 0]\\n [0 0 0 ... 0 0 0]\\n [0 0 ...</td>\n      <td>['14393 12 14904 20 15415 23 15925 28 16434 40...</td>\n    </tr>\n    <tr>\n      <th>17515</th>\n      <td>17515</td>\n      <td>ffd3d193c71e</td>\n      <td>blood_vessel</td>\n      <td>[[[287, 480], [286, 480], [285, 480], [284, 48...</td>\n      <td>[[0 0 0 ... 0 0 0]\\n [0 0 0 ... 0 0 0]\\n [0 0 ...</td>\n      <td>['140243 6 140750 13 141261 15 141772 17 14228...</td>\n    </tr>\n    <tr>\n      <th>17516</th>\n      <td>17516</td>\n      <td>ffd3d193c71e</td>\n      <td>blood_vessel</td>\n      <td>[[[493, 388], [492, 388], [491, 388], [490, 38...</td>\n      <td>[[0 0 0 ... 0 0 0]\\n [0 0 0 ... 0 0 0]\\n [0 0 ...</td>\n      <td>['244001 5 244512 7 244603 6 245023 9 245112 1...</td>\n    </tr>\n    <tr>\n      <th>17517</th>\n      <td>17517</td>\n      <td>ffd3d193c71e</td>\n      <td>blood_vessel</td>\n      <td>[[[64, 15], [63, 15], [62, 15], [61, 15], [61,...</td>\n      <td>[[0 0 0 ... 0 0 0]\\n [0 0 0 ... 0 0 0]\\n [0 0 ...</td>\n      <td>['27652 5 28162 9 28673 12 29185 13 29697 14 3...</td>\n    </tr>\n  </tbody>\n</table>\n<p>17518 rows × 6 columns</p>\n</div>"
     },
     "execution_count": 17,
     "metadata": {},
     "output_type": "execute_result"
    }
   ],
   "source": [
    "supervised_filtered_tile_df = tmp_df[tmp_df['id'].isin(supervised_tile_ids)]\n",
    "supervised_filtered_tile_df = supervised_filtered_tile_df.reset_index(drop=True)\n",
    "supervised_filtered_tile_df"
   ],
   "metadata": {
    "collapsed": false
   }
  },
  {
   "cell_type": "code",
   "execution_count": 18,
   "outputs": [
    {
     "name": "stdout",
     "output_type": "stream",
     "text": [
      "(array(['blood_vessel', 'glomerulus', 'unsure'], dtype='<U12'), array([16054,   567,   897], dtype=int64))\n"
     ]
    }
   ],
   "source": [
    "types = supervised_filtered_tile_df.type.tolist()\n",
    "print(np.unique(types,return_counts=True))"
   ],
   "metadata": {
    "collapsed": false
   }
  },
  {
   "cell_type": "code",
   "execution_count": 22,
   "outputs": [
    {
     "data": {
      "text/plain": "       Unnamed: 0            id          type  \\\n0               0  0006ff2aa7cd    glomerulus   \n1               1  0006ff2aa7cd  blood_vessel   \n2               2  0006ff2aa7cd  blood_vessel   \n3               3  0006ff2aa7cd  blood_vessel   \n4               4  0006ff2aa7cd  blood_vessel   \n...           ...           ...           ...   \n17513       17513  ffd3d193c71e  blood_vessel   \n17514       17514  ffd3d193c71e  blood_vessel   \n17515       17515  ffd3d193c71e  blood_vessel   \n17516       17516  ffd3d193c71e  blood_vessel   \n17517       17517  ffd3d193c71e  blood_vessel   \n\n                                             coordinates  \\\n0      [[[167, 249], [166, 249], [165, 249], [164, 24...   \n1      [[[283, 109], [282, 109], [281, 109], [280, 10...   \n2      [[[104, 292], [103, 292], [102, 292], [101, 29...   \n3      [[[505, 442], [504, 442], [503, 442], [502, 44...   \n4      [[[375, 477], [374, 477], [373, 477], [372, 47...   \n...                                                  ...   \n17513  [[[184, 308], [183, 308], [182, 308], [181, 30...   \n17514  [[[42, 92], [41, 92], [40, 92], [39, 92], [38,...   \n17515  [[[287, 480], [286, 480], [285, 480], [284, 48...   \n17516  [[[493, 388], [492, 388], [491, 388], [490, 38...   \n17517  [[[64, 15], [63, 15], [62, 15], [61, 15], [61,...   \n\n                                                    mask  \\\n0      [[0 1 1 ... 0 0 0]\\n [1 1 1 ... 0 0 0]\\n [1 1 ...   \n1      [[0 0 0 ... 0 0 0]\\n [0 0 0 ... 0 0 0]\\n [0 0 ...   \n2      [[0 0 0 ... 0 0 0]\\n [0 0 0 ... 0 0 0]\\n [0 0 ...   \n3      [[0 0 0 ... 0 0 0]\\n [0 0 0 ... 0 0 0]\\n [0 0 ...   \n4      [[0 0 0 ... 0 0 0]\\n [0 0 0 ... 0 0 0]\\n [0 0 ...   \n...                                                  ...   \n17513  [[0 0 0 ... 0 0 0]\\n [0 0 0 ... 0 0 0]\\n [0 0 ...   \n17514  [[0 0 0 ... 0 0 0]\\n [0 0 0 ... 0 0 0]\\n [0 0 ...   \n17515  [[0 0 0 ... 0 0 0]\\n [0 0 0 ... 0 0 0]\\n [0 0 ...   \n17516  [[0 0 0 ... 0 0 0]\\n [0 0 0 ... 0 0 0]\\n [0 0 ...   \n17517  [[0 0 0 ... 0 0 0]\\n [0 0 0 ... 0 0 0]\\n [0 0 ...   \n\n                                                     rle  source_wsi      i  \\\n0      ['2 105 513 107 1025 111 1537 113 2049 114 256...           2  16896   \n1      ['139350 10 139860 17 140370 22 140880 27 1413...           2  16896   \n2      ['37108 4 37618 8 38129 11 38640 14 39152 15 3...           2  16896   \n3      ['250783 11 251292 20 251801 26 252311 30 2528...           2  16896   \n4      ['167352 5 167863 7 168374 10 168886 11 169398...           2  16896   \n...                                                  ...         ...    ...   \n17513  ['88875 8 89385 11 89896 13 90407 15 90918 16 ...           3   7680   \n17514  ['14393 12 14904 20 15415 23 15925 28 16434 40...           3   7680   \n17515  ['140243 6 140750 13 141261 15 141772 17 14228...           3   7680   \n17516  ['244001 5 244512 7 244603 6 245023 9 245112 1...           3   7680   \n17517  ['27652 5 28162 9 28673 12 29185 13 29697 14 3...           3   7680   \n\n           j  \n0      16420  \n1      16420  \n2      16420  \n3      16420  \n4      16420  \n...      ...  \n17513  16896  \n17514  16896  \n17515  16896  \n17516  16896  \n17517  16896  \n\n[17518 rows x 9 columns]",
      "text/html": "<div>\n<style scoped>\n    .dataframe tbody tr th:only-of-type {\n        vertical-align: middle;\n    }\n\n    .dataframe tbody tr th {\n        vertical-align: top;\n    }\n\n    .dataframe thead th {\n        text-align: right;\n    }\n</style>\n<table border=\"1\" class=\"dataframe\">\n  <thead>\n    <tr style=\"text-align: right;\">\n      <th></th>\n      <th>Unnamed: 0</th>\n      <th>id</th>\n      <th>type</th>\n      <th>coordinates</th>\n      <th>mask</th>\n      <th>rle</th>\n      <th>source_wsi</th>\n      <th>i</th>\n      <th>j</th>\n    </tr>\n  </thead>\n  <tbody>\n    <tr>\n      <th>0</th>\n      <td>0</td>\n      <td>0006ff2aa7cd</td>\n      <td>glomerulus</td>\n      <td>[[[167, 249], [166, 249], [165, 249], [164, 24...</td>\n      <td>[[0 1 1 ... 0 0 0]\\n [1 1 1 ... 0 0 0]\\n [1 1 ...</td>\n      <td>['2 105 513 107 1025 111 1537 113 2049 114 256...</td>\n      <td>2</td>\n      <td>16896</td>\n      <td>16420</td>\n    </tr>\n    <tr>\n      <th>1</th>\n      <td>1</td>\n      <td>0006ff2aa7cd</td>\n      <td>blood_vessel</td>\n      <td>[[[283, 109], [282, 109], [281, 109], [280, 10...</td>\n      <td>[[0 0 0 ... 0 0 0]\\n [0 0 0 ... 0 0 0]\\n [0 0 ...</td>\n      <td>['139350 10 139860 17 140370 22 140880 27 1413...</td>\n      <td>2</td>\n      <td>16896</td>\n      <td>16420</td>\n    </tr>\n    <tr>\n      <th>2</th>\n      <td>2</td>\n      <td>0006ff2aa7cd</td>\n      <td>blood_vessel</td>\n      <td>[[[104, 292], [103, 292], [102, 292], [101, 29...</td>\n      <td>[[0 0 0 ... 0 0 0]\\n [0 0 0 ... 0 0 0]\\n [0 0 ...</td>\n      <td>['37108 4 37618 8 38129 11 38640 14 39152 15 3...</td>\n      <td>2</td>\n      <td>16896</td>\n      <td>16420</td>\n    </tr>\n    <tr>\n      <th>3</th>\n      <td>3</td>\n      <td>0006ff2aa7cd</td>\n      <td>blood_vessel</td>\n      <td>[[[505, 442], [504, 442], [503, 442], [502, 44...</td>\n      <td>[[0 0 0 ... 0 0 0]\\n [0 0 0 ... 0 0 0]\\n [0 0 ...</td>\n      <td>['250783 11 251292 20 251801 26 252311 30 2528...</td>\n      <td>2</td>\n      <td>16896</td>\n      <td>16420</td>\n    </tr>\n    <tr>\n      <th>4</th>\n      <td>4</td>\n      <td>0006ff2aa7cd</td>\n      <td>blood_vessel</td>\n      <td>[[[375, 477], [374, 477], [373, 477], [372, 47...</td>\n      <td>[[0 0 0 ... 0 0 0]\\n [0 0 0 ... 0 0 0]\\n [0 0 ...</td>\n      <td>['167352 5 167863 7 168374 10 168886 11 169398...</td>\n      <td>2</td>\n      <td>16896</td>\n      <td>16420</td>\n    </tr>\n    <tr>\n      <th>...</th>\n      <td>...</td>\n      <td>...</td>\n      <td>...</td>\n      <td>...</td>\n      <td>...</td>\n      <td>...</td>\n      <td>...</td>\n      <td>...</td>\n      <td>...</td>\n    </tr>\n    <tr>\n      <th>17513</th>\n      <td>17513</td>\n      <td>ffd3d193c71e</td>\n      <td>blood_vessel</td>\n      <td>[[[184, 308], [183, 308], [182, 308], [181, 30...</td>\n      <td>[[0 0 0 ... 0 0 0]\\n [0 0 0 ... 0 0 0]\\n [0 0 ...</td>\n      <td>['88875 8 89385 11 89896 13 90407 15 90918 16 ...</td>\n      <td>3</td>\n      <td>7680</td>\n      <td>16896</td>\n    </tr>\n    <tr>\n      <th>17514</th>\n      <td>17514</td>\n      <td>ffd3d193c71e</td>\n      <td>blood_vessel</td>\n      <td>[[[42, 92], [41, 92], [40, 92], [39, 92], [38,...</td>\n      <td>[[0 0 0 ... 0 0 0]\\n [0 0 0 ... 0 0 0]\\n [0 0 ...</td>\n      <td>['14393 12 14904 20 15415 23 15925 28 16434 40...</td>\n      <td>3</td>\n      <td>7680</td>\n      <td>16896</td>\n    </tr>\n    <tr>\n      <th>17515</th>\n      <td>17515</td>\n      <td>ffd3d193c71e</td>\n      <td>blood_vessel</td>\n      <td>[[[287, 480], [286, 480], [285, 480], [284, 48...</td>\n      <td>[[0 0 0 ... 0 0 0]\\n [0 0 0 ... 0 0 0]\\n [0 0 ...</td>\n      <td>['140243 6 140750 13 141261 15 141772 17 14228...</td>\n      <td>3</td>\n      <td>7680</td>\n      <td>16896</td>\n    </tr>\n    <tr>\n      <th>17516</th>\n      <td>17516</td>\n      <td>ffd3d193c71e</td>\n      <td>blood_vessel</td>\n      <td>[[[493, 388], [492, 388], [491, 388], [490, 38...</td>\n      <td>[[0 0 0 ... 0 0 0]\\n [0 0 0 ... 0 0 0]\\n [0 0 ...</td>\n      <td>['244001 5 244512 7 244603 6 245023 9 245112 1...</td>\n      <td>3</td>\n      <td>7680</td>\n      <td>16896</td>\n    </tr>\n    <tr>\n      <th>17517</th>\n      <td>17517</td>\n      <td>ffd3d193c71e</td>\n      <td>blood_vessel</td>\n      <td>[[[64, 15], [63, 15], [62, 15], [61, 15], [61,...</td>\n      <td>[[0 0 0 ... 0 0 0]\\n [0 0 0 ... 0 0 0]\\n [0 0 ...</td>\n      <td>['27652 5 28162 9 28673 12 29185 13 29697 14 3...</td>\n      <td>3</td>\n      <td>7680</td>\n      <td>16896</td>\n    </tr>\n  </tbody>\n</table>\n<p>17518 rows × 9 columns</p>\n</div>"
     },
     "execution_count": 22,
     "metadata": {},
     "output_type": "execute_result"
    }
   ],
   "source": [
    "# now let's just add some extra info from the tile meta, such as source_wsi, i, j, and full image path of the source dataset.\n",
    "mapping = supervised_tile_df3.set_index('id')[['source_wsi', 'i', 'j']].to_dict(orient='index')\n",
    "\n",
    "# Assign the values from dataframe A to dataframe B based on the 'id' column\n",
    "supervised_filtered_tile_df[['source_wsi', 'i', 'j']] = supervised_filtered_tile_df['id'].map(mapping).apply(pd.Series)\n",
    "supervised_filtered_tile_df"
   ],
   "metadata": {
    "collapsed": false
   }
  },
  {
   "cell_type": "code",
   "execution_count": 25,
   "outputs": [
    {
     "data": {
      "text/plain": "(array(['blood_vessel', 'glomerulus', 'unsure'], dtype=object),\n array([16054,   567,   897], dtype=int64))"
     },
     "execution_count": 25,
     "metadata": {},
     "output_type": "execute_result"
    }
   ],
   "source": [
    "np.unique(supervised_filtered_tile_df.type,return_counts=True)"
   ],
   "metadata": {
    "collapsed": false
   }
  },
  {
   "cell_type": "code",
   "execution_count": 28,
   "outputs": [
    {
     "data": {
      "text/plain": "1622"
     },
     "execution_count": 28,
     "metadata": {},
     "output_type": "execute_result"
    }
   ],
   "source": [
    "### Total of 16054 bv annotations and 567 glomerulus annotations!\n",
    "\n",
    "final_df = supervised_filtered_tile_df[supervised_filtered_tile_df[\"type\"] == \"blood_vessel\"]\n",
    "final_df2 = supervised_filtered_tile_df[supervised_filtered_tile_df[\"type\"] == \"glomerulus\"]\n",
    "final_df3 = pd.concat([final_df,final_df2],axis=0)\n",
    "final_df3 = final_df3.reset_index(drop=True)\n",
    "final_df3  # these are all from dataset 1.\n",
    "\n",
    "save_final_df = False #already saved\n",
    "if save_final_df:\n",
    "    save_src = r\"\\\\fatherserverdw\\Kevin\\hubmap\\obj_detect_bv_glo.xlsx\"\n",
    "    final_df3.to_excel(save_src)\n",
    "ids = final_df3.id.tolist()\n",
    "len(np.unique(ids))  #1622 unique images with blood vessel + glomerulus annotations"
   ],
   "metadata": {
    "collapsed": false
   }
  },
  {
   "cell_type": "code",
   "execution_count": null,
   "outputs": [],
   "source": [],
   "metadata": {
    "collapsed": false
   }
  }
 ],
 "metadata": {
  "kernelspec": {
   "display_name": "Python 3",
   "language": "python",
   "name": "python3"
  },
  "language_info": {
   "codemirror_mode": {
    "name": "ipython",
    "version": 2
   },
   "file_extension": ".py",
   "mimetype": "text/x-python",
   "name": "python",
   "nbconvert_exporter": "python",
   "pygments_lexer": "ipython2",
   "version": "2.7.6"
  }
 },
 "nbformat": 4,
 "nbformat_minor": 0
}
