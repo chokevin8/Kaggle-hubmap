{
 "cells": [
  {
   "cell_type": "markdown",
   "source": [],
   "metadata": {
    "collapsed": false
   }
  },
  {
   "cell_type": "markdown",
   "source": [
    "### This notebook is to simply grab all tiles from each WSI and to visualize them to see how they look like. Since each tiles are 10x magnification 512 by 512 tiles, stitching them to a full WSI size will result in a huge image. However, we also don't want to sacrifice resolution, and thankfully we can stitch them by using ometiff extension and we can visualize them by opening it in QuPath."
   ],
   "metadata": {
    "collapsed": false
   }
  },
  {
   "cell_type": "code",
   "execution_count": 39,
   "metadata": {
    "collapsed": true
   },
   "outputs": [],
   "source": [
    "import pandas as pd\n",
    "import os\n",
    "vipshome = r'C:\\Users\\Kevin\\Documents\\vips-dev-8.14\\bin' #download libvips for windows, this is the bin path\n",
    "os.environ['PATH'] = vipshome + ';' + os.environ['PATH']\n",
    "import pyvips\n",
    "import numpy as np\n",
    "from PIL import Image\n",
    "Image.MAX_IMAGE_PIXELS = None\n",
    "import time\n",
    "from tqdm import tqdm"
   ]
  },
  {
   "cell_type": "code",
   "execution_count": 40,
   "outputs": [
    {
     "data": {
      "text/plain": "                id  source_wsi  dataset      i      j\n0     0006ff2aa7cd           2        2  16896  16420\n1     000e79e206b7           6        3  10240  29184\n2     00168d1b7522           2        2  14848  14884\n3     00176a88fdb0           7        3  14848  25088\n4     0033bbc76b6b           1        1  10240  43008\n...            ...         ...      ...    ...    ...\n7028  ffd37b5c6598          13        3  13824  21504\n7029  ffd3d193c71e           3        2   7680  16896\n7030  ffd77e2517af          13        3  15872  28160\n7031  ffe3cbb81f72          10        3  15456  23000\n7032  ffe40e3bc324           9        3  13824  19456\n\n[7033 rows x 5 columns]",
      "text/html": "<div>\n<style scoped>\n    .dataframe tbody tr th:only-of-type {\n        vertical-align: middle;\n    }\n\n    .dataframe tbody tr th {\n        vertical-align: top;\n    }\n\n    .dataframe thead th {\n        text-align: right;\n    }\n</style>\n<table border=\"1\" class=\"dataframe\">\n  <thead>\n    <tr style=\"text-align: right;\">\n      <th></th>\n      <th>id</th>\n      <th>source_wsi</th>\n      <th>dataset</th>\n      <th>i</th>\n      <th>j</th>\n    </tr>\n  </thead>\n  <tbody>\n    <tr>\n      <th>0</th>\n      <td>0006ff2aa7cd</td>\n      <td>2</td>\n      <td>2</td>\n      <td>16896</td>\n      <td>16420</td>\n    </tr>\n    <tr>\n      <th>1</th>\n      <td>000e79e206b7</td>\n      <td>6</td>\n      <td>3</td>\n      <td>10240</td>\n      <td>29184</td>\n    </tr>\n    <tr>\n      <th>2</th>\n      <td>00168d1b7522</td>\n      <td>2</td>\n      <td>2</td>\n      <td>14848</td>\n      <td>14884</td>\n    </tr>\n    <tr>\n      <th>3</th>\n      <td>00176a88fdb0</td>\n      <td>7</td>\n      <td>3</td>\n      <td>14848</td>\n      <td>25088</td>\n    </tr>\n    <tr>\n      <th>4</th>\n      <td>0033bbc76b6b</td>\n      <td>1</td>\n      <td>1</td>\n      <td>10240</td>\n      <td>43008</td>\n    </tr>\n    <tr>\n      <th>...</th>\n      <td>...</td>\n      <td>...</td>\n      <td>...</td>\n      <td>...</td>\n      <td>...</td>\n    </tr>\n    <tr>\n      <th>7028</th>\n      <td>ffd37b5c6598</td>\n      <td>13</td>\n      <td>3</td>\n      <td>13824</td>\n      <td>21504</td>\n    </tr>\n    <tr>\n      <th>7029</th>\n      <td>ffd3d193c71e</td>\n      <td>3</td>\n      <td>2</td>\n      <td>7680</td>\n      <td>16896</td>\n    </tr>\n    <tr>\n      <th>7030</th>\n      <td>ffd77e2517af</td>\n      <td>13</td>\n      <td>3</td>\n      <td>15872</td>\n      <td>28160</td>\n    </tr>\n    <tr>\n      <th>7031</th>\n      <td>ffe3cbb81f72</td>\n      <td>10</td>\n      <td>3</td>\n      <td>15456</td>\n      <td>23000</td>\n    </tr>\n    <tr>\n      <th>7032</th>\n      <td>ffe40e3bc324</td>\n      <td>9</td>\n      <td>3</td>\n      <td>13824</td>\n      <td>19456</td>\n    </tr>\n  </tbody>\n</table>\n<p>7033 rows × 5 columns</p>\n</div>"
     },
     "execution_count": 40,
     "metadata": {},
     "output_type": "execute_result"
    }
   ],
   "source": [
    "#metadata of each tile\n",
    "tile_meta_df = pd.read_csv(r\"\\\\fatherserverdw\\Kevin\\hubmap\\tile_meta.csv\")\n",
    "tile_meta_df"
   ],
   "metadata": {
    "collapsed": false
   }
  },
  {
   "cell_type": "code",
   "execution_count": 41,
   "outputs": [
    {
     "data": {
      "text/plain": "                id  source_wsi  dataset      i      j\n2200  4e455f0cb054           1        2   1536  41984\n2391  5631a47d5b0c           1        1   1536  42496\n1337  2fd7649afbc1           1        1   1536  43008\n3939  8e90e6189c6b           1        1   2048  38912\n3780  88c95fb9fb14           1        1   2048  39424\n...            ...         ...      ...    ...    ...\n704   189064c6a137           1        2  17920  10240\n6757  f53f64d220e3           1        2  17920  10752\n352   0bc3e1a729e4           1        2  18432   9728\n4253  99ddcf7fb9a3           1        2  18432  10240\n3166  7292fe2d34d6           1        2  18432  10752\n\n[507 rows x 5 columns]",
      "text/html": "<div>\n<style scoped>\n    .dataframe tbody tr th:only-of-type {\n        vertical-align: middle;\n    }\n\n    .dataframe tbody tr th {\n        vertical-align: top;\n    }\n\n    .dataframe thead th {\n        text-align: right;\n    }\n</style>\n<table border=\"1\" class=\"dataframe\">\n  <thead>\n    <tr style=\"text-align: right;\">\n      <th></th>\n      <th>id</th>\n      <th>source_wsi</th>\n      <th>dataset</th>\n      <th>i</th>\n      <th>j</th>\n    </tr>\n  </thead>\n  <tbody>\n    <tr>\n      <th>2200</th>\n      <td>4e455f0cb054</td>\n      <td>1</td>\n      <td>2</td>\n      <td>1536</td>\n      <td>41984</td>\n    </tr>\n    <tr>\n      <th>2391</th>\n      <td>5631a47d5b0c</td>\n      <td>1</td>\n      <td>1</td>\n      <td>1536</td>\n      <td>42496</td>\n    </tr>\n    <tr>\n      <th>1337</th>\n      <td>2fd7649afbc1</td>\n      <td>1</td>\n      <td>1</td>\n      <td>1536</td>\n      <td>43008</td>\n    </tr>\n    <tr>\n      <th>3939</th>\n      <td>8e90e6189c6b</td>\n      <td>1</td>\n      <td>1</td>\n      <td>2048</td>\n      <td>38912</td>\n    </tr>\n    <tr>\n      <th>3780</th>\n      <td>88c95fb9fb14</td>\n      <td>1</td>\n      <td>1</td>\n      <td>2048</td>\n      <td>39424</td>\n    </tr>\n    <tr>\n      <th>...</th>\n      <td>...</td>\n      <td>...</td>\n      <td>...</td>\n      <td>...</td>\n      <td>...</td>\n    </tr>\n    <tr>\n      <th>704</th>\n      <td>189064c6a137</td>\n      <td>1</td>\n      <td>2</td>\n      <td>17920</td>\n      <td>10240</td>\n    </tr>\n    <tr>\n      <th>6757</th>\n      <td>f53f64d220e3</td>\n      <td>1</td>\n      <td>2</td>\n      <td>17920</td>\n      <td>10752</td>\n    </tr>\n    <tr>\n      <th>352</th>\n      <td>0bc3e1a729e4</td>\n      <td>1</td>\n      <td>2</td>\n      <td>18432</td>\n      <td>9728</td>\n    </tr>\n    <tr>\n      <th>4253</th>\n      <td>99ddcf7fb9a3</td>\n      <td>1</td>\n      <td>2</td>\n      <td>18432</td>\n      <td>10240</td>\n    </tr>\n    <tr>\n      <th>3166</th>\n      <td>7292fe2d34d6</td>\n      <td>1</td>\n      <td>2</td>\n      <td>18432</td>\n      <td>10752</td>\n    </tr>\n  </tbody>\n</table>\n<p>507 rows × 5 columns</p>\n</div>"
     },
     "execution_count": 41,
     "metadata": {},
     "output_type": "execute_result"
    }
   ],
   "source": [
    "#group by wsi, let's try visualizing WSI number 1 in this case.\n",
    "wsi_df = tile_meta_df[tile_meta_df[\"source_wsi\"] == 1]\n",
    "wsi_df = wsi_df.sort_values(by=['i', 'j'])\n",
    "wsi_df"
   ],
   "metadata": {
    "collapsed": false
   }
  },
  {
   "cell_type": "code",
   "execution_count": 42,
   "outputs": [],
   "source": [
    "#gather all x and y coordinates in xlist and ylist\n",
    "max_x = wsi_df['i'].max()\n",
    "max_y = wsi_df['j'].max()\n",
    "image_src = r\"\\\\fatherserverdw\\Kevin\\hubmap\\train\"\n",
    "image_paths = []\n",
    "xlist = []\n",
    "ylist = []\n",
    "for index, row in wsi_df.iterrows():\n",
    "    image_path = os.path.join(image_src, row['id']+ \".tif\")\n",
    "    x_coor = row[\"i\"]\n",
    "    y_coor = row[\"j\"]\n",
    "    image_paths.append(image_path)\n",
    "    xlist.append(x_coor)\n",
    "    ylist.append(y_coor)"
   ],
   "metadata": {
    "collapsed": false
   }
  },
  {
   "cell_type": "code",
   "execution_count": 43,
   "outputs": [],
   "source": [
    "def stitch_tiles_to_ometiff(imlist,xlist,ylist,ometiff_save_dir,ometiff_name):\n",
    "    \"\"\"\n",
    "    :param imlist: list of all image paths\n",
    "    :param xlist: list of all x coords gathered above\n",
    "    :param ylist: list of all y coords gathered above\n",
    "    :param ometiff_save_dir: save directory for final stitched ometiff image\n",
    "    :param ometiff_name: name for the final stitched ometiff image\n",
    "    :return: saves stitched WSI ometiff to desired directory\n",
    "    \"\"\"\n",
    "    min_x = float('inf')\n",
    "    min_y = float('inf')\n",
    "    max_x = float('-inf')\n",
    "    max_y = float('-inf')\n",
    "    start = time.time()\n",
    "    print(\"counting number of rows and columns to stitch\")\n",
    "    for idx, filename in enumerate(imlist):\n",
    "        x = int(xlist[idx])\n",
    "        y = int(ylist[idx])\n",
    "        if x < min_x:\n",
    "            min_x = x\n",
    "        if y < min_y:\n",
    "            min_y = y\n",
    "        if x > max_x:\n",
    "            max_x = x\n",
    "        if y > max_y:\n",
    "            max_y = y\n",
    "    num_row = int((max_x + 512 - min_x)/512)\n",
    "    num_col = int((max_y + 512 - min_y)/512)\n",
    "    array_5d = np.zeros((num_col,num_row, 512, 512, 3), dtype=np.uint8)\n",
    "    print(\"stitching images\")\n",
    "    for idx, filename in tqdm(enumerate(imlist), desc=\"Number of images processed\", colour = 'red'):\n",
    "        x = int(xlist[idx])\n",
    "        y = int(ylist[idx])\n",
    "        x = int((x-min_x)/512)\n",
    "        y = int((y-min_y)/512)\n",
    "        image = Image.open(filename)\n",
    "        image = np.array(image)\n",
    "        array_5d[y,x, :, :, :] = image\n",
    "    stitched_wsi = np.reshape(array_5d.swapaxes(1,2),(512*num_col,512*num_row,3))\n",
    "    print(\"shape of reconstructed wsi is {}\".format(stitched_wsi.shape))\n",
    "    end = time.time()\n",
    "    print(\"time it took to create reconstructed wsi is: {} minutes\".format((round(end-start)/60),3))\n",
    "    print(\"--- saving as ometiff ---\")\n",
    "    start = time.time()\n",
    "    im = pyvips.Image.new_from_array(stitched_wsi)\n",
    "    image_height = im.height\n",
    "    image_bands = im.bands\n",
    "    im = im.copy()\n",
    "    im.set_type(pyvips.GValue.gint_type, \"page-height\", image_height)\n",
    "    im.set_type(pyvips.GValue.gstr_type, \"image-description\",\n",
    "                f\"\"\"<?xml version=\"1.0\" encoding=\"UTF-8\"?>\n",
    "    <OME xmlns=\"http://www.openmicroscopy.org/Schemas/OME/2016-06\"\n",
    "        xmlns:xsi=\"http://www.w3.org/2001/XMLSchema-instance\"\n",
    "        xsi:schemaLocation=\"http://www.openmicroscopy.org/Schemas/OME/2016-06 http://www.openmicroscopy.org/Schemas/OME/2016-06/ome.xsd\">\n",
    "        <Image ID=\"Image:0\">\n",
    "            <!-- Minimum required fields about image dimensions -->\n",
    "            <Pixels DimensionOrder=\"XYCZT\"\n",
    "                    ID=\"Pixels:0\"\n",
    "                    SizeC=\"{image_bands}\"\n",
    "                    SizeT=\"1\"\n",
    "                    SizeX=\"{im.width}\"\n",
    "                    SizeY=\"{image_height}\"\n",
    "                    SizeZ=\"1\"\n",
    "                    Type=\"uint8\">\n",
    "            </Pixels>\n",
    "        </Image>\n",
    "    </OME>\"\"\")\n",
    "\n",
    "    im.tiffsave(os.path.join(ometiff_save_dir, ometiff_name), compression=\"jpeg\", tile=True, tile_width=512,\n",
    "                tile_height=512, pyramid=True, subifd=True)\n",
    "    end = time.time()\n",
    "    print(\"time it took to save ometiff took {} minutes\".format((round(end-start)/60),3))\n",
    "    print(\"ometiff saved successfully!\")"
   ],
   "metadata": {
    "collapsed": false
   }
  },
  {
   "cell_type": "code",
   "execution_count": 44,
   "outputs": [
    {
     "name": "stdout",
     "output_type": "stream",
     "text": [
      "counting number of rows and columns to stitch\n",
      "stitching images\n"
     ]
    },
    {
     "name": "stderr",
     "output_type": "stream",
     "text": [
      "Number of images processed: 507it [02:46,  3.05it/s]\n"
     ]
    },
    {
     "name": "stdout",
     "output_type": "stream",
     "text": [
      "shape of reconstructed wsi is (44544, 17408, 3)\n",
      "time it took to create reconstructed wsi is: 2.8 minutes\n",
      "--- saving as ometiff ---\n",
      "time it took to save ometiff took 0.48333333333333334 minutes\n",
      "ometiff saved successfully!\n"
     ]
    }
   ],
   "source": [
    "stitch_tiles_to_ometiff(imlist = image_paths, xlist = xlist, ylist = ylist,ometiff_save_dir = r'\\\\fatherserverdw\\Kevin\\hubmap',ometiff_name = 'wsi_1.ome.tiff')# os.path.join ometiff_save_dir, ometiff_name = full save path"
   ],
   "metadata": {
    "collapsed": false
   }
  }
 ],
 "metadata": {
  "kernelspec": {
   "display_name": "Python 3",
   "language": "python",
   "name": "python3"
  },
  "language_info": {
   "codemirror_mode": {
    "name": "ipython",
    "version": 2
   },
   "file_extension": ".py",
   "mimetype": "text/x-python",
   "name": "python",
   "nbconvert_exporter": "python",
   "pygments_lexer": "ipython2",
   "version": "2.7.6"
  }
 },
 "nbformat": 4,
 "nbformat_minor": 0
}
