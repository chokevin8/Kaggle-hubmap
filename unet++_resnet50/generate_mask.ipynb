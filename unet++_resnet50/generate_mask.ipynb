{
 "cells": [
  {
   "cell_type": "code",
   "execution_count": 2,
   "outputs": [],
   "source": [
    "import pandas as pd\n",
    "import cv2\n",
    "import numpy as np\n",
    "import os\n",
    "import re\n",
    "import ast\n",
    "import matplotlib.pyplot as plt\n",
    "from tqdm import tqdm\n",
    "from PIL import Image"
   ],
   "metadata": {
    "collapsed": false
   }
  },
  {
   "cell_type": "code",
   "execution_count": 2,
   "metadata": {
    "collapsed": true
   },
   "outputs": [],
   "source": [
    "# so I would like to generate a binary mask for blood vessel and glomerulus separately.\n",
    "# the combined bv and glo annotations and mask is already saved in obj_detect_bv_glo.xlsx\n",
    "# generate bv_mask and glo.\n",
    "annotations_df_src = r\"\\\\fatherserverdw\\Kevin\\hubmap\\obj_detect_bv_glo.xlsx\"\n",
    "annotations_df = pd.read_excel(annotations_df_src)"
   ]
  },
  {
   "cell_type": "code",
   "execution_count": 3,
   "outputs": [
    {
     "data": {
      "text/plain": "       Unnamed: 0            id          type  \\\n0               0  0006ff2aa7cd  blood_vessel   \n1               1  0006ff2aa7cd  blood_vessel   \n2               2  0006ff2aa7cd  blood_vessel   \n3               3  0006ff2aa7cd  blood_vessel   \n4               4  0006ff2aa7cd  blood_vessel   \n...           ...           ...           ...   \n16049       16049  ffd3d193c71e  blood_vessel   \n16050       16050  ffd3d193c71e  blood_vessel   \n16051       16051  ffd3d193c71e  blood_vessel   \n16052       16052  ffd3d193c71e  blood_vessel   \n16053       16053  ffd3d193c71e  blood_vessel   \n\n                                             coordinates  \\\n0      [[[283, 109], [282, 109], [281, 109], [280, 10...   \n1      [[[104, 292], [103, 292], [102, 292], [101, 29...   \n2      [[[505, 442], [504, 442], [503, 442], [502, 44...   \n3      [[[375, 477], [374, 477], [373, 477], [372, 47...   \n4      [[[368, 410], [367, 410], [366, 410], [365, 41...   \n...                                                  ...   \n16049  [[[184, 308], [183, 308], [182, 308], [181, 30...   \n16050  [[[42, 92], [41, 92], [40, 92], [39, 92], [38,...   \n16051  [[[287, 480], [286, 480], [285, 480], [284, 48...   \n16052  [[[493, 388], [492, 388], [491, 388], [490, 38...   \n16053  [[[64, 15], [63, 15], [62, 15], [61, 15], [61,...   \n\n                                                    mask  \\\n0      [[0 0 0 ... 0 0 0]\\n [0 0 0 ... 0 0 0]\\n [0 0 ...   \n1      [[0 0 0 ... 0 0 0]\\n [0 0 0 ... 0 0 0]\\n [0 0 ...   \n2      [[0 0 0 ... 0 0 0]\\n [0 0 0 ... 0 0 0]\\n [0 0 ...   \n3      [[0 0 0 ... 0 0 0]\\n [0 0 0 ... 0 0 0]\\n [0 0 ...   \n4      [[0 0 0 ... 0 0 0]\\n [0 0 0 ... 0 0 0]\\n [0 0 ...   \n...                                                  ...   \n16049  [[0 0 0 ... 0 0 0]\\n [0 0 0 ... 0 0 0]\\n [0 0 ...   \n16050  [[0 0 0 ... 0 0 0]\\n [0 0 0 ... 0 0 0]\\n [0 0 ...   \n16051  [[0 0 0 ... 0 0 0]\\n [0 0 0 ... 0 0 0]\\n [0 0 ...   \n16052  [[0 0 0 ... 0 0 0]\\n [0 0 0 ... 0 0 0]\\n [0 0 ...   \n16053  [[0 0 0 ... 0 0 0]\\n [0 0 0 ... 0 0 0]\\n [0 0 ...   \n\n                                                     rle  source_wsi      i  \\\n0      ['139350 10 139860 17 140370 22 140880 27 1413...           2  16896   \n1      ['37108 4 37618 8 38129 11 38640 14 39152 15 3...           2  16896   \n2      ['250783 11 251292 20 251801 26 252311 30 2528...           2  16896   \n3      ['167352 5 167863 7 168374 10 168886 11 169398...           2  16896   \n4      ['171880 10 172389 18 172899 24 173410 28 1739...           2  16896   \n...                                                  ...         ...    ...   \n16049  ['88875 8 89385 11 89896 13 90407 15 90918 16 ...           3   7680   \n16050  ['14393 12 14904 20 15415 23 15925 28 16434 40...           3   7680   \n16051  ['140243 6 140750 13 141261 15 141772 17 14228...           3   7680   \n16052  ['244001 5 244512 7 244603 6 245023 9 245112 1...           3   7680   \n16053  ['27652 5 28162 9 28673 12 29185 13 29697 14 3...           3   7680   \n\n           j  \n0      16420  \n1      16420  \n2      16420  \n3      16420  \n4      16420  \n...      ...  \n16049  16896  \n16050  16896  \n16051  16896  \n16052  16896  \n16053  16896  \n\n[16054 rows x 9 columns]",
      "text/html": "<div>\n<style scoped>\n    .dataframe tbody tr th:only-of-type {\n        vertical-align: middle;\n    }\n\n    .dataframe tbody tr th {\n        vertical-align: top;\n    }\n\n    .dataframe thead th {\n        text-align: right;\n    }\n</style>\n<table border=\"1\" class=\"dataframe\">\n  <thead>\n    <tr style=\"text-align: right;\">\n      <th></th>\n      <th>Unnamed: 0</th>\n      <th>id</th>\n      <th>type</th>\n      <th>coordinates</th>\n      <th>mask</th>\n      <th>rle</th>\n      <th>source_wsi</th>\n      <th>i</th>\n      <th>j</th>\n    </tr>\n  </thead>\n  <tbody>\n    <tr>\n      <th>0</th>\n      <td>0</td>\n      <td>0006ff2aa7cd</td>\n      <td>blood_vessel</td>\n      <td>[[[283, 109], [282, 109], [281, 109], [280, 10...</td>\n      <td>[[0 0 0 ... 0 0 0]\\n [0 0 0 ... 0 0 0]\\n [0 0 ...</td>\n      <td>['139350 10 139860 17 140370 22 140880 27 1413...</td>\n      <td>2</td>\n      <td>16896</td>\n      <td>16420</td>\n    </tr>\n    <tr>\n      <th>1</th>\n      <td>1</td>\n      <td>0006ff2aa7cd</td>\n      <td>blood_vessel</td>\n      <td>[[[104, 292], [103, 292], [102, 292], [101, 29...</td>\n      <td>[[0 0 0 ... 0 0 0]\\n [0 0 0 ... 0 0 0]\\n [0 0 ...</td>\n      <td>['37108 4 37618 8 38129 11 38640 14 39152 15 3...</td>\n      <td>2</td>\n      <td>16896</td>\n      <td>16420</td>\n    </tr>\n    <tr>\n      <th>2</th>\n      <td>2</td>\n      <td>0006ff2aa7cd</td>\n      <td>blood_vessel</td>\n      <td>[[[505, 442], [504, 442], [503, 442], [502, 44...</td>\n      <td>[[0 0 0 ... 0 0 0]\\n [0 0 0 ... 0 0 0]\\n [0 0 ...</td>\n      <td>['250783 11 251292 20 251801 26 252311 30 2528...</td>\n      <td>2</td>\n      <td>16896</td>\n      <td>16420</td>\n    </tr>\n    <tr>\n      <th>3</th>\n      <td>3</td>\n      <td>0006ff2aa7cd</td>\n      <td>blood_vessel</td>\n      <td>[[[375, 477], [374, 477], [373, 477], [372, 47...</td>\n      <td>[[0 0 0 ... 0 0 0]\\n [0 0 0 ... 0 0 0]\\n [0 0 ...</td>\n      <td>['167352 5 167863 7 168374 10 168886 11 169398...</td>\n      <td>2</td>\n      <td>16896</td>\n      <td>16420</td>\n    </tr>\n    <tr>\n      <th>4</th>\n      <td>4</td>\n      <td>0006ff2aa7cd</td>\n      <td>blood_vessel</td>\n      <td>[[[368, 410], [367, 410], [366, 410], [365, 41...</td>\n      <td>[[0 0 0 ... 0 0 0]\\n [0 0 0 ... 0 0 0]\\n [0 0 ...</td>\n      <td>['171880 10 172389 18 172899 24 173410 28 1739...</td>\n      <td>2</td>\n      <td>16896</td>\n      <td>16420</td>\n    </tr>\n    <tr>\n      <th>...</th>\n      <td>...</td>\n      <td>...</td>\n      <td>...</td>\n      <td>...</td>\n      <td>...</td>\n      <td>...</td>\n      <td>...</td>\n      <td>...</td>\n      <td>...</td>\n    </tr>\n    <tr>\n      <th>16049</th>\n      <td>16049</td>\n      <td>ffd3d193c71e</td>\n      <td>blood_vessel</td>\n      <td>[[[184, 308], [183, 308], [182, 308], [181, 30...</td>\n      <td>[[0 0 0 ... 0 0 0]\\n [0 0 0 ... 0 0 0]\\n [0 0 ...</td>\n      <td>['88875 8 89385 11 89896 13 90407 15 90918 16 ...</td>\n      <td>3</td>\n      <td>7680</td>\n      <td>16896</td>\n    </tr>\n    <tr>\n      <th>16050</th>\n      <td>16050</td>\n      <td>ffd3d193c71e</td>\n      <td>blood_vessel</td>\n      <td>[[[42, 92], [41, 92], [40, 92], [39, 92], [38,...</td>\n      <td>[[0 0 0 ... 0 0 0]\\n [0 0 0 ... 0 0 0]\\n [0 0 ...</td>\n      <td>['14393 12 14904 20 15415 23 15925 28 16434 40...</td>\n      <td>3</td>\n      <td>7680</td>\n      <td>16896</td>\n    </tr>\n    <tr>\n      <th>16051</th>\n      <td>16051</td>\n      <td>ffd3d193c71e</td>\n      <td>blood_vessel</td>\n      <td>[[[287, 480], [286, 480], [285, 480], [284, 48...</td>\n      <td>[[0 0 0 ... 0 0 0]\\n [0 0 0 ... 0 0 0]\\n [0 0 ...</td>\n      <td>['140243 6 140750 13 141261 15 141772 17 14228...</td>\n      <td>3</td>\n      <td>7680</td>\n      <td>16896</td>\n    </tr>\n    <tr>\n      <th>16052</th>\n      <td>16052</td>\n      <td>ffd3d193c71e</td>\n      <td>blood_vessel</td>\n      <td>[[[493, 388], [492, 388], [491, 388], [490, 38...</td>\n      <td>[[0 0 0 ... 0 0 0]\\n [0 0 0 ... 0 0 0]\\n [0 0 ...</td>\n      <td>['244001 5 244512 7 244603 6 245023 9 245112 1...</td>\n      <td>3</td>\n      <td>7680</td>\n      <td>16896</td>\n    </tr>\n    <tr>\n      <th>16053</th>\n      <td>16053</td>\n      <td>ffd3d193c71e</td>\n      <td>blood_vessel</td>\n      <td>[[[64, 15], [63, 15], [62, 15], [61, 15], [61,...</td>\n      <td>[[0 0 0 ... 0 0 0]\\n [0 0 0 ... 0 0 0]\\n [0 0 ...</td>\n      <td>['27652 5 28162 9 28673 12 29185 13 29697 14 3...</td>\n      <td>3</td>\n      <td>7680</td>\n      <td>16896</td>\n    </tr>\n  </tbody>\n</table>\n<p>16054 rows × 9 columns</p>\n</div>"
     },
     "execution_count": 3,
     "metadata": {},
     "output_type": "execute_result"
    }
   ],
   "source": [
    "bv_ann_df = annotations_df[annotations_df[\"type\"] == \"blood_vessel\"]\n",
    "bv_ann_df"
   ],
   "metadata": {
    "collapsed": false
   }
  },
  {
   "cell_type": "code",
   "execution_count": 9,
   "outputs": [
    {
     "name": "stderr",
     "output_type": "stream",
     "text": [
      "100%|██████████| 1622/1622 [00:23<00:00, 68.85it/s] \n"
     ]
    }
   ],
   "source": [
    "generate_mask = False\n",
    "if generate_mask:\n",
    "    blank_img = np.zeros((512,512),dtype=np.uint8)\n",
    "    grouped_df = bv_ann_df.groupby('id')\n",
    "    bv_mask_save_src = r\"\\\\fatherserverdw\\Kevin\\hubmap\\unet++\\masks\\blood_vessel\"\n",
    "    for id_, group in tqdm(grouped_df):\n",
    "        mask_img = blank_img.copy()\n",
    "        for coords in group['coordinates']:\n",
    "            ex_coords = np.array(ast.literal_eval(coords))\n",
    "            cv2.fillPoly(mask_img, [ex_coords], 1)\n",
    "        cv2.imwrite(os.path.join(bv_mask_save_src,\"{}.png\".format(id_)), mask_img)"
   ],
   "metadata": {
    "collapsed": false
   }
  },
  {
   "cell_type": "code",
   "execution_count": 4,
   "outputs": [
    {
     "data": {
      "text/plain": "       Unnamed: 0            id        type  \\\n16054       16054  0006ff2aa7cd  glomerulus   \n16055       16055  00168d1b7522  glomerulus   \n16056       16056  004daf1cbe75  glomerulus   \n16057       16057  005715f0a313  glomerulus   \n16058       16058  005715f0a313  glomerulus   \n...           ...           ...         ...   \n16616       16616  ff99cdef0f2a  glomerulus   \n16617       16617  ffd3d193c71e  glomerulus   \n16618       16618  ffd3d193c71e  glomerulus   \n16619       16619  ffd3d193c71e  glomerulus   \n16620       16620  ffd3d193c71e  glomerulus   \n\n                                             coordinates  \\\n16054  [[[167, 249], [166, 249], [165, 249], [164, 24...   \n16055  [[[511, 216], [511, 216], [510, 216], [509, 21...   \n16056  [[[73, 232], [72, 232], [71, 232], [70, 232], ...   \n16057  [[[511, 507], [511, 507], [511, 506], [511, 50...   \n16058  [[[511, 507], [511, 507], [511, 506], [511, 50...   \n...                                                  ...   \n16616  [[[511, 101], [511, 101], [511, 100], [510, 10...   \n16617  [[[450, 193], [449, 193], [448, 193], [447, 19...   \n16618  [[[450, 193], [449, 193], [448, 193], [447, 19...   \n16619  [[[199, 511], [198, 511], [197, 511], [196, 51...   \n16620  [[[199, 511], [198, 511], [197, 511], [196, 51...   \n\n                                                    mask  \\\n16054  [[0 1 1 ... 0 0 0]\\n [1 1 1 ... 0 0 0]\\n [1 1 ...   \n16055  [[0 0 0 ... 1 1 1]\\n [0 0 0 ... 1 1 1]\\n [0 0 ...   \n16056  [[0 1 1 ... 0 0 0]\\n [1 1 1 ... 0 0 0]\\n [1 1 ...   \n16057  [[0 0 0 ... 0 0 0]\\n [0 0 0 ... 0 0 0]\\n [0 0 ...   \n16058  [[0 0 0 ... 0 0 0]\\n [0 0 0 ... 0 0 0]\\n [0 0 ...   \n...                                                  ...   \n16616  [[0 0 0 ... 1 1 1]\\n [0 0 0 ... 1 1 1]\\n [0 0 ...   \n16617  [[0 0 0 ... 1 1 1]\\n [0 0 0 ... 1 1 1]\\n [0 0 ...   \n16618  [[0 0 0 ... 1 1 1]\\n [0 0 0 ... 1 1 1]\\n [0 0 ...   \n16619  [[0 0 0 ... 0 0 0]\\n [0 0 0 ... 0 0 0]\\n [0 0 ...   \n16620  [[0 0 0 ... 0 0 0]\\n [0 0 0 ... 0 0 0]\\n [0 0 ...   \n\n                                                     rle  source_wsi      i  \\\n16054  ['2 105 513 107 1025 111 1537 113 2049 114 256...           2  16896   \n16055  ['199180 13 199682 39 200193 43 200705 51 2012...           2  14848   \n16056  ['2 222 513 223 1025 223 1537 223 2049 223 256...           3   6144   \n16057  ['208686 21 209177 51 209681 67 210191 72 2106...           3   8192   \n16058  ['208686 21 209177 51 209681 67 210191 72 2106...           3   8192   \n...                                                  ...         ...    ...   \n16616  ['240130 14 240641 23 241153 25 241665 30 2421...           4   5120   \n16617  ['157224 34 157729 45 158223 68 158731 74 1592...           3   7680   \n16618  ['157224 34 157729 45 158223 68 158731 74 1592...           3   7680   \n16619  ['13259 8 13761 23 14269 30 14774 40 15282 45 ...           3   7680   \n16620  ['13259 8 13761 23 14269 30 14774 40 15282 45 ...           3   7680   \n\n           j  \n16054  16420  \n16055  14884  \n16056  11264  \n16057  10752  \n16058  10752  \n...      ...  \n16616  24064  \n16617  16896  \n16618  16896  \n16619  16896  \n16620  16896  \n\n[567 rows x 9 columns]",
      "text/html": "<div>\n<style scoped>\n    .dataframe tbody tr th:only-of-type {\n        vertical-align: middle;\n    }\n\n    .dataframe tbody tr th {\n        vertical-align: top;\n    }\n\n    .dataframe thead th {\n        text-align: right;\n    }\n</style>\n<table border=\"1\" class=\"dataframe\">\n  <thead>\n    <tr style=\"text-align: right;\">\n      <th></th>\n      <th>Unnamed: 0</th>\n      <th>id</th>\n      <th>type</th>\n      <th>coordinates</th>\n      <th>mask</th>\n      <th>rle</th>\n      <th>source_wsi</th>\n      <th>i</th>\n      <th>j</th>\n    </tr>\n  </thead>\n  <tbody>\n    <tr>\n      <th>16054</th>\n      <td>16054</td>\n      <td>0006ff2aa7cd</td>\n      <td>glomerulus</td>\n      <td>[[[167, 249], [166, 249], [165, 249], [164, 24...</td>\n      <td>[[0 1 1 ... 0 0 0]\\n [1 1 1 ... 0 0 0]\\n [1 1 ...</td>\n      <td>['2 105 513 107 1025 111 1537 113 2049 114 256...</td>\n      <td>2</td>\n      <td>16896</td>\n      <td>16420</td>\n    </tr>\n    <tr>\n      <th>16055</th>\n      <td>16055</td>\n      <td>00168d1b7522</td>\n      <td>glomerulus</td>\n      <td>[[[511, 216], [511, 216], [510, 216], [509, 21...</td>\n      <td>[[0 0 0 ... 1 1 1]\\n [0 0 0 ... 1 1 1]\\n [0 0 ...</td>\n      <td>['199180 13 199682 39 200193 43 200705 51 2012...</td>\n      <td>2</td>\n      <td>14848</td>\n      <td>14884</td>\n    </tr>\n    <tr>\n      <th>16056</th>\n      <td>16056</td>\n      <td>004daf1cbe75</td>\n      <td>glomerulus</td>\n      <td>[[[73, 232], [72, 232], [71, 232], [70, 232], ...</td>\n      <td>[[0 1 1 ... 0 0 0]\\n [1 1 1 ... 0 0 0]\\n [1 1 ...</td>\n      <td>['2 222 513 223 1025 223 1537 223 2049 223 256...</td>\n      <td>3</td>\n      <td>6144</td>\n      <td>11264</td>\n    </tr>\n    <tr>\n      <th>16057</th>\n      <td>16057</td>\n      <td>005715f0a313</td>\n      <td>glomerulus</td>\n      <td>[[[511, 507], [511, 507], [511, 506], [511, 50...</td>\n      <td>[[0 0 0 ... 0 0 0]\\n [0 0 0 ... 0 0 0]\\n [0 0 ...</td>\n      <td>['208686 21 209177 51 209681 67 210191 72 2106...</td>\n      <td>3</td>\n      <td>8192</td>\n      <td>10752</td>\n    </tr>\n    <tr>\n      <th>16058</th>\n      <td>16058</td>\n      <td>005715f0a313</td>\n      <td>glomerulus</td>\n      <td>[[[511, 507], [511, 507], [511, 506], [511, 50...</td>\n      <td>[[0 0 0 ... 0 0 0]\\n [0 0 0 ... 0 0 0]\\n [0 0 ...</td>\n      <td>['208686 21 209177 51 209681 67 210191 72 2106...</td>\n      <td>3</td>\n      <td>8192</td>\n      <td>10752</td>\n    </tr>\n    <tr>\n      <th>...</th>\n      <td>...</td>\n      <td>...</td>\n      <td>...</td>\n      <td>...</td>\n      <td>...</td>\n      <td>...</td>\n      <td>...</td>\n      <td>...</td>\n      <td>...</td>\n    </tr>\n    <tr>\n      <th>16616</th>\n      <td>16616</td>\n      <td>ff99cdef0f2a</td>\n      <td>glomerulus</td>\n      <td>[[[511, 101], [511, 101], [511, 100], [510, 10...</td>\n      <td>[[0 0 0 ... 1 1 1]\\n [0 0 0 ... 1 1 1]\\n [0 0 ...</td>\n      <td>['240130 14 240641 23 241153 25 241665 30 2421...</td>\n      <td>4</td>\n      <td>5120</td>\n      <td>24064</td>\n    </tr>\n    <tr>\n      <th>16617</th>\n      <td>16617</td>\n      <td>ffd3d193c71e</td>\n      <td>glomerulus</td>\n      <td>[[[450, 193], [449, 193], [448, 193], [447, 19...</td>\n      <td>[[0 0 0 ... 1 1 1]\\n [0 0 0 ... 1 1 1]\\n [0 0 ...</td>\n      <td>['157224 34 157729 45 158223 68 158731 74 1592...</td>\n      <td>3</td>\n      <td>7680</td>\n      <td>16896</td>\n    </tr>\n    <tr>\n      <th>16618</th>\n      <td>16618</td>\n      <td>ffd3d193c71e</td>\n      <td>glomerulus</td>\n      <td>[[[450, 193], [449, 193], [448, 193], [447, 19...</td>\n      <td>[[0 0 0 ... 1 1 1]\\n [0 0 0 ... 1 1 1]\\n [0 0 ...</td>\n      <td>['157224 34 157729 45 158223 68 158731 74 1592...</td>\n      <td>3</td>\n      <td>7680</td>\n      <td>16896</td>\n    </tr>\n    <tr>\n      <th>16619</th>\n      <td>16619</td>\n      <td>ffd3d193c71e</td>\n      <td>glomerulus</td>\n      <td>[[[199, 511], [198, 511], [197, 511], [196, 51...</td>\n      <td>[[0 0 0 ... 0 0 0]\\n [0 0 0 ... 0 0 0]\\n [0 0 ...</td>\n      <td>['13259 8 13761 23 14269 30 14774 40 15282 45 ...</td>\n      <td>3</td>\n      <td>7680</td>\n      <td>16896</td>\n    </tr>\n    <tr>\n      <th>16620</th>\n      <td>16620</td>\n      <td>ffd3d193c71e</td>\n      <td>glomerulus</td>\n      <td>[[[199, 511], [198, 511], [197, 511], [196, 51...</td>\n      <td>[[0 0 0 ... 0 0 0]\\n [0 0 0 ... 0 0 0]\\n [0 0 ...</td>\n      <td>['13259 8 13761 23 14269 30 14774 40 15282 45 ...</td>\n      <td>3</td>\n      <td>7680</td>\n      <td>16896</td>\n    </tr>\n  </tbody>\n</table>\n<p>567 rows × 9 columns</p>\n</div>"
     },
     "execution_count": 4,
     "metadata": {},
     "output_type": "execute_result"
    }
   ],
   "source": [
    "glo_ann_df = annotations_df[annotations_df[\"type\"] == \"glomerulus\"]\n",
    "\n",
    "glo_ann_df"
   ],
   "metadata": {
    "collapsed": false
   }
  },
  {
   "cell_type": "code",
   "execution_count": 8,
   "outputs": [
    {
     "name": "stderr",
     "output_type": "stream",
     "text": [
      "100%|██████████| 435/435 [00:05<00:00, 76.12it/s] \n"
     ]
    }
   ],
   "source": [
    "generate_mask = False\n",
    "if generate_mask:\n",
    "    blank_img = np.zeros((512,512),dtype=np.uint8)\n",
    "    grouped_df = glo_ann_df.groupby('id')\n",
    "    glo_mask_save_src = r\"\\\\fatherserverdw\\Kevin\\hubmap\\unet++\\masks\\glomerulus\"\n",
    "    for id_, group in tqdm(grouped_df):\n",
    "        mask_img = blank_img.copy()\n",
    "        for coords in group['coordinates']:\n",
    "            ex_coords = np.array(ast.literal_eval(coords))\n",
    "            cv2.fillPoly(mask_img, [ex_coords], 1)\n",
    "        cv2.imwrite(os.path.join(glo_mask_save_src,\"{}.png\".format(id_)), mask_img)"
   ],
   "metadata": {
    "collapsed": false
   }
  },
  {
   "cell_type": "code",
   "execution_count": 7,
   "outputs": [],
   "source": [
    "# create blood vessel and glomerulus dataframes separately. Should include paths to images and masks\n",
    "bv_train_df = pd.DataFrame(columns=[\"id\",\"image_path\",\"mask_path\"])\n",
    "bv_img_list = [os.path.join(r\"\\\\fatherserverdw\\Kevin\\hubmap\\unet++\\images\",x) for x in os.listdir(r\"\\\\fatherserverdw\\Kevin\\hubmap\\unet++\\images\") if x.endswith('.tif')]\n",
    "bv_mask_list = [os.path.join(r\"\\\\fatherserverdw\\Kevin\\hubmap\\unet++\\masks\\blood_vessel\",x) for x in os.listdir(r\"\\\\fatherserverdw\\Kevin\\hubmap\\unet++\\images\") if x.endswith('.tif')]\n",
    "bv_mask_list = [x.replace(\".tif\",\".png\") for x in bv_mask_list]\n",
    "bv_ids = [os.path.basename(x).split(\".tif\")[0] for x in bv_img_list]\n",
    "bv_train_df[\"id\"] = bv_ids\n",
    "bv_train_df[\"image_path\"] = bv_img_list\n",
    "bv_train_df[\"mask_path\"] = bv_mask_list\n",
    "match_df = bv_ann_df.groupby('id').agg({'source_wsi': 'first'}).reset_index()\n",
    "bv_train_df = bv_train_df.merge(match_df[[\"id\",\"source_wsi\"]],on='id')\n",
    "bv_train_df\n",
    "bv_train_df.to_excel(r'\\\\fatherserverdw\\Kevin\\hubmap\\unet++\\bv_train_df.xlsx')"
   ],
   "metadata": {
    "collapsed": false
   }
  },
  {
   "cell_type": "code",
   "execution_count": 90,
   "outputs": [],
   "source": [
    "glo_train_df = pd.DataFrame(columns=[\"id\",\"image_path\",\"mask_path\"])\n",
    "glo_mask_list = [os.path.join(r\"\\\\fatherserverdw\\Kevin\\hubmap\\unet++\\masks\\glomerulus\",x) for x in os.listdir(r\"\\\\fatherserverdw\\Kevin\\hubmap\\unet++\\masks\\glomerulus\") if x.endswith(\".png\")]\n",
    "glo_ids = [os.path.basename(x).split(\".png\")[0] for x in glo_mask_list]\n",
    "glo_img_list = [os.path.join(r\"\\\\fatherserverdw\\Kevin\\hubmap\\unet++\\images\",x) + \".tif\" for x in glo_ids]\n",
    "glo_train_df[\"id\"] = glo_ids\n",
    "glo_train_df[\"image_path\"] = glo_img_list\n",
    "glo_train_df[\"mask_path\"] = glo_mask_list\n",
    "match_df = glo_ann_df.groupby('id').agg({'source_wsi': 'first'}).reset_index()\n",
    "glo_train_df = glo_train_df.merge(match_df[[\"id\",\"source_wsi\"]],on='id')\n",
    "glo_train_df\n",
    "glo_train_df.to_excel(r'\\\\fatherserverdw\\Kevin\\hubmap\\unet++\\glo_train_df.xlsx')"
   ],
   "metadata": {
    "collapsed": false
   }
  },
  {
   "cell_type": "markdown",
   "source": [
    "### Try adding dilation to the masks:"
   ],
   "metadata": {
    "collapsed": false
   }
  },
  {
   "cell_type": "code",
   "execution_count": 10,
   "outputs": [
    {
     "data": {
      "text/plain": "1622"
     },
     "execution_count": 10,
     "metadata": {},
     "output_type": "execute_result"
    }
   ],
   "source": [
    "from skimage.morphology import binary_dilation\n",
    "saved_mask_src = r\"\\\\fatherserverdw\\Kevin\\hubmap\\unet++\\masks\\blood_vessel\"\n",
    "saved_masks = os.listdir(saved_mask_src)\n",
    "saved_masks = [x for x in saved_masks if x.endswith('.png')]\n",
    "saved_masks_full = [os.path.join(saved_mask_src,x) for x in saved_masks]\n",
    "len(saved_masks)"
   ],
   "metadata": {
    "collapsed": false
   }
  },
  {
   "cell_type": "markdown",
   "source": [],
   "metadata": {
    "collapsed": false
   }
  },
  {
   "cell_type": "code",
   "execution_count": 24,
   "outputs": [
    {
     "name": "stderr",
     "output_type": "stream",
     "text": [
      "100%|██████████| 1622/1622 [00:43<00:00, 37.00it/s]\n"
     ]
    }
   ],
   "source": [
    "save_src = r\"\\\\fatherserverdw\\Kevin\\hubmap\\unet++\\masks\\blood_vessel_dilated\"\n",
    "for mask_src in tqdm(saved_masks_full):\n",
    "    mask = Image.open(mask_src)\n",
    "    maskra = np.array(mask)\n",
    "    dilated_mask = binary_dilation(maskra)\n",
    "    dilated_mask = dilated_mask.astype('uint8')\n",
    "    name = os.path.basename(mask_src)\n",
    "    Image.fromarray(dilated_mask).save(os.path.join(save_src,name))"
   ],
   "metadata": {
    "collapsed": false
   }
  },
  {
   "cell_type": "code",
   "execution_count": 3,
   "outputs": [
    {
     "data": {
      "text/plain": "435"
     },
     "execution_count": 3,
     "metadata": {},
     "output_type": "execute_result"
    }
   ],
   "source": [
    "new_df_train = pd.read_excel(r\"\\\\fatherserverdw\\Kevin\\hubmap\\unet++\\bv_train_df_CV.xlsx\")\n",
    "new_df_train"
   ],
   "metadata": {
    "collapsed": false
   }
  },
  {
   "cell_type": "code",
   "execution_count": 5,
   "outputs": [
    {
     "name": "stderr",
     "output_type": "stream",
     "text": [
      "100%|██████████| 435/435 [00:51<00:00,  8.45it/s]\n"
     ]
    }
   ],
   "source": [],
   "metadata": {
    "collapsed": false
   }
  }
 ],
 "metadata": {
  "kernelspec": {
   "display_name": "Python 3",
   "language": "python",
   "name": "python3"
  },
  "language_info": {
   "codemirror_mode": {
    "name": "ipython",
    "version": 2
   },
   "file_extension": ".py",
   "mimetype": "text/x-python",
   "name": "python",
   "nbconvert_exporter": "python",
   "pygments_lexer": "ipython2",
   "version": "2.7.6"
  }
 },
 "nbformat": 4,
 "nbformat_minor": 0
}
